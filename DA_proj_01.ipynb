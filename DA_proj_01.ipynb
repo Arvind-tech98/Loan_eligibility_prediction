{
  "nbformat": 4,
  "nbformat_minor": 0,
  "metadata": {
    "colab": {
      "name": "DA_proj.01.ipynb",
      "provenance": [],
      "collapsed_sections": []
    },
    "kernelspec": {
      "name": "python3",
      "display_name": "Python 3"
    },
    "language_info": {
      "name": "python"
    }
  },
  "cells": [
    {
      "cell_type": "markdown",
      "metadata": {
        "id": "k74w7U89g-_y"
      },
      "source": [
        "\n",
        "            --------------------Data Analyst Intern, Project-1---------------------\n",
        "\n",
        "\n",
        "Problem : **Choose an appropriate model for the project to predict the customers who are eligible for the loan and also find out what are the missing criteria, why other customers are not eligible for the loan and answer the following questions.**\n",
        "\n",
        "1. What's the ratio of male to female?\n",
        "2. hom many Males are married and non-married?\n",
        "3. how many females are married and non-married?\n",
        "4. how many Males and Females are graduated and non-graduated with respect to their Martial status?\n",
        "5. Which type of encoding will be required to perform on the \"Education\" column?\n",
        "6. Is it a male or a female whose loan amount is highest?\n",
        "7. The specification and information about the applicant who has the higest income?\n",
        "8. What all featueres are you going to consider for the model traing and why?\n",
        "9. Which model are you going to choose and define the reason for going with the same model?\n",
        "10. Have you performed the Hyper Parameter Tuning?\n",
        "11. Compare the Actual results with the predicted results?\n",
        "12. What's the accuracy of your model?\n",
        "13.In order to improve the accuracy, what more approaches can be done?\n",
        "14. What can you conclude with respect to the data?"
      ]
    },
    {
      "cell_type": "markdown",
      "metadata": {
        "id": "FAeLhBRYsJAU"
      },
      "source": [
        "Dataset Information:\n",
        "\n",
        "Loan_ID----------------> Unique Loan ID.\n",
        "\n",
        "Gender ----------------> Male/ Female\n",
        "\n",
        "Married ---------------> Applicant married (Y/N)\n",
        "\n",
        "Dependents ------------> Number of dependents\n",
        "\n",
        "Education -------------> Applicant Education (Graduate/ Under Graduate)\n",
        "\n",
        "Self_Employed ---------> Self-employed (Y/N)\n",
        "\n",
        "ApplicantIncome -------> Applicant income\n",
        "\n",
        "CoapplicantIncome -----> Coapplicant income\n",
        "\n",
        "LoanAmount ------------> Loan amount in thousands\n",
        "\n",
        "Loan_Amount_Term ------> Term of a loan in months\n",
        "\n",
        "Credit_History --------> Credit history meets guidelines\n",
        "\n",
        "Property_Area ---------> Urban/ Semi-Urban/ Rural\n",
        "\n",
        "Loan_Status -----------> Loan approved (Y/N)"
      ]
    },
    {
      "cell_type": "markdown",
      "metadata": {
        "id": "wUFoyqcQhI4X"
      },
      "source": [
        "**Dataset :** https://drive.google.com/drive/folders/1-QOrDBpVvXWb_zAsaxZnalmvUQRA7yOb?usp=sharing"
      ]
    },
    {
      "cell_type": "markdown",
      "metadata": {
        "id": "VN_SWIpzhKUz"
      },
      "source": [
        "**Abstract:** Our task is to automate the loan eligibility process based on customer detail. These details are Gender, Marital Status, Number of Dependents, Education, Income, Loan Amount, Credit History, loan status and other."
      ]
    },
    {
      "cell_type": "markdown",
      "metadata": {
        "id": "x36tgvbOhU0Y"
      },
      "source": [
        "**Header file**"
      ]
    },
    {
      "cell_type": "code",
      "metadata": {
        "id": "MtYrB4zABbiI"
      },
      "source": [
        "import pandas as pd\n",
        "import numpy as np\n",
        "import matplotlib.pyplot as plt\n",
        "import seaborn as sns       \n",
        "%matplotlib inline "
      ],
      "execution_count": 1,
      "outputs": []
    },
    {
      "cell_type": "markdown",
      "metadata": {
        "id": "8b9ay6w2hjRb"
      },
      "source": [
        "**Exploratory data analysis**"
      ]
    },
    {
      "cell_type": "code",
      "metadata": {
        "id": "esM_-XKsBmFv"
      },
      "source": [
        "#feteching dataset from google drive\n",
        "\n",
        "!pip install -U -q PyDrive\n",
        "\n",
        "from pydrive.auth import GoogleAuth\n",
        "from pydrive.drive import GoogleDrive\n",
        "from google.colab import auth\n",
        "from oauth2client.client import GoogleCredentials\n",
        "\n",
        "\n",
        "# Authenticate and create the PyDrive client.\n",
        "auth.authenticate_user()\n",
        "gauth = GoogleAuth()\n",
        "gauth.credentials = GoogleCredentials.get_application_default()\n",
        "drive = GoogleDrive(gauth)"
      ],
      "execution_count": 2,
      "outputs": []
    },
    {
      "cell_type": "code",
      "metadata": {
        "colab": {
          "base_uri": "https://localhost:8080/"
        },
        "id": "d3gO5LJRBw0r",
        "outputId": "ee545049-630a-4302-bbad-439ab3657490"
      },
      "source": [
        "link = 'https://drive.google.com/file/d/1MnHp15OkJb5-Zw3K5F29mH9o9CG7L-8x/view?usp=sharing'  #link for getting train dataset\n",
        "\n",
        "# to get the id part of the file\n",
        "id = link.split(\"/\")[-2]\n",
        "\n",
        "downloaded = drive.CreateFile({'id':id})\n",
        "downloaded.GetContentFile('Training Data.csv')\n",
        "\n",
        "train = pd.read_csv('Training Data.csv')\n",
        "print(train)"
      ],
      "execution_count": 3,
      "outputs": [
        {
          "output_type": "stream",
          "name": "stdout",
          "text": [
            "      Loan_ID  Gender Married  ... Credit_History Property_Area Loan_Status\n",
            "0    LP001002    Male      No  ...            1.0         Urban           Y\n",
            "1    LP001003    Male     Yes  ...            1.0         Rural           N\n",
            "2    LP001005    Male     Yes  ...            1.0         Urban           Y\n",
            "3    LP001006    Male     Yes  ...            1.0         Urban           Y\n",
            "4    LP001008    Male      No  ...            1.0         Urban           Y\n",
            "..        ...     ...     ...  ...            ...           ...         ...\n",
            "609  LP002978  Female      No  ...            1.0         Rural           Y\n",
            "610  LP002979    Male     Yes  ...            1.0         Rural           Y\n",
            "611  LP002983    Male     Yes  ...            1.0         Urban           Y\n",
            "612  LP002984    Male     Yes  ...            1.0         Urban           Y\n",
            "613  LP002990  Female      No  ...            0.0     Semiurban           N\n",
            "\n",
            "[614 rows x 13 columns]\n"
          ]
        }
      ]
    },
    {
      "cell_type": "code",
      "metadata": {
        "colab": {
          "base_uri": "https://localhost:8080/"
        },
        "id": "KFL1M8alCNeq",
        "outputId": "d86ec75f-bc2b-4cdc-88f2-0886c89893f2"
      },
      "source": [
        "train.Loan_Status=train.Loan_Status.map({'Y':1,'N':0})   \n",
        "train.isnull().sum()"
      ],
      "execution_count": 4,
      "outputs": [
        {
          "output_type": "execute_result",
          "data": {
            "text/plain": [
              "Loan_ID               0\n",
              "Gender               13\n",
              "Married               3\n",
              "Dependents           15\n",
              "Education             0\n",
              "Self_Employed        32\n",
              "ApplicantIncome       0\n",
              "CoapplicantIncome     0\n",
              "LoanAmount           22\n",
              "Loan_Amount_Term     14\n",
              "Credit_History       50\n",
              "Property_Area         0\n",
              "Loan_Status           0\n",
              "dtype: int64"
            ]
          },
          "metadata": {},
          "execution_count": 4
        }
      ]
    },
    {
      "cell_type": "code",
      "metadata": {
        "colab": {
          "base_uri": "https://localhost:8080/"
        },
        "id": "nsqH-qZ_CTM3",
        "outputId": "197ed4ab-3ec2-4695-c39a-41df903e1548"
      },
      "source": [
        "link2 = 'https://drive.google.com/file/d/1Rkwjxn27wTfm6lUkSoNWhaV0qbc7--yi/view?usp=sharing'  #link for getting test dataset\n",
        "\n",
        "# to get the id part of the file\n",
        "id2 = link2.split(\"/\")[-2]\n",
        "\n",
        "downloaded = drive.CreateFile({'id':id2})\n",
        "downloaded.GetContentFile('Testing Data.csv')\n",
        "\n",
        "test = pd.read_csv('Testing Data.csv')\n",
        "print(test)"
      ],
      "execution_count": 5,
      "outputs": [
        {
          "output_type": "stream",
          "name": "stdout",
          "text": [
            "      Loan_ID Gender Married  ... Loan_Amount_Term Credit_History Property_Area\n",
            "0    LP001015   Male     Yes  ...            360.0            1.0         Urban\n",
            "1    LP001022   Male     Yes  ...            360.0            1.0         Urban\n",
            "2    LP001031   Male     Yes  ...            360.0            1.0         Urban\n",
            "3    LP001035   Male     Yes  ...            360.0            NaN         Urban\n",
            "4    LP001051   Male      No  ...            360.0            1.0         Urban\n",
            "..        ...    ...     ...  ...              ...            ...           ...\n",
            "362  LP002971   Male     Yes  ...            360.0            1.0         Urban\n",
            "363  LP002975   Male     Yes  ...            360.0            1.0         Urban\n",
            "364  LP002980   Male      No  ...            360.0            NaN     Semiurban\n",
            "365  LP002986   Male     Yes  ...            360.0            1.0         Rural\n",
            "366  LP002989   Male      No  ...            180.0            1.0         Rural\n",
            "\n",
            "[367 rows x 12 columns]\n"
          ]
        }
      ]
    },
    {
      "cell_type": "code",
      "metadata": {
        "colab": {
          "base_uri": "https://localhost:8080/",
          "height": 241
        },
        "id": "q1WbOcpsC0UG",
        "outputId": "91886e5a-17f5-4898-a6d0-430562eb35cc"
      },
      "source": [
        "Loan_status=train.Loan_Status\n",
        "train.drop('Loan_Status',axis=1,inplace=True)\n",
        "Loan_ID=test.Loan_ID\n",
        "data=train.append(test)\n",
        "data.head()"
      ],
      "execution_count": 6,
      "outputs": [
        {
          "output_type": "execute_result",
          "data": {
            "text/html": [
              "<div>\n",
              "<style scoped>\n",
              "    .dataframe tbody tr th:only-of-type {\n",
              "        vertical-align: middle;\n",
              "    }\n",
              "\n",
              "    .dataframe tbody tr th {\n",
              "        vertical-align: top;\n",
              "    }\n",
              "\n",
              "    .dataframe thead th {\n",
              "        text-align: right;\n",
              "    }\n",
              "</style>\n",
              "<table border=\"1\" class=\"dataframe\">\n",
              "  <thead>\n",
              "    <tr style=\"text-align: right;\">\n",
              "      <th></th>\n",
              "      <th>Loan_ID</th>\n",
              "      <th>Gender</th>\n",
              "      <th>Married</th>\n",
              "      <th>Dependents</th>\n",
              "      <th>Education</th>\n",
              "      <th>Self_Employed</th>\n",
              "      <th>ApplicantIncome</th>\n",
              "      <th>CoapplicantIncome</th>\n",
              "      <th>LoanAmount</th>\n",
              "      <th>Loan_Amount_Term</th>\n",
              "      <th>Credit_History</th>\n",
              "      <th>Property_Area</th>\n",
              "    </tr>\n",
              "  </thead>\n",
              "  <tbody>\n",
              "    <tr>\n",
              "      <th>0</th>\n",
              "      <td>LP001002</td>\n",
              "      <td>Male</td>\n",
              "      <td>No</td>\n",
              "      <td>0</td>\n",
              "      <td>Graduate</td>\n",
              "      <td>No</td>\n",
              "      <td>5849</td>\n",
              "      <td>0.0</td>\n",
              "      <td>NaN</td>\n",
              "      <td>360.0</td>\n",
              "      <td>1.0</td>\n",
              "      <td>Urban</td>\n",
              "    </tr>\n",
              "    <tr>\n",
              "      <th>1</th>\n",
              "      <td>LP001003</td>\n",
              "      <td>Male</td>\n",
              "      <td>Yes</td>\n",
              "      <td>1</td>\n",
              "      <td>Graduate</td>\n",
              "      <td>No</td>\n",
              "      <td>4583</td>\n",
              "      <td>1508.0</td>\n",
              "      <td>128.0</td>\n",
              "      <td>360.0</td>\n",
              "      <td>1.0</td>\n",
              "      <td>Rural</td>\n",
              "    </tr>\n",
              "    <tr>\n",
              "      <th>2</th>\n",
              "      <td>LP001005</td>\n",
              "      <td>Male</td>\n",
              "      <td>Yes</td>\n",
              "      <td>0</td>\n",
              "      <td>Graduate</td>\n",
              "      <td>Yes</td>\n",
              "      <td>3000</td>\n",
              "      <td>0.0</td>\n",
              "      <td>66.0</td>\n",
              "      <td>360.0</td>\n",
              "      <td>1.0</td>\n",
              "      <td>Urban</td>\n",
              "    </tr>\n",
              "    <tr>\n",
              "      <th>3</th>\n",
              "      <td>LP001006</td>\n",
              "      <td>Male</td>\n",
              "      <td>Yes</td>\n",
              "      <td>0</td>\n",
              "      <td>Not Graduate</td>\n",
              "      <td>No</td>\n",
              "      <td>2583</td>\n",
              "      <td>2358.0</td>\n",
              "      <td>120.0</td>\n",
              "      <td>360.0</td>\n",
              "      <td>1.0</td>\n",
              "      <td>Urban</td>\n",
              "    </tr>\n",
              "    <tr>\n",
              "      <th>4</th>\n",
              "      <td>LP001008</td>\n",
              "      <td>Male</td>\n",
              "      <td>No</td>\n",
              "      <td>0</td>\n",
              "      <td>Graduate</td>\n",
              "      <td>No</td>\n",
              "      <td>6000</td>\n",
              "      <td>0.0</td>\n",
              "      <td>141.0</td>\n",
              "      <td>360.0</td>\n",
              "      <td>1.0</td>\n",
              "      <td>Urban</td>\n",
              "    </tr>\n",
              "  </tbody>\n",
              "</table>\n",
              "</div>"
            ],
            "text/plain": [
              "    Loan_ID Gender Married  ... Loan_Amount_Term Credit_History Property_Area\n",
              "0  LP001002   Male      No  ...            360.0            1.0         Urban\n",
              "1  LP001003   Male     Yes  ...            360.0            1.0         Rural\n",
              "2  LP001005   Male     Yes  ...            360.0            1.0         Urban\n",
              "3  LP001006   Male     Yes  ...            360.0            1.0         Urban\n",
              "4  LP001008   Male      No  ...            360.0            1.0         Urban\n",
              "\n",
              "[5 rows x 12 columns]"
            ]
          },
          "metadata": {},
          "execution_count": 6
        }
      ]
    },
    {
      "cell_type": "code",
      "metadata": {
        "colab": {
          "base_uri": "https://localhost:8080/",
          "height": 241
        },
        "id": "8dyV0cU3j_jN",
        "outputId": "15b23f57-2c66-4fce-ee75-195d4d52248d"
      },
      "source": [
        "data.tail()"
      ],
      "execution_count": 7,
      "outputs": [
        {
          "output_type": "execute_result",
          "data": {
            "text/html": [
              "<div>\n",
              "<style scoped>\n",
              "    .dataframe tbody tr th:only-of-type {\n",
              "        vertical-align: middle;\n",
              "    }\n",
              "\n",
              "    .dataframe tbody tr th {\n",
              "        vertical-align: top;\n",
              "    }\n",
              "\n",
              "    .dataframe thead th {\n",
              "        text-align: right;\n",
              "    }\n",
              "</style>\n",
              "<table border=\"1\" class=\"dataframe\">\n",
              "  <thead>\n",
              "    <tr style=\"text-align: right;\">\n",
              "      <th></th>\n",
              "      <th>Loan_ID</th>\n",
              "      <th>Gender</th>\n",
              "      <th>Married</th>\n",
              "      <th>Dependents</th>\n",
              "      <th>Education</th>\n",
              "      <th>Self_Employed</th>\n",
              "      <th>ApplicantIncome</th>\n",
              "      <th>CoapplicantIncome</th>\n",
              "      <th>LoanAmount</th>\n",
              "      <th>Loan_Amount_Term</th>\n",
              "      <th>Credit_History</th>\n",
              "      <th>Property_Area</th>\n",
              "    </tr>\n",
              "  </thead>\n",
              "  <tbody>\n",
              "    <tr>\n",
              "      <th>362</th>\n",
              "      <td>LP002971</td>\n",
              "      <td>Male</td>\n",
              "      <td>Yes</td>\n",
              "      <td>3+</td>\n",
              "      <td>Not Graduate</td>\n",
              "      <td>Yes</td>\n",
              "      <td>4009</td>\n",
              "      <td>1777.0</td>\n",
              "      <td>113.0</td>\n",
              "      <td>360.0</td>\n",
              "      <td>1.0</td>\n",
              "      <td>Urban</td>\n",
              "    </tr>\n",
              "    <tr>\n",
              "      <th>363</th>\n",
              "      <td>LP002975</td>\n",
              "      <td>Male</td>\n",
              "      <td>Yes</td>\n",
              "      <td>0</td>\n",
              "      <td>Graduate</td>\n",
              "      <td>No</td>\n",
              "      <td>4158</td>\n",
              "      <td>709.0</td>\n",
              "      <td>115.0</td>\n",
              "      <td>360.0</td>\n",
              "      <td>1.0</td>\n",
              "      <td>Urban</td>\n",
              "    </tr>\n",
              "    <tr>\n",
              "      <th>364</th>\n",
              "      <td>LP002980</td>\n",
              "      <td>Male</td>\n",
              "      <td>No</td>\n",
              "      <td>0</td>\n",
              "      <td>Graduate</td>\n",
              "      <td>No</td>\n",
              "      <td>3250</td>\n",
              "      <td>1993.0</td>\n",
              "      <td>126.0</td>\n",
              "      <td>360.0</td>\n",
              "      <td>NaN</td>\n",
              "      <td>Semiurban</td>\n",
              "    </tr>\n",
              "    <tr>\n",
              "      <th>365</th>\n",
              "      <td>LP002986</td>\n",
              "      <td>Male</td>\n",
              "      <td>Yes</td>\n",
              "      <td>0</td>\n",
              "      <td>Graduate</td>\n",
              "      <td>No</td>\n",
              "      <td>5000</td>\n",
              "      <td>2393.0</td>\n",
              "      <td>158.0</td>\n",
              "      <td>360.0</td>\n",
              "      <td>1.0</td>\n",
              "      <td>Rural</td>\n",
              "    </tr>\n",
              "    <tr>\n",
              "      <th>366</th>\n",
              "      <td>LP002989</td>\n",
              "      <td>Male</td>\n",
              "      <td>No</td>\n",
              "      <td>0</td>\n",
              "      <td>Graduate</td>\n",
              "      <td>Yes</td>\n",
              "      <td>9200</td>\n",
              "      <td>0.0</td>\n",
              "      <td>98.0</td>\n",
              "      <td>180.0</td>\n",
              "      <td>1.0</td>\n",
              "      <td>Rural</td>\n",
              "    </tr>\n",
              "  </tbody>\n",
              "</table>\n",
              "</div>"
            ],
            "text/plain": [
              "      Loan_ID Gender Married  ... Loan_Amount_Term Credit_History Property_Area\n",
              "362  LP002971   Male     Yes  ...            360.0            1.0         Urban\n",
              "363  LP002975   Male     Yes  ...            360.0            1.0         Urban\n",
              "364  LP002980   Male      No  ...            360.0            NaN     Semiurban\n",
              "365  LP002986   Male     Yes  ...            360.0            1.0         Rural\n",
              "366  LP002989   Male      No  ...            180.0            1.0         Rural\n",
              "\n",
              "[5 rows x 12 columns]"
            ]
          },
          "metadata": {},
          "execution_count": 7
        }
      ]
    },
    {
      "cell_type": "code",
      "metadata": {
        "colab": {
          "base_uri": "https://localhost:8080/",
          "height": 298
        },
        "id": "7KEL6fZ9C7C3",
        "outputId": "8279d27c-a17b-4fe7-e8ba-2db2f3142152"
      },
      "source": [
        "data.describe()"
      ],
      "execution_count": 8,
      "outputs": [
        {
          "output_type": "execute_result",
          "data": {
            "text/html": [
              "<div>\n",
              "<style scoped>\n",
              "    .dataframe tbody tr th:only-of-type {\n",
              "        vertical-align: middle;\n",
              "    }\n",
              "\n",
              "    .dataframe tbody tr th {\n",
              "        vertical-align: top;\n",
              "    }\n",
              "\n",
              "    .dataframe thead th {\n",
              "        text-align: right;\n",
              "    }\n",
              "</style>\n",
              "<table border=\"1\" class=\"dataframe\">\n",
              "  <thead>\n",
              "    <tr style=\"text-align: right;\">\n",
              "      <th></th>\n",
              "      <th>ApplicantIncome</th>\n",
              "      <th>CoapplicantIncome</th>\n",
              "      <th>LoanAmount</th>\n",
              "      <th>Loan_Amount_Term</th>\n",
              "      <th>Credit_History</th>\n",
              "    </tr>\n",
              "  </thead>\n",
              "  <tbody>\n",
              "    <tr>\n",
              "      <th>count</th>\n",
              "      <td>981.000000</td>\n",
              "      <td>981.000000</td>\n",
              "      <td>954.000000</td>\n",
              "      <td>961.000000</td>\n",
              "      <td>902.000000</td>\n",
              "    </tr>\n",
              "    <tr>\n",
              "      <th>mean</th>\n",
              "      <td>5179.795107</td>\n",
              "      <td>1601.916330</td>\n",
              "      <td>142.511530</td>\n",
              "      <td>342.201873</td>\n",
              "      <td>0.835920</td>\n",
              "    </tr>\n",
              "    <tr>\n",
              "      <th>std</th>\n",
              "      <td>5695.104533</td>\n",
              "      <td>2718.772806</td>\n",
              "      <td>77.421743</td>\n",
              "      <td>65.100602</td>\n",
              "      <td>0.370553</td>\n",
              "    </tr>\n",
              "    <tr>\n",
              "      <th>min</th>\n",
              "      <td>0.000000</td>\n",
              "      <td>0.000000</td>\n",
              "      <td>9.000000</td>\n",
              "      <td>6.000000</td>\n",
              "      <td>0.000000</td>\n",
              "    </tr>\n",
              "    <tr>\n",
              "      <th>25%</th>\n",
              "      <td>2875.000000</td>\n",
              "      <td>0.000000</td>\n",
              "      <td>100.000000</td>\n",
              "      <td>360.000000</td>\n",
              "      <td>1.000000</td>\n",
              "    </tr>\n",
              "    <tr>\n",
              "      <th>50%</th>\n",
              "      <td>3800.000000</td>\n",
              "      <td>1110.000000</td>\n",
              "      <td>126.000000</td>\n",
              "      <td>360.000000</td>\n",
              "      <td>1.000000</td>\n",
              "    </tr>\n",
              "    <tr>\n",
              "      <th>75%</th>\n",
              "      <td>5516.000000</td>\n",
              "      <td>2365.000000</td>\n",
              "      <td>162.000000</td>\n",
              "      <td>360.000000</td>\n",
              "      <td>1.000000</td>\n",
              "    </tr>\n",
              "    <tr>\n",
              "      <th>max</th>\n",
              "      <td>81000.000000</td>\n",
              "      <td>41667.000000</td>\n",
              "      <td>700.000000</td>\n",
              "      <td>480.000000</td>\n",
              "      <td>1.000000</td>\n",
              "    </tr>\n",
              "  </tbody>\n",
              "</table>\n",
              "</div>"
            ],
            "text/plain": [
              "       ApplicantIncome  CoapplicantIncome  ...  Loan_Amount_Term  Credit_History\n",
              "count       981.000000         981.000000  ...        961.000000      902.000000\n",
              "mean       5179.795107        1601.916330  ...        342.201873        0.835920\n",
              "std        5695.104533        2718.772806  ...         65.100602        0.370553\n",
              "min           0.000000           0.000000  ...          6.000000        0.000000\n",
              "25%        2875.000000           0.000000  ...        360.000000        1.000000\n",
              "50%        3800.000000        1110.000000  ...        360.000000        1.000000\n",
              "75%        5516.000000        2365.000000  ...        360.000000        1.000000\n",
              "max       81000.000000       41667.000000  ...        480.000000        1.000000\n",
              "\n",
              "[8 rows x 5 columns]"
            ]
          },
          "metadata": {},
          "execution_count": 8
        }
      ]
    },
    {
      "cell_type": "markdown",
      "metadata": {
        "id": "fWSK7jnojUKP"
      },
      "source": [
        "We found some values(data) were missing. So, we have to clean the data first. Also, there seems to be some outliers for the applicant income, coapplicant income and loan amount. It was also found that about 83% of applicants have a credit_history."
      ]
    },
    {
      "cell_type": "markdown",
      "metadata": {
        "id": "lAIWJSFI9yFA"
      },
      "source": [
        "# Finding the null value"
      ]
    },
    {
      "cell_type": "code",
      "metadata": {
        "colab": {
          "base_uri": "https://localhost:8080/"
        },
        "id": "WRJ0vTBaD8vR",
        "outputId": "38b9c3d6-1862-40bb-bc2f-1a73048fff78"
      },
      "source": [
        "data.isnull().sum()"
      ],
      "execution_count": 9,
      "outputs": [
        {
          "output_type": "execute_result",
          "data": {
            "text/plain": [
              "Loan_ID               0\n",
              "Gender               24\n",
              "Married               3\n",
              "Dependents           25\n",
              "Education             0\n",
              "Self_Employed        55\n",
              "ApplicantIncome       0\n",
              "CoapplicantIncome     0\n",
              "LoanAmount           27\n",
              "Loan_Amount_Term     20\n",
              "Credit_History       79\n",
              "Property_Area         0\n",
              "dtype: int64"
            ]
          },
          "metadata": {},
          "execution_count": 9
        }
      ]
    },
    {
      "cell_type": "code",
      "metadata": {
        "colab": {
          "base_uri": "https://localhost:8080/"
        },
        "id": "jdiXwVBij2Zx",
        "outputId": "f5b381fc-7bc1-471a-c040-9ad778cf0a25"
      },
      "source": [
        "data.info()"
      ],
      "execution_count": 10,
      "outputs": [
        {
          "output_type": "stream",
          "name": "stdout",
          "text": [
            "<class 'pandas.core.frame.DataFrame'>\n",
            "Int64Index: 981 entries, 0 to 366\n",
            "Data columns (total 12 columns):\n",
            " #   Column             Non-Null Count  Dtype  \n",
            "---  ------             --------------  -----  \n",
            " 0   Loan_ID            981 non-null    object \n",
            " 1   Gender             957 non-null    object \n",
            " 2   Married            978 non-null    object \n",
            " 3   Dependents         956 non-null    object \n",
            " 4   Education          981 non-null    object \n",
            " 5   Self_Employed      926 non-null    object \n",
            " 6   ApplicantIncome    981 non-null    int64  \n",
            " 7   CoapplicantIncome  981 non-null    float64\n",
            " 8   LoanAmount         954 non-null    float64\n",
            " 9   Loan_Amount_Term   961 non-null    float64\n",
            " 10  Credit_History     902 non-null    float64\n",
            " 11  Property_Area      981 non-null    object \n",
            "dtypes: float64(4), int64(1), object(7)\n",
            "memory usage: 99.6+ KB\n"
          ]
        }
      ]
    },
    {
      "cell_type": "markdown",
      "metadata": {
        "id": "IQoXfKT6kieW"
      },
      "source": [
        "Firstly, we study the distribution of variables between the Applicant income and the loan amount. Data visulization with the help of seaborn."
      ]
    },
    {
      "cell_type": "markdown",
      "metadata": {
        "id": "hLYLGN5QmKtR"
      },
      "source": [
        "#**Data visulization**"
      ]
    },
    {
      "cell_type": "code",
      "metadata": {
        "colab": {
          "base_uri": "https://localhost:8080/",
          "height": 351
        },
        "id": "R3eIme_rkyHt",
        "outputId": "bf32b1d5-11a5-4442-e2a8-8f6918a49470"
      },
      "source": [
        "sns.distplot(data.ApplicantIncome,kde=False)"
      ],
      "execution_count": 11,
      "outputs": [
        {
          "output_type": "stream",
          "name": "stderr",
          "text": [
            "/usr/local/lib/python3.7/dist-packages/seaborn/distributions.py:2619: FutureWarning: `distplot` is a deprecated function and will be removed in a future version. Please adapt your code to use either `displot` (a figure-level function with similar flexibility) or `histplot` (an axes-level function for histograms).\n",
            "  warnings.warn(msg, FutureWarning)\n"
          ]
        },
        {
          "output_type": "execute_result",
          "data": {
            "text/plain": [
              "<matplotlib.axes._subplots.AxesSubplot at 0x7f43f9aea250>"
            ]
          },
          "metadata": {},
          "execution_count": 11
        },
        {
          "output_type": "display_data",
          "data": {
            "image/png": "[encoded data removed]",
            "text/plain": [
              "<Figure size 432x288 with 1 Axes>"
            ]
          },
          "metadata": {
            "needs_background": "light"
          }
        }
      ]
    },
    {
      "cell_type": "markdown",
      "metadata": {
        "id": "ss2jnDXCk2Bq"
      },
      "source": [
        "The distribution is skewed and we can notice quite a few outliers. As there seems to be some missing values in Loan Amount, we can't plot it directly, but if we drop the missing values then plot it, this can be possible with **dropna function**.\n"
      ]
    },
    {
      "cell_type": "code",
      "metadata": {
        "colab": {
          "base_uri": "https://localhost:8080/",
          "height": 351
        },
        "id": "2Pre8d2jk6Hi",
        "outputId": "a7694fc2-403e-43d4-8da2-eef2679fa94c"
      },
      "source": [
        "sns.distplot(data.ApplicantIncome.dropna(),kde=False)"
      ],
      "execution_count": 12,
      "outputs": [
        {
          "output_type": "stream",
          "name": "stderr",
          "text": [
            "/usr/local/lib/python3.7/dist-packages/seaborn/distributions.py:2619: FutureWarning: `distplot` is a deprecated function and will be removed in a future version. Please adapt your code to use either `displot` (a figure-level function with similar flexibility) or `histplot` (an axes-level function for histograms).\n",
            "  warnings.warn(msg, FutureWarning)\n"
          ]
        },
        {
          "output_type": "execute_result",
          "data": {
            "text/plain": [
              "<matplotlib.axes._subplots.AxesSubplot at 0x7f43f99bedd0>"
            ]
          },
          "metadata": {},
          "execution_count": 12
        },
        {
          "output_type": "display_data",
          "data": {
            "image/png": "[encoded data removed]",
            "text/plain": [
              "<Figure size 432x288 with 1 Axes>"
            ]
          },
          "metadata": {
            "needs_background": "light"
          }
        }
      ]
    },
    {
      "cell_type": "markdown",
      "metadata": {
        "id": "dyIYKN9elFwK"
      },
      "source": [
        "#Ploting graph between Education and ApplicantIncome."
      ]
    },
    {
      "cell_type": "code",
      "metadata": {
        "colab": {
          "base_uri": "https://localhost:8080/",
          "height": 296
        },
        "id": "xgCCqlZklIy5",
        "outputId": "e9a6b5e6-2b44-4fc6-c390-cf91f7fb48b2"
      },
      "source": [
        "sns.boxplot(x='Education',y='ApplicantIncome',data=train)"
      ],
      "execution_count": 13,
      "outputs": [
        {
          "output_type": "execute_result",
          "data": {
            "text/plain": [
              "<matplotlib.axes._subplots.AxesSubplot at 0x7f43f9471410>"
            ]
          },
          "metadata": {},
          "execution_count": 13
        },
        {
          "output_type": "display_data",
          "data": {
            "image/png": "[encoded data removed]",
            "text/plain": [
              "<Figure size 432x288 with 1 Axes>"
            ]
          },
          "metadata": {
            "needs_background": "light"
          }
        }
      ]
    },
    {
      "cell_type": "markdown",
      "metadata": {
        "id": "C-r9Yh1ulRBr"
      },
      "source": [
        "It can be observed that the graduates have more outliers which means that the people with huge income are most likely well educated.\n",
        "\n",
        "\n",
        "Another interesting variable is credit history , to check how it affects the Loan Status we can turn it into binary then calculate it’s mean for each value of credit history . A value close to 1 indicates a high loan success rate."
      ]
    },
    {
      "cell_type": "code",
      "metadata": {
        "colab": {
          "base_uri": "https://localhost:8080/",
          "height": 282
        },
        "id": "GO-A1KQ3lXce",
        "outputId": "f27364eb-3d30-4ff9-edb9-8a5b86e372af"
      },
      "source": [
        "data['LoanAmount'].hist(bins=50)"
      ],
      "execution_count": 14,
      "outputs": [
        {
          "output_type": "execute_result",
          "data": {
            "text/plain": [
              "<matplotlib.axes._subplots.AxesSubplot at 0x7f43f9358190>"
            ]
          },
          "metadata": {},
          "execution_count": 14
        },
        {
          "output_type": "display_data",
          "data": {
            "image/png": "[encoded data removed]",
            "text/plain": [
              "<Figure size 432x288 with 1 Axes>"
            ]
          },
          "metadata": {
            "needs_background": "light"
          }
        }
      ]
    },
    {
      "cell_type": "markdown",
      "metadata": {
        "id": "LETNBK-wf1Wt"
      },
      "source": [
        "## **Q. 6 Is it a male or a female whose loan amount is the highest?**"
      ]
    },
    {
      "cell_type": "code",
      "metadata": {
        "colab": {
          "base_uri": "https://localhost:8080/",
          "height": 296
        },
        "id": "J9MkRkXelk5k",
        "outputId": "5117b708-e113-45f3-d171-b026e38d8189"
      },
      "source": [
        "# Box Plot for variable LoanAmount by variable Gender of training data set\n",
        "#train.boxplot(column='LoanAmount', by = 'Gender')\n",
        "sns.boxplot(x='Gender',y='LoanAmount',data=data)"
      ],
      "execution_count": 15,
      "outputs": [
        {
          "output_type": "execute_result",
          "data": {
            "text/plain": [
              "<matplotlib.axes._subplots.AxesSubplot at 0x7f43f9275ad0>"
            ]
          },
          "metadata": {},
          "execution_count": 15
        },
        {
          "output_type": "display_data",
          "data": {
            "image/png": "[encoded data removed]",
            "text/plain": [
              "<Figure size 432x288 with 1 Axes>"
            ]
          },
          "metadata": {
            "needs_background": "light"
          }
        }
      ]
    },
    {
      "cell_type": "markdown",
      "metadata": {
        "id": "nbhl8VyPlqhQ"
      },
      "source": [
        "\n",
        "\n",
        "> It can be observed that Male are getting higher loan amount then female.\n",
        "\n"
      ]
    },
    {
      "cell_type": "code",
      "metadata": {
        "colab": {
          "base_uri": "https://localhost:8080/",
          "height": 601
        },
        "id": "Iwc5jEe9EA-F",
        "outputId": "f462f3dc-7c55-49a5-9bf0-f3221559836c"
      },
      "source": [
        "%matplotlib inline \n",
        "corrmat=data.corr()\n",
        "f,ax=plt.subplots(figsize=(9,9))\n",
        "sns.heatmap(corrmat,vmax=.8,square=True)"
      ],
      "execution_count": 16,
      "outputs": [
        {
          "output_type": "execute_result",
          "data": {
            "text/plain": [
              "<matplotlib.axes._subplots.AxesSubplot at 0x7f43f91ef390>"
            ]
          },
          "metadata": {},
          "execution_count": 16
        },
        {
          "output_type": "display_data",
          "data": {
            "image/png": "[encoded data removed]",
            "text/plain": [
              "<Figure size 648x648 with 2 Axes>"
            ]
          },
          "metadata": {
            "needs_background": "light"
          }
        }
      ]
    },
    {
      "cell_type": "markdown",
      "metadata": {
        "id": "i2EqYqvBl_0R"
      },
      "source": [
        "#**Data cleaning**"
      ]
    },
    {
      "cell_type": "code",
      "metadata": {
        "colab": {
          "base_uri": "https://localhost:8080/"
        },
        "id": "2Oz9IpwSEJ4F",
        "outputId": "e40b2c01-29b0-4c05-cb9a-93b1bf6a78a6"
      },
      "source": [
        "data.Gender=data.Gender.map({'Male':1,'Female':0})\n",
        "data.Gender.value_counts()"
      ],
      "execution_count": 17,
      "outputs": [
        {
          "output_type": "execute_result",
          "data": {
            "text/plain": [
              "1.0    775\n",
              "0.0    182\n",
              "Name: Gender, dtype: int64"
            ]
          },
          "metadata": {},
          "execution_count": 17
        }
      ]
    },
    {
      "cell_type": "code",
      "metadata": {
        "colab": {
          "base_uri": "https://localhost:8080/",
          "height": 601
        },
        "id": "NBnFjE4TENOg",
        "outputId": "9a2b5024-0499-4b84-f33a-eb69887996b1"
      },
      "source": [
        "corrmat=data.corr()\n",
        "f,ax=plt.subplots(figsize=(9,9))\n",
        "sns.heatmap(corrmat,vmax=.8,square=True)"
      ],
      "execution_count": 18,
      "outputs": [
        {
          "output_type": "execute_result",
          "data": {
            "text/plain": [
              "<matplotlib.axes._subplots.AxesSubplot at 0x7f43f10c0690>"
            ]
          },
          "metadata": {},
          "execution_count": 18
        },
        {
          "output_type": "display_data",
          "data": {
            "image/png": "[encoded data removed]",
            "text/plain": [
              "<Figure size 648x648 with 2 Axes>"
            ]
          },
          "metadata": {
            "needs_background": "light"
          }
        }
      ]
    },
    {
      "cell_type": "code",
      "metadata": {
        "id": "zjHF6wyXEQI3"
      },
      "source": [
        "data.Married=data.Married.map({'Yes':1,'No':0})"
      ],
      "execution_count": 19,
      "outputs": []
    },
    {
      "cell_type": "code",
      "metadata": {
        "colab": {
          "base_uri": "https://localhost:8080/"
        },
        "id": "DMP-nFEFETYf",
        "outputId": "b5edf7aa-64d2-475c-a762-f9c52565149a"
      },
      "source": [
        "data.Married.value_counts()"
      ],
      "execution_count": 20,
      "outputs": [
        {
          "output_type": "execute_result",
          "data": {
            "text/plain": [
              "1.0    631\n",
              "0.0    347\n",
              "Name: Married, dtype: int64"
            ]
          },
          "metadata": {},
          "execution_count": 20
        }
      ]
    },
    {
      "cell_type": "code",
      "metadata": {
        "id": "Jrp8tPJNEVfa"
      },
      "source": [
        "data.Dependents=data.Dependents.map({'0':0,'1':1,'2':2,'3+':3})"
      ],
      "execution_count": 21,
      "outputs": []
    },
    {
      "cell_type": "code",
      "metadata": {
        "colab": {
          "base_uri": "https://localhost:8080/"
        },
        "id": "VswG7dSNEZow",
        "outputId": "712c5d48-13d5-4c7d-ff79-8b3ed068a1c3"
      },
      "source": [
        "data.Dependents.value_counts()"
      ],
      "execution_count": 22,
      "outputs": [
        {
          "output_type": "execute_result",
          "data": {
            "text/plain": [
              "0.0    545\n",
              "2.0    160\n",
              "1.0    160\n",
              "3.0     91\n",
              "Name: Dependents, dtype: int64"
            ]
          },
          "metadata": {},
          "execution_count": 22
        }
      ]
    },
    {
      "cell_type": "code",
      "metadata": {
        "colab": {
          "base_uri": "https://localhost:8080/",
          "height": 601
        },
        "id": "qc86QGrJEbp0",
        "outputId": "d5c758d9-c1c1-45eb-9f3a-1a59d7a8a551"
      },
      "source": [
        "corrmat=data.corr()\n",
        "f,ax=plt.subplots(figsize=(9,9))\n",
        "sns.heatmap(corrmat,vmax=.8,square=True)"
      ],
      "execution_count": 23,
      "outputs": [
        {
          "output_type": "execute_result",
          "data": {
            "text/plain": [
              "<matplotlib.axes._subplots.AxesSubplot at 0x7f43f1063610>"
            ]
          },
          "metadata": {},
          "execution_count": 23
        },
        {
          "output_type": "display_data",
          "data": {
            "image/png": "[encoded data removed]",
            "text/plain": [
              "<Figure size 648x648 with 2 Axes>"
            ]
          },
          "metadata": {
            "needs_background": "light"
          }
        }
      ]
    },
    {
      "cell_type": "code",
      "metadata": {
        "id": "NgjkUzlUEf37"
      },
      "source": [
        "data.Education=data.Education.map({'Graduate':1,'Not Graduate':0})"
      ],
      "execution_count": 24,
      "outputs": []
    },
    {
      "cell_type": "code",
      "metadata": {
        "colab": {
          "base_uri": "https://localhost:8080/"
        },
        "id": "w0WS_MQOEkmF",
        "outputId": "449b9880-30b4-4636-c118-b4542e6e09da"
      },
      "source": [
        "data.Education.value_counts()"
      ],
      "execution_count": 25,
      "outputs": [
        {
          "output_type": "execute_result",
          "data": {
            "text/plain": [
              "1    763\n",
              "0    218\n",
              "Name: Education, dtype: int64"
            ]
          },
          "metadata": {},
          "execution_count": 25
        }
      ]
    },
    {
      "cell_type": "code",
      "metadata": {
        "id": "gOQv7_-sEm12"
      },
      "source": [
        "data.Self_Employed=data.Self_Employed.map({'Yes':1,'No':0})"
      ],
      "execution_count": 26,
      "outputs": []
    },
    {
      "cell_type": "code",
      "metadata": {
        "colab": {
          "base_uri": "https://localhost:8080/"
        },
        "id": "Yi7DeHqKEq5U",
        "outputId": "e777ecb4-5a6c-4428-8b7d-c6742af6b6af"
      },
      "source": [
        "data.Self_Employed.value_counts()"
      ],
      "execution_count": 27,
      "outputs": [
        {
          "output_type": "execute_result",
          "data": {
            "text/plain": [
              "0.0    807\n",
              "1.0    119\n",
              "Name: Self_Employed, dtype: int64"
            ]
          },
          "metadata": {},
          "execution_count": 27
        }
      ]
    },
    {
      "cell_type": "code",
      "metadata": {
        "colab": {
          "base_uri": "https://localhost:8080/"
        },
        "id": "Vhh5bdVBEvsN",
        "outputId": "82e1288b-4f01-498f-c892-e11a60deac60"
      },
      "source": [
        "data.Property_Area.value_counts()"
      ],
      "execution_count": 28,
      "outputs": [
        {
          "output_type": "execute_result",
          "data": {
            "text/plain": [
              "Semiurban    349\n",
              "Urban        342\n",
              "Rural        290\n",
              "Name: Property_Area, dtype: int64"
            ]
          },
          "metadata": {},
          "execution_count": 28
        }
      ]
    },
    {
      "cell_type": "code",
      "metadata": {
        "id": "PeoiqipWEx0n"
      },
      "source": [
        "data.Property_Area=data.Property_Area.map({'Urban':2,'Rural':0,'Semiurban':1})"
      ],
      "execution_count": 29,
      "outputs": []
    },
    {
      "cell_type": "code",
      "metadata": {
        "colab": {
          "base_uri": "https://localhost:8080/"
        },
        "id": "Jpy3s0jvE1YI",
        "outputId": "81a821a0-bf9a-4a66-9e34-2011ca80e657"
      },
      "source": [
        "data.Property_Area.value_counts()"
      ],
      "execution_count": 30,
      "outputs": [
        {
          "output_type": "execute_result",
          "data": {
            "text/plain": [
              "1    349\n",
              "2    342\n",
              "0    290\n",
              "Name: Property_Area, dtype: int64"
            ]
          },
          "metadata": {},
          "execution_count": 30
        }
      ]
    },
    {
      "cell_type": "code",
      "metadata": {
        "colab": {
          "base_uri": "https://localhost:8080/",
          "height": 601
        },
        "id": "vJ95Uh7XE5AF",
        "outputId": "c17b71da-dc0a-4d04-afe7-a70ede0bd95d"
      },
      "source": [
        "corrmat=data.corr()\n",
        "f,ax=plt.subplots(figsize=(9,9))\n",
        "sns.heatmap(corrmat,vmax=.8,square=True)"
      ],
      "execution_count": 31,
      "outputs": [
        {
          "output_type": "execute_result",
          "data": {
            "text/plain": [
              "<matplotlib.axes._subplots.AxesSubplot at 0x7f43f9a34ad0>"
            ]
          },
          "metadata": {},
          "execution_count": 31
        },
        {
          "output_type": "display_data",
          "data": {
            "image/png": "[encoded data removed]",
            "text/plain": [
              "<Figure size 648x648 with 2 Axes>"
            ]
          },
          "metadata": {
            "needs_background": "light"
          }
        }
      ]
    },
    {
      "cell_type": "code",
      "metadata": {
        "colab": {
          "base_uri": "https://localhost:8080/",
          "height": 224
        },
        "id": "VC9v1eZuE8n9",
        "outputId": "791909c9-bf83-4ca1-de3f-8d613e862a3f"
      },
      "source": [
        "data.head()"
      ],
      "execution_count": 32,
      "outputs": [
        {
          "output_type": "execute_result",
          "data": {
            "text/html": [
              "<div>\n",
              "<style scoped>\n",
              "    .dataframe tbody tr th:only-of-type {\n",
              "        vertical-align: middle;\n",
              "    }\n",
              "\n",
              "    .dataframe tbody tr th {\n",
              "        vertical-align: top;\n",
              "    }\n",
              "\n",
              "    .dataframe thead th {\n",
              "        text-align: right;\n",
              "    }\n",
              "</style>\n",
              "<table border=\"1\" class=\"dataframe\">\n",
              "  <thead>\n",
              "    <tr style=\"text-align: right;\">\n",
              "      <th></th>\n",
              "      <th>Loan_ID</th>\n",
              "      <th>Gender</th>\n",
              "      <th>Married</th>\n",
              "      <th>Dependents</th>\n",
              "      <th>Education</th>\n",
              "      <th>Self_Employed</th>\n",
              "      <th>ApplicantIncome</th>\n",
              "      <th>CoapplicantIncome</th>\n",
              "      <th>LoanAmount</th>\n",
              "      <th>Loan_Amount_Term</th>\n",
              "      <th>Credit_History</th>\n",
              "      <th>Property_Area</th>\n",
              "    </tr>\n",
              "  </thead>\n",
              "  <tbody>\n",
              "    <tr>\n",
              "      <th>0</th>\n",
              "      <td>LP001002</td>\n",
              "      <td>1.0</td>\n",
              "      <td>0.0</td>\n",
              "      <td>0.0</td>\n",
              "      <td>1</td>\n",
              "      <td>0.0</td>\n",
              "      <td>5849</td>\n",
              "      <td>0.0</td>\n",
              "      <td>NaN</td>\n",
              "      <td>360.0</td>\n",
              "      <td>1.0</td>\n",
              "      <td>2</td>\n",
              "    </tr>\n",
              "    <tr>\n",
              "      <th>1</th>\n",
              "      <td>LP001003</td>\n",
              "      <td>1.0</td>\n",
              "      <td>1.0</td>\n",
              "      <td>1.0</td>\n",
              "      <td>1</td>\n",
              "      <td>0.0</td>\n",
              "      <td>4583</td>\n",
              "      <td>1508.0</td>\n",
              "      <td>128.0</td>\n",
              "      <td>360.0</td>\n",
              "      <td>1.0</td>\n",
              "      <td>0</td>\n",
              "    </tr>\n",
              "    <tr>\n",
              "      <th>2</th>\n",
              "      <td>LP001005</td>\n",
              "      <td>1.0</td>\n",
              "      <td>1.0</td>\n",
              "      <td>0.0</td>\n",
              "      <td>1</td>\n",
              "      <td>1.0</td>\n",
              "      <td>3000</td>\n",
              "      <td>0.0</td>\n",
              "      <td>66.0</td>\n",
              "      <td>360.0</td>\n",
              "      <td>1.0</td>\n",
              "      <td>2</td>\n",
              "    </tr>\n",
              "    <tr>\n",
              "      <th>3</th>\n",
              "      <td>LP001006</td>\n",
              "      <td>1.0</td>\n",
              "      <td>1.0</td>\n",
              "      <td>0.0</td>\n",
              "      <td>0</td>\n",
              "      <td>0.0</td>\n",
              "      <td>2583</td>\n",
              "      <td>2358.0</td>\n",
              "      <td>120.0</td>\n",
              "      <td>360.0</td>\n",
              "      <td>1.0</td>\n",
              "      <td>2</td>\n",
              "    </tr>\n",
              "    <tr>\n",
              "      <th>4</th>\n",
              "      <td>LP001008</td>\n",
              "      <td>1.0</td>\n",
              "      <td>0.0</td>\n",
              "      <td>0.0</td>\n",
              "      <td>1</td>\n",
              "      <td>0.0</td>\n",
              "      <td>6000</td>\n",
              "      <td>0.0</td>\n",
              "      <td>141.0</td>\n",
              "      <td>360.0</td>\n",
              "      <td>1.0</td>\n",
              "      <td>2</td>\n",
              "    </tr>\n",
              "  </tbody>\n",
              "</table>\n",
              "</div>"
            ],
            "text/plain": [
              "    Loan_ID  Gender  Married  ...  Loan_Amount_Term  Credit_History  Property_Area\n",
              "0  LP001002     1.0      0.0  ...             360.0             1.0              2\n",
              "1  LP001003     1.0      1.0  ...             360.0             1.0              0\n",
              "2  LP001005     1.0      1.0  ...             360.0             1.0              2\n",
              "3  LP001006     1.0      1.0  ...             360.0             1.0              2\n",
              "4  LP001008     1.0      0.0  ...             360.0             1.0              2\n",
              "\n",
              "[5 rows x 12 columns]"
            ]
          },
          "metadata": {},
          "execution_count": 32
        }
      ]
    },
    {
      "cell_type": "code",
      "metadata": {
        "colab": {
          "base_uri": "https://localhost:8080/"
        },
        "id": "aRkTG7nQE_b_",
        "outputId": "f012b047-8efc-4a63-b5ff-2cd113455b1f"
      },
      "source": [
        "data.Credit_History.size"
      ],
      "execution_count": 33,
      "outputs": [
        {
          "output_type": "execute_result",
          "data": {
            "text/plain": [
              "981"
            ]
          },
          "metadata": {},
          "execution_count": 33
        }
      ]
    },
    {
      "cell_type": "code",
      "metadata": {
        "id": "rrQWAG_UFB3Z"
      },
      "source": [
        "data.Credit_History.fillna(np.random.randint(0,2),inplace=True)"
      ],
      "execution_count": 34,
      "outputs": []
    },
    {
      "cell_type": "code",
      "metadata": {
        "colab": {
          "base_uri": "https://localhost:8080/"
        },
        "id": "he5T9WrIFEHp",
        "outputId": "446a73ef-4834-418d-a9b7-ee89cc9a0178"
      },
      "source": [
        "#rechecking for remaining null value\n",
        "data.isnull().sum()"
      ],
      "execution_count": 35,
      "outputs": [
        {
          "output_type": "execute_result",
          "data": {
            "text/plain": [
              "Loan_ID               0\n",
              "Gender               24\n",
              "Married               3\n",
              "Dependents           25\n",
              "Education             0\n",
              "Self_Employed        55\n",
              "ApplicantIncome       0\n",
              "CoapplicantIncome     0\n",
              "LoanAmount           27\n",
              "Loan_Amount_Term     20\n",
              "Credit_History        0\n",
              "Property_Area         0\n",
              "dtype: int64"
            ]
          },
          "metadata": {},
          "execution_count": 35
        }
      ]
    },
    {
      "cell_type": "markdown",
      "metadata": {
        "id": "uF8umnObnSaF"
      },
      "source": [
        "For numerical values a good solution is to fill missing values with the **mean** , for categorical we can fill them with the **mode**."
      ]
    },
    {
      "cell_type": "code",
      "metadata": {
        "id": "0SHdwjcwFG3e"
      },
      "source": [
        "data.Married.fillna(np.random.randint(0,2),inplace=True)"
      ],
      "execution_count": 36,
      "outputs": []
    },
    {
      "cell_type": "code",
      "metadata": {
        "id": "fWXcxN6hFJWQ"
      },
      "source": [
        "data.LoanAmount.fillna(data.LoanAmount.median(),inplace=True)\n",
        "data.Loan_Amount_Term.fillna(data.Loan_Amount_Term.mean(),inplace=True)"
      ],
      "execution_count": 37,
      "outputs": []
    },
    {
      "cell_type": "code",
      "metadata": {
        "colab": {
          "base_uri": "https://localhost:8080/"
        },
        "id": "kQADD42JFL5T",
        "outputId": "e7321012-7953-4a2b-957a-958edb5efcfa"
      },
      "source": [
        "data.isnull().sum()"
      ],
      "execution_count": 38,
      "outputs": [
        {
          "output_type": "execute_result",
          "data": {
            "text/plain": [
              "Loan_ID               0\n",
              "Gender               24\n",
              "Married               0\n",
              "Dependents           25\n",
              "Education             0\n",
              "Self_Employed        55\n",
              "ApplicantIncome       0\n",
              "CoapplicantIncome     0\n",
              "LoanAmount            0\n",
              "Loan_Amount_Term      0\n",
              "Credit_History        0\n",
              "Property_Area         0\n",
              "dtype: int64"
            ]
          },
          "metadata": {},
          "execution_count": 38
        }
      ]
    },
    {
      "cell_type": "code",
      "metadata": {
        "colab": {
          "base_uri": "https://localhost:8080/"
        },
        "id": "Uiu2VYMWFT4I",
        "outputId": "1ed1557d-3d7d-433f-d9fd-dad34ee4a39f"
      },
      "source": [
        "data.Gender.value_counts()"
      ],
      "execution_count": 39,
      "outputs": [
        {
          "output_type": "execute_result",
          "data": {
            "text/plain": [
              "1.0    775\n",
              "0.0    182\n",
              "Name: Gender, dtype: int64"
            ]
          },
          "metadata": {},
          "execution_count": 39
        }
      ]
    },
    {
      "cell_type": "code",
      "metadata": {
        "id": "ke0bL9asFWFK"
      },
      "source": [
        "from random import randint \n",
        "data.Gender.fillna(np.random.randint(0,2),inplace=True)"
      ],
      "execution_count": 40,
      "outputs": []
    },
    {
      "cell_type": "code",
      "metadata": {
        "colab": {
          "base_uri": "https://localhost:8080/"
        },
        "id": "d75v6S8ZFZyd",
        "outputId": "0ed0a961-4f33-4618-8b4e-a0f273bc5fe2"
      },
      "source": [
        "data.Gender.value_counts()"
      ],
      "execution_count": 41,
      "outputs": [
        {
          "output_type": "execute_result",
          "data": {
            "text/plain": [
              "1.0    799\n",
              "0.0    182\n",
              "Name: Gender, dtype: int64"
            ]
          },
          "metadata": {},
          "execution_count": 41
        }
      ]
    },
    {
      "cell_type": "code",
      "metadata": {
        "id": "O40bYqoqFb1X"
      },
      "source": [
        "data.Dependents.fillna(data.Dependents.median(),inplace=True)"
      ],
      "execution_count": 42,
      "outputs": []
    },
    {
      "cell_type": "code",
      "metadata": {
        "colab": {
          "base_uri": "https://localhost:8080/"
        },
        "id": "zOkt5-PfFeCm",
        "outputId": "dba7e31b-558b-45e8-9ba8-054f34da2b40"
      },
      "source": [
        "data.isnull().sum()"
      ],
      "execution_count": 43,
      "outputs": [
        {
          "output_type": "execute_result",
          "data": {
            "text/plain": [
              "Loan_ID               0\n",
              "Gender                0\n",
              "Married               0\n",
              "Dependents            0\n",
              "Education             0\n",
              "Self_Employed        55\n",
              "ApplicantIncome       0\n",
              "CoapplicantIncome     0\n",
              "LoanAmount            0\n",
              "Loan_Amount_Term      0\n",
              "Credit_History        0\n",
              "Property_Area         0\n",
              "dtype: int64"
            ]
          },
          "metadata": {},
          "execution_count": 43
        }
      ]
    },
    {
      "cell_type": "code",
      "metadata": {
        "colab": {
          "base_uri": "https://localhost:8080/",
          "height": 601
        },
        "id": "79pY3rwdFgae",
        "outputId": "a88a4eda-0def-4739-8bc6-54cc4fcc110e"
      },
      "source": [
        "corrmat=data.corr()\n",
        "f,ax=plt.subplots(figsize=(9,9))\n",
        "sns.heatmap(corrmat,vmax=.8,square=True)"
      ],
      "execution_count": 44,
      "outputs": [
        {
          "output_type": "execute_result",
          "data": {
            "text/plain": [
              "<matplotlib.axes._subplots.AxesSubplot at 0x7f43f0ef4890>"
            ]
          },
          "metadata": {},
          "execution_count": 44
        },
        {
          "output_type": "display_data",
          "data": {
            "image/png": "[encoded data removed]",
            "text/plain": [
              "<Figure size 648x648 with 2 Axes>"
            ]
          },
          "metadata": {
            "needs_background": "light"
          }
        }
      ]
    },
    {
      "cell_type": "code",
      "metadata": {
        "id": "s9pgNvgSFi69"
      },
      "source": [
        "data.Self_Employed.fillna(np.random.randint(0,2),inplace=True)"
      ],
      "execution_count": 45,
      "outputs": []
    },
    {
      "cell_type": "code",
      "metadata": {
        "colab": {
          "base_uri": "https://localhost:8080/"
        },
        "id": "GZL_YhaVFmlf",
        "outputId": "e4a4d593-82dd-4b02-e445-d1f4a32f03e5"
      },
      "source": [
        "data.isnull().sum()"
      ],
      "execution_count": 46,
      "outputs": [
        {
          "output_type": "execute_result",
          "data": {
            "text/plain": [
              "Loan_ID              0\n",
              "Gender               0\n",
              "Married              0\n",
              "Dependents           0\n",
              "Education            0\n",
              "Self_Employed        0\n",
              "ApplicantIncome      0\n",
              "CoapplicantIncome    0\n",
              "LoanAmount           0\n",
              "Loan_Amount_Term     0\n",
              "Credit_History       0\n",
              "Property_Area        0\n",
              "dtype: int64"
            ]
          },
          "metadata": {},
          "execution_count": 46
        }
      ]
    },
    {
      "cell_type": "markdown",
      "metadata": {
        "id": "C7v2pSXcnqEp"
      },
      "source": [
        "Now there are no null vlaues.\n",
        "\n",
        "#**Data preprocessing**"
      ]
    },
    {
      "cell_type": "code",
      "metadata": {
        "id": "fMovAf5kFsOA"
      },
      "source": [
        "data.drop('Loan_ID',inplace=True,axis=1)"
      ],
      "execution_count": 47,
      "outputs": []
    },
    {
      "cell_type": "code",
      "metadata": {
        "colab": {
          "base_uri": "https://localhost:8080/"
        },
        "id": "3qvXL9spFwo1",
        "outputId": "a4121697-e057-4e86-86a5-bb464d5295af"
      },
      "source": [
        "data.isnull().sum()"
      ],
      "execution_count": 48,
      "outputs": [
        {
          "output_type": "execute_result",
          "data": {
            "text/plain": [
              "Gender               0\n",
              "Married              0\n",
              "Dependents           0\n",
              "Education            0\n",
              "Self_Employed        0\n",
              "ApplicantIncome      0\n",
              "CoapplicantIncome    0\n",
              "LoanAmount           0\n",
              "Loan_Amount_Term     0\n",
              "Credit_History       0\n",
              "Property_Area        0\n",
              "dtype: int64"
            ]
          },
          "metadata": {},
          "execution_count": 48
        }
      ]
    },
    {
      "cell_type": "markdown",
      "metadata": {
        "id": "WSsuFKp3oIy3"
      },
      "source": [
        "Next we have to handle the outliers , one solution is just to remove them but we can also log transform them to **nullify** their effect which is the approach that we went for here.\n",
        "\n",
        "Some people might have a low income but strong **CoappliantIncome** so a good idea is to combine them in a **TotalIncome** column."
      ]
    },
    {
      "cell_type": "code",
      "metadata": {
        "id": "_4kKLZ7kFy-9"
      },
      "source": [
        "#prepare for train model_data \n",
        "train_X=data.iloc[:614,]\n",
        "train_y=Loan_status\n",
        "X_test=data.iloc[614:,]\n",
        "seed=7"
      ],
      "execution_count": 49,
      "outputs": []
    },
    {
      "cell_type": "markdown",
      "metadata": {
        "id": "kffRvZ6en9ek"
      },
      "source": [
        "#**Data modelling**"
      ]
    },
    {
      "cell_type": "markdown",
      "metadata": {
        "id": "2faFspXrb6gd"
      },
      "source": [
        "#Q.8 What all features are you going to consider for the model training and why? \n",
        "Answer: After cleaning all the data, we will check which model will give the best accuracy with training and work with that model furthermore.\n",
        "\n",
        "Accuracy is very important part of modelling, thats why having model with higher accuracy rate will give precise result in prediction process."
      ]
    },
    {
      "cell_type": "markdown",
      "metadata": {
        "id": "UUm83C36oc5R"
      },
      "source": [
        "Here we are going to use **sklearn for our models** and check which algorithm will give perfrom better with higher accuracy. Then we will use that to perform further task."
      ]
    },
    {
      "cell_type": "code",
      "metadata": {
        "id": "b0FqOUvSF1ie"
      },
      "source": [
        "from sklearn.model_selection import train_test_split\n",
        "train_X,test_X,train_y,test_y=train_test_split(train_X,train_y,random_state=seed)"
      ],
      "execution_count": 50,
      "outputs": []
    },
    {
      "cell_type": "code",
      "metadata": {
        "id": "8S9ksVqfF3u3"
      },
      "source": [
        "from sklearn.discriminant_analysis import LinearDiscriminantAnalysis\n",
        "from sklearn.linear_model import LogisticRegression\n",
        "from sklearn.tree import DecisionTreeClassifier\n",
        "from sklearn.svm import SVC\n",
        "from sklearn.neighbors import KNeighborsClassifier\n",
        "from sklearn.naive_bayes import GaussianNB"
      ],
      "execution_count": 51,
      "outputs": []
    },
    {
      "cell_type": "code",
      "metadata": {
        "id": "YAvqoNiUF6W4"
      },
      "source": [
        "models=[]\n",
        "models.append((\"logreg\",LogisticRegression()))\n",
        "models.append((\"tree\",DecisionTreeClassifier()))\n",
        "models.append((\"lda\",LinearDiscriminantAnalysis()))\n",
        "models.append((\"svc\",SVC()))\n",
        "models.append((\"knn\",KNeighborsClassifier()))\n",
        "models.append((\"nb\",GaussianNB()))"
      ],
      "execution_count": 52,
      "outputs": []
    },
    {
      "cell_type": "code",
      "metadata": {
        "id": "l4dWGkv4F8uO"
      },
      "source": [
        "seed=7\n",
        "scoring='accuracy'"
      ],
      "execution_count": 53,
      "outputs": []
    },
    {
      "cell_type": "code",
      "metadata": {
        "id": "YMY134mfF-3-"
      },
      "source": [
        "from sklearn.model_selection import KFold \n",
        "from sklearn.model_selection import cross_val_score\n",
        "result=[]\n",
        "names=[]"
      ],
      "execution_count": 54,
      "outputs": []
    },
    {
      "cell_type": "code",
      "metadata": {
        "colab": {
          "base_uri": "https://localhost:8080/"
        },
        "id": "ml5wv5NxGA7Y",
        "outputId": "8a59acf7-5e43-471e-84dd-7fe70676003a"
      },
      "source": [
        "for name,model in models:\n",
        "    #print(model)\n",
        "    kfold=KFold(n_splits=10,random_state=seed)\n",
        "    cv_result=cross_val_score(model,train_X,train_y,cv=kfold,scoring=scoring)\n",
        "    result.append(cv_result)\n",
        "    names.append(name)\n",
        "    print(\"%s %f %f\" % (name,cv_result.mean(),cv_result.std()))"
      ],
      "execution_count": 55,
      "outputs": [
        {
          "output_type": "stream",
          "name": "stderr",
          "text": [
            "/usr/local/lib/python3.7/dist-packages/sklearn/model_selection/_split.py:296: FutureWarning: Setting a random_state has no effect since shuffle is False. This will raise an error in 0.24. You should leave random_state to its default (None), or set shuffle=True.\n",
            "  FutureWarning\n",
            "/usr/local/lib/python3.7/dist-packages/sklearn/linear_model/_logistic.py:940: ConvergenceWarning: lbfgs failed to converge (status=1):\n",
            "STOP: TOTAL NO. of ITERATIONS REACHED LIMIT.\n",
            "\n",
            "Increase the number of iterations (max_iter) or scale the data as shown in:\n",
            "    https://scikit-learn.org/stable/modules/preprocessing.html\n",
            "Please also refer to the documentation for alternative solver options:\n",
            "    https://scikit-learn.org/stable/modules/linear_model.html#logistic-regression\n",
            "  extra_warning_msg=_LOGISTIC_SOLVER_CONVERGENCE_MSG)\n",
            "/usr/local/lib/python3.7/dist-packages/sklearn/linear_model/_logistic.py:940: ConvergenceWarning: lbfgs failed to converge (status=1):\n",
            "STOP: TOTAL NO. of ITERATIONS REACHED LIMIT.\n",
            "\n",
            "Increase the number of iterations (max_iter) or scale the data as shown in:\n",
            "    https://scikit-learn.org/stable/modules/preprocessing.html\n",
            "Please also refer to the documentation for alternative solver options:\n",
            "    https://scikit-learn.org/stable/modules/linear_model.html#logistic-regression\n",
            "  extra_warning_msg=_LOGISTIC_SOLVER_CONVERGENCE_MSG)\n",
            "/usr/local/lib/python3.7/dist-packages/sklearn/linear_model/_logistic.py:940: ConvergenceWarning: lbfgs failed to converge (status=1):\n",
            "STOP: TOTAL NO. of ITERATIONS REACHED LIMIT.\n",
            "\n",
            "Increase the number of iterations (max_iter) or scale the data as shown in:\n",
            "    https://scikit-learn.org/stable/modules/preprocessing.html\n",
            "Please also refer to the documentation for alternative solver options:\n",
            "    https://scikit-learn.org/stable/modules/linear_model.html#logistic-regression\n",
            "  extra_warning_msg=_LOGISTIC_SOLVER_CONVERGENCE_MSG)\n",
            "/usr/local/lib/python3.7/dist-packages/sklearn/linear_model/_logistic.py:940: ConvergenceWarning: lbfgs failed to converge (status=1):\n",
            "STOP: TOTAL NO. of ITERATIONS REACHED LIMIT.\n",
            "\n",
            "Increase the number of iterations (max_iter) or scale the data as shown in:\n",
            "    https://scikit-learn.org/stable/modules/preprocessing.html\n",
            "Please also refer to the documentation for alternative solver options:\n",
            "    https://scikit-learn.org/stable/modules/linear_model.html#logistic-regression\n",
            "  extra_warning_msg=_LOGISTIC_SOLVER_CONVERGENCE_MSG)\n",
            "/usr/local/lib/python3.7/dist-packages/sklearn/linear_model/_logistic.py:940: ConvergenceWarning: lbfgs failed to converge (status=1):\n",
            "STOP: TOTAL NO. of ITERATIONS REACHED LIMIT.\n",
            "\n",
            "Increase the number of iterations (max_iter) or scale the data as shown in:\n",
            "    https://scikit-learn.org/stable/modules/preprocessing.html\n",
            "Please also refer to the documentation for alternative solver options:\n",
            "    https://scikit-learn.org/stable/modules/linear_model.html#logistic-regression\n",
            "  extra_warning_msg=_LOGISTIC_SOLVER_CONVERGENCE_MSG)\n",
            "/usr/local/lib/python3.7/dist-packages/sklearn/linear_model/_logistic.py:940: ConvergenceWarning: lbfgs failed to converge (status=1):\n",
            "STOP: TOTAL NO. of ITERATIONS REACHED LIMIT.\n",
            "\n",
            "Increase the number of iterations (max_iter) or scale the data as shown in:\n",
            "    https://scikit-learn.org/stable/modules/preprocessing.html\n",
            "Please also refer to the documentation for alternative solver options:\n",
            "    https://scikit-learn.org/stable/modules/linear_model.html#logistic-regression\n",
            "  extra_warning_msg=_LOGISTIC_SOLVER_CONVERGENCE_MSG)\n",
            "/usr/local/lib/python3.7/dist-packages/sklearn/model_selection/_split.py:296: FutureWarning: Setting a random_state has no effect since shuffle is False. This will raise an error in 0.24. You should leave random_state to its default (None), or set shuffle=True.\n",
            "  FutureWarning\n",
            "/usr/local/lib/python3.7/dist-packages/sklearn/model_selection/_split.py:296: FutureWarning: Setting a random_state has no effect since shuffle is False. This will raise an error in 0.24. You should leave random_state to its default (None), or set shuffle=True.\n",
            "  FutureWarning\n",
            "/usr/local/lib/python3.7/dist-packages/sklearn/model_selection/_split.py:296: FutureWarning: Setting a random_state has no effect since shuffle is False. This will raise an error in 0.24. You should leave random_state to its default (None), or set shuffle=True.\n",
            "  FutureWarning\n"
          ]
        },
        {
          "output_type": "stream",
          "name": "stdout",
          "text": [
            "logreg 0.804348 0.048610\n",
            "tree 0.702174 0.092257\n",
            "lda 0.806522 0.050936\n",
            "svc 0.684783 0.060908\n",
            "knn 0.636957 0.068089\n",
            "nb 0.789130 0.036441\n"
          ]
        },
        {
          "output_type": "stream",
          "name": "stderr",
          "text": [
            "/usr/local/lib/python3.7/dist-packages/sklearn/model_selection/_split.py:296: FutureWarning: Setting a random_state has no effect since shuffle is False. This will raise an error in 0.24. You should leave random_state to its default (None), or set shuffle=True.\n",
            "  FutureWarning\n",
            "/usr/local/lib/python3.7/dist-packages/sklearn/model_selection/_split.py:296: FutureWarning: Setting a random_state has no effect since shuffle is False. This will raise an error in 0.24. You should leave random_state to its default (None), or set shuffle=True.\n",
            "  FutureWarning\n"
          ]
        }
      ]
    },
    {
      "cell_type": "markdown",
      "metadata": {
        "id": "BNgD79QopMoB"
      },
      "source": [
        "**output:**\n",
        "\n",
        "logreg 0.804348 0.048610 -> (logistic regression)\n",
        "\n",
        "tree 0.713043 0.043260   -> (DecisionTreeClassifier)\n",
        "\n",
        "lda 0.806522 0.050936  -> (LinearDiscriminantAnalysis)\n",
        "\n",
        "svc 0.684783 0.060908  -> (SVC)\n",
        " \n",
        "knn 0.636957 0.068089  -> (KNeighborsClassifier)\n",
        "\n",
        "nb 0.789130 0.036441  -> (GaussianNB)\n"
      ]
    },
    {
      "cell_type": "markdown",
      "metadata": {
        "id": "cRIsTp7BcnUn"
      },
      "source": [
        "#Q.9 Which model are you going to use?\n",
        "Answer: As from above result, it can be seen that *logistic regression* is given the precise result. So, it will be use as a model."
      ]
    },
    {
      "cell_type": "code",
      "metadata": {
        "colab": {
          "base_uri": "https://localhost:8080/"
        },
        "id": "rMJRhtyiGDcq",
        "outputId": "cd867bbc-7738-41b9-9e83-ef77d8c1c15e"
      },
      "source": [
        "from sklearn.metrics import accuracy_score\n",
        "from sklearn.metrics import confusion_matrix\n",
        "from sklearn.metrics import classification_report\n",
        "svc=LogisticRegression()\n",
        "svc.fit(train_X,train_y)\n",
        "pred=svc.predict(test_X)\n",
        "print('Accuracy =', round(accuracy_score(test_y,pred)*100),'%')\n",
        "#print('accuracy =', int(accuracy_score(test_y,pred)*100),'%')\n",
        "print(confusion_matrix(test_y,pred))\n",
        "print(classification_report(test_y,pred))"
      ],
      "execution_count": 56,
      "outputs": [
        {
          "output_type": "stream",
          "name": "stdout",
          "text": [
            "Accuracy = 82 %\n",
            "[[ 23  25]\n",
            " [  2 104]]\n",
            "              precision    recall  f1-score   support\n",
            "\n",
            "           0       0.92      0.48      0.63        48\n",
            "           1       0.81      0.98      0.89       106\n",
            "\n",
            "    accuracy                           0.82       154\n",
            "   macro avg       0.86      0.73      0.76       154\n",
            "weighted avg       0.84      0.82      0.81       154\n",
            "\n"
          ]
        },
        {
          "output_type": "stream",
          "name": "stderr",
          "text": [
            "/usr/local/lib/python3.7/dist-packages/sklearn/linear_model/_logistic.py:940: ConvergenceWarning: lbfgs failed to converge (status=1):\n",
            "STOP: TOTAL NO. of ITERATIONS REACHED LIMIT.\n",
            "\n",
            "Increase the number of iterations (max_iter) or scale the data as shown in:\n",
            "    https://scikit-learn.org/stable/modules/preprocessing.html\n",
            "Please also refer to the documentation for alternative solver options:\n",
            "    https://scikit-learn.org/stable/modules/linear_model.html#logistic-regression\n",
            "  extra_warning_msg=_LOGISTIC_SOLVER_CONVERGENCE_MSG)\n"
          ]
        }
      ]
    },
    {
      "cell_type": "markdown",
      "metadata": {
        "id": "VeRQ4oF4dI9f"
      },
      "source": [
        "###Acuracy is 80 %"
      ]
    },
    {
      "cell_type": "code",
      "metadata": {
        "id": "1nmfVgUmGT3p"
      },
      "source": [
        "df_output=pd.DataFrame()"
      ],
      "execution_count": 57,
      "outputs": []
    },
    {
      "cell_type": "code",
      "metadata": {
        "colab": {
          "base_uri": "https://localhost:8080/"
        },
        "id": "ZkktuntAGYPE",
        "outputId": "f1acf611-067c-4789-c9eb-6078131994d2"
      },
      "source": [
        "outp=svc.predict(X_test).astype(int)\n",
        "outp"
      ],
      "execution_count": 58,
      "outputs": [
        {
          "output_type": "execute_result",
          "data": {
            "text/plain": [
              "array([1, 1, 1, 1, 1, 1, 1, 0, 1, 1, 1, 1, 1, 0, 1, 1, 1, 1, 1, 1, 1, 1,\n",
              "       1, 1, 1, 0, 1, 1, 1, 1, 1, 1, 1, 1, 1, 0, 1, 1, 1, 1, 1, 1, 1, 1,\n",
              "       1, 1, 1, 1, 1, 1, 1, 1, 1, 1, 1, 0, 1, 1, 0, 1, 1, 1, 1, 0, 1, 1,\n",
              "       0, 0, 1, 0, 1, 1, 1, 1, 1, 1, 1, 1, 1, 1, 0, 1, 0, 1, 1, 1, 1, 1,\n",
              "       1, 1, 1, 1, 1, 1, 0, 1, 1, 1, 1, 1, 1, 0, 1, 1, 1, 1, 0, 1, 1, 1,\n",
              "       1, 1, 1, 1, 1, 1, 1, 0, 0, 0, 1, 1, 1, 0, 0, 1, 0, 1, 1, 1, 1, 1,\n",
              "       1, 1, 1, 1, 1, 1, 1, 1, 0, 1, 0, 1, 1, 1, 1, 0, 1, 1, 1, 1, 1, 0,\n",
              "       1, 1, 1, 1, 1, 1, 1, 0, 1, 1, 1, 0, 0, 1, 0, 1, 1, 1, 1, 0, 0, 1,\n",
              "       1, 1, 1, 1, 1, 1, 1, 1, 1, 1, 1, 1, 1, 1, 1, 1, 0, 0, 1, 1, 0, 1,\n",
              "       0, 1, 1, 1, 1, 1, 1, 1, 1, 1, 1, 1, 1, 0, 1, 1, 1, 1, 1, 1, 1, 1,\n",
              "       1, 1, 1, 1, 0, 1, 1, 1, 1, 0, 0, 1, 1, 1, 1, 0, 0, 0, 1, 1, 1, 0,\n",
              "       1, 0, 1, 0, 1, 1, 1, 1, 0, 1, 1, 1, 1, 0, 1, 1, 1, 1, 1, 1, 1, 1,\n",
              "       1, 1, 0, 1, 0, 1, 1, 1, 1, 0, 0, 1, 1, 1, 0, 1, 1, 1, 1, 1, 1, 1,\n",
              "       1, 1, 1, 1, 1, 1, 1, 0, 1, 1, 1, 1, 1, 1, 1, 0, 1, 1, 1, 1, 1, 1,\n",
              "       1, 1, 1, 0, 1, 1, 1, 1, 1, 0, 1, 1, 1, 1, 1, 1, 1, 1, 1, 1, 1, 1,\n",
              "       1, 1, 1, 1, 1, 1, 1, 1, 1, 0, 1, 1, 1, 1, 1, 1, 0, 1, 1, 1, 1, 0,\n",
              "       1, 1, 0, 1, 1, 1, 1, 1, 1, 1, 1, 1, 1, 1, 1])"
            ]
          },
          "metadata": {},
          "execution_count": 58
        }
      ]
    },
    {
      "cell_type": "code",
      "metadata": {
        "id": "JtmKqL9JGbMj"
      },
      "source": [
        "df_output['Loan_ID']=Loan_ID\n",
        "df_output['Loan_Status']=outp"
      ],
      "execution_count": 59,
      "outputs": []
    },
    {
      "cell_type": "markdown",
      "metadata": {
        "id": "gaMv9RoMrn8F"
      },
      "source": [
        "#**Final output** -> Result"
      ]
    },
    {
      "cell_type": "code",
      "metadata": {
        "colab": {
          "base_uri": "https://localhost:8080/",
          "height": 858
        },
        "id": "kuYErT-dGfSR",
        "outputId": "59b44b82-8f03-41cc-9253-04b317caf972"
      },
      "source": [
        "df_output.head(26)"
      ],
      "execution_count": 67,
      "outputs": [
        {
          "output_type": "execute_result",
          "data": {
            "text/html": [
              "<div>\n",
              "<style scoped>\n",
              "    .dataframe tbody tr th:only-of-type {\n",
              "        vertical-align: middle;\n",
              "    }\n",
              "\n",
              "    .dataframe tbody tr th {\n",
              "        vertical-align: top;\n",
              "    }\n",
              "\n",
              "    .dataframe thead th {\n",
              "        text-align: right;\n",
              "    }\n",
              "</style>\n",
              "<table border=\"1\" class=\"dataframe\">\n",
              "  <thead>\n",
              "    <tr style=\"text-align: right;\">\n",
              "      <th></th>\n",
              "      <th>Loan_ID</th>\n",
              "      <th>Loan_Status</th>\n",
              "    </tr>\n",
              "  </thead>\n",
              "  <tbody>\n",
              "    <tr>\n",
              "      <th>0</th>\n",
              "      <td>LP001015</td>\n",
              "      <td>1</td>\n",
              "    </tr>\n",
              "    <tr>\n",
              "      <th>1</th>\n",
              "      <td>LP001022</td>\n",
              "      <td>1</td>\n",
              "    </tr>\n",
              "    <tr>\n",
              "      <th>2</th>\n",
              "      <td>LP001031</td>\n",
              "      <td>1</td>\n",
              "    </tr>\n",
              "    <tr>\n",
              "      <th>3</th>\n",
              "      <td>LP001035</td>\n",
              "      <td>1</td>\n",
              "    </tr>\n",
              "    <tr>\n",
              "      <th>4</th>\n",
              "      <td>LP001051</td>\n",
              "      <td>1</td>\n",
              "    </tr>\n",
              "    <tr>\n",
              "      <th>5</th>\n",
              "      <td>LP001054</td>\n",
              "      <td>1</td>\n",
              "    </tr>\n",
              "    <tr>\n",
              "      <th>6</th>\n",
              "      <td>LP001055</td>\n",
              "      <td>1</td>\n",
              "    </tr>\n",
              "    <tr>\n",
              "      <th>7</th>\n",
              "      <td>LP001056</td>\n",
              "      <td>0</td>\n",
              "    </tr>\n",
              "    <tr>\n",
              "      <th>8</th>\n",
              "      <td>LP001059</td>\n",
              "      <td>1</td>\n",
              "    </tr>\n",
              "    <tr>\n",
              "      <th>9</th>\n",
              "      <td>LP001067</td>\n",
              "      <td>1</td>\n",
              "    </tr>\n",
              "    <tr>\n",
              "      <th>10</th>\n",
              "      <td>LP001078</td>\n",
              "      <td>1</td>\n",
              "    </tr>\n",
              "    <tr>\n",
              "      <th>11</th>\n",
              "      <td>LP001082</td>\n",
              "      <td>1</td>\n",
              "    </tr>\n",
              "    <tr>\n",
              "      <th>12</th>\n",
              "      <td>LP001083</td>\n",
              "      <td>1</td>\n",
              "    </tr>\n",
              "    <tr>\n",
              "      <th>13</th>\n",
              "      <td>LP001094</td>\n",
              "      <td>0</td>\n",
              "    </tr>\n",
              "    <tr>\n",
              "      <th>14</th>\n",
              "      <td>LP001096</td>\n",
              "      <td>1</td>\n",
              "    </tr>\n",
              "    <tr>\n",
              "      <th>15</th>\n",
              "      <td>LP001099</td>\n",
              "      <td>1</td>\n",
              "    </tr>\n",
              "    <tr>\n",
              "      <th>16</th>\n",
              "      <td>LP001105</td>\n",
              "      <td>1</td>\n",
              "    </tr>\n",
              "    <tr>\n",
              "      <th>17</th>\n",
              "      <td>LP001107</td>\n",
              "      <td>1</td>\n",
              "    </tr>\n",
              "    <tr>\n",
              "      <th>18</th>\n",
              "      <td>LP001108</td>\n",
              "      <td>1</td>\n",
              "    </tr>\n",
              "    <tr>\n",
              "      <th>19</th>\n",
              "      <td>LP001115</td>\n",
              "      <td>1</td>\n",
              "    </tr>\n",
              "    <tr>\n",
              "      <th>20</th>\n",
              "      <td>LP001121</td>\n",
              "      <td>1</td>\n",
              "    </tr>\n",
              "    <tr>\n",
              "      <th>21</th>\n",
              "      <td>LP001124</td>\n",
              "      <td>1</td>\n",
              "    </tr>\n",
              "    <tr>\n",
              "      <th>22</th>\n",
              "      <td>LP001128</td>\n",
              "      <td>1</td>\n",
              "    </tr>\n",
              "    <tr>\n",
              "      <th>23</th>\n",
              "      <td>LP001135</td>\n",
              "      <td>1</td>\n",
              "    </tr>\n",
              "    <tr>\n",
              "      <th>24</th>\n",
              "      <td>LP001149</td>\n",
              "      <td>1</td>\n",
              "    </tr>\n",
              "    <tr>\n",
              "      <th>25</th>\n",
              "      <td>LP001153</td>\n",
              "      <td>0</td>\n",
              "    </tr>\n",
              "  </tbody>\n",
              "</table>\n",
              "</div>"
            ],
            "text/plain": [
              "     Loan_ID  Loan_Status\n",
              "0   LP001015            1\n",
              "1   LP001022            1\n",
              "2   LP001031            1\n",
              "3   LP001035            1\n",
              "4   LP001051            1\n",
              "5   LP001054            1\n",
              "6   LP001055            1\n",
              "7   LP001056            0\n",
              "8   LP001059            1\n",
              "9   LP001067            1\n",
              "10  LP001078            1\n",
              "11  LP001082            1\n",
              "12  LP001083            1\n",
              "13  LP001094            0\n",
              "14  LP001096            1\n",
              "15  LP001099            1\n",
              "16  LP001105            1\n",
              "17  LP001107            1\n",
              "18  LP001108            1\n",
              "19  LP001115            1\n",
              "20  LP001121            1\n",
              "21  LP001124            1\n",
              "22  LP001128            1\n",
              "23  LP001135            1\n",
              "24  LP001149            1\n",
              "25  LP001153            0"
            ]
          },
          "metadata": {},
          "execution_count": 67
        }
      ]
    },
    {
      "cell_type": "code",
      "metadata": {
        "colab": {
          "base_uri": "https://localhost:8080/"
        },
        "id": "cE0LyFhpGzVw",
        "outputId": "27dab01b-ad5a-47d0-d995-fb6a347a57f8"
      },
      "source": [
        "print(df_output)"
      ],
      "execution_count": 61,
      "outputs": [
        {
          "output_type": "stream",
          "name": "stdout",
          "text": [
            "      Loan_ID  Loan_Status\n",
            "0    LP001015            1\n",
            "1    LP001022            1\n",
            "2    LP001031            1\n",
            "3    LP001035            1\n",
            "4    LP001051            1\n",
            "..        ...          ...\n",
            "362  LP002971            1\n",
            "363  LP002975            1\n",
            "364  LP002980            1\n",
            "365  LP002986            1\n",
            "366  LP002989            1\n",
            "\n",
            "[367 rows x 2 columns]\n"
          ]
        }
      ]
    },
    {
      "cell_type": "markdown",
      "metadata": {
        "id": "ECU_mCHPzJkS"
      },
      "source": [
        "#**Pickle Model**"
      ]
    },
    {
      "cell_type": "code",
      "metadata": {
        "id": "WbtBVAXyt0jp"
      },
      "source": [
        "import pickle"
      ],
      "execution_count": 62,
      "outputs": []
    },
    {
      "cell_type": "code",
      "metadata": {
        "id": "296CSVuXxako"
      },
      "source": [
        "file = df_output"
      ],
      "execution_count": 63,
      "outputs": []
    },
    {
      "cell_type": "code",
      "metadata": {
        "id": "0hGxgSCoxn7c"
      },
      "source": [
        "fileNAme = \"Proj_01.pkl\"  "
      ],
      "execution_count": 64,
      "outputs": []
    },
    {
      "cell_type": "code",
      "metadata": {
        "id": "tZHe_lW0x62n"
      },
      "source": [
        "fileObj = open(fileNAme, 'wb')   # wb for write\n",
        "pickle.dump(file, fileObj)\n",
        "\n",
        "fileObj.close() #file close"
      ],
      "execution_count": 65,
      "outputs": []
    },
    {
      "cell_type": "markdown",
      "metadata": {
        "id": "RJnPTPUE1os0"
      },
      "source": [
        "#########END OF CODE############"
      ]
    },
    {
      "cell_type": "markdown",
      "metadata": {
        "id": "Zw9ocjRB1vSq"
      },
      "source": [
        "Q.1 What's the ratio of male to female?\n",
        "\n",
        "Ans. With reference to *code line- 193*, there are '775' male and '206' female.\n",
        "so, the answer is **3.76:1** "
      ]
    },
    {
      "cell_type": "markdown",
      "metadata": {
        "id": "6Xb_7SiX56uG"
      },
      "source": [
        "Q.2 How many males are married and non married?"
      ]
    },
    {
      "cell_type": "markdown",
      "metadata": {
        "id": "QqLxuUbkJCGn"
      },
      "source": [
        "![image.png](data:image/png;base64,iVBORw0KGgoAAAANSUhEUgAABEcAAAK0CAYAAADh8FMDAAAgAElEQVR4Aey9z6sc15n/3/+E4W4NWXwNWcQ7axWskMXHEMznghZjCMRoFZRZfDAJCJEgRJNFkM0QDANBZOwJV4uZyIGAzCSg4CFwtcggkQx4TMbIZoS5jM0ghiwanMX5cuqc59RzflVV366+XdX9Eoiurjp1znNe5111+3n3qdMLwz8IQAACEIAABCAAAQhAAAIQgAAEIHDABBYH3He6DgEIQAACEIAABCAAAQhAAAIQgAAEDOYIIoAABCAAAQhAAAIQgAAEIAABCEDgoAlgjhz08NN5CEAAAhCAAAQgAAEIQAACEIAABDBH0AAEIAABCEAAAhCAAAQgAAEIQAACB00Ac+Sgh5/OQwACEIAABCAAAQhAAAIQgAAEIIA5ggYgAAEIQAACEIAABCAAAQhAAAIQOGgCmCMHPfx0HgIQgAAEIAABCEAAAhCAAAQgAAHMETQAAQhAAAIQgAAEIAABCEAAAhCAwEETwBw56OGn8xCAAAQgAAEIQAACEIAABCAAAQhgjqABCEAAAhCAAAQgAAEIQAACEIAABA6aAObIQQ8/nYcABCAAAQhAAAIQgAAEIAABCEAAcwQNQAACEIAABCAAAQhAAAIQgAAEIHDQBDBHDnr46TwEIAABCEAAAhCAAAQgAAEIQAACmCNoAAIQgAAEIAABCEAAAhCAAAQgAIGDJoA5ctDDT+chAAEIQAACEIAABCAAAQhAAAIQwBxBAxCAAAQgAAEIQAACEIAABCAAAQgcNAHMkX0c/mdPzIO7t821K5fNC0cLs1i4/8+/dNlc/f4dc/8/nm3U67PfvW2uXblknvf1Hn31sjn+7tvmwdl61Z7eamNb3Dqtnjy0XLUCDkCgQODs7nG4NhZXTsya8i3UyK69IfBw2WpjsTT1u9NIPb7o9kYKO6pmH/oQdejQ35yZkyvt3+jju9u+Qw5p75l58r79/KE+2xy9YC5fuWbefv+J2eyTzaGPN/2HAAQgAAFLAHNkr3SwMh/efcNcVoaIGCPp6/NXbpvTL9bt/BNz7/XnVdLQfnBy9V8y1379ZHClQ02PoeUGN0xBCBhjMEeQQZXARSf6F91eteMbHNiHPmzQ/f07dYhZMWave9p7dmqWLx91fP5YmKOXl+YUh2TMQaEuCEAAAgdHAHNkb4Z8ZU5/fNkc+dkcqRlSfP+Vq+beJ8MBPHrrUucHE9fGsTl5OqzOoabH0HLDWqUUBBwBzBGUUCVw0Yn+RbdX7fgGB/ahDxt0f/9O7TErRu9wV3tPzJ3/k34ZU3n/0m3zaPTYqBACEIAABA6FAObInoz06vc3zIvaGDl6xdx475E5+4t0cGWe/cd9s/xW8s3LlRMzaK7H6oG5oWakXLp+35ytXN3PHt8xr6ljL7417KPJUNNjaDnpKa8QGEIAc2QIJcpcCIF9MBb2oQ8XMtg0UiZQN0ee/fpa+8XM0WVz470PzTP/+cOsnplHd6+ZS+rzz7VfM32kzJi9EIAABCDQRwBzpI/QLI4n36ocvWZOqjNCnpiTb2uD5Mjc+J18yujo7B+WalbKG+ZBcsrpLVVnx/ohuoWhpsegcl88Mvd+cs0cvySP/TxvLn3zqlnaD1G6UWPM6rdvtB+0vnknMYeemfvfVd9IffteshbFE3Pnm3K8h51OFuyaFn89Mw9+es288lXH6uirr5g37n5oAsqzB+b2634tF/sc9eu36+u4PPvQ3Lt11Vz2dTWzdr5yyRx/97a59+9pj5NHSOz4+FgCL3vu9++YR+pRq0c/eTFwOrr+oI1T8Xz23tVQZtC6HVNlUlpzJGW0eN5cunLN3C5oSpCcPTwxy9cvm0tfaTXywsvH5tpP75snwaiU0gNe1xxnfa0c331invz6DfNKE8uReeFb18zJv6s2zx6Yt7973MbaoR91VrYZt3lmTFPvK369I9vuG+bkP4LKzdnvbpur/jq16xVd/ckDc/bXrFq3I41xsTDNOd+/U7g2Ts0yJEjH5uSTJ+b+919xayMdvWBe+e6J+fCvxsTxVhhpnRbXHHlmPnxvaa6+/IK/Lx6ZF16+at74eUdfjDHP/v2eWco1bvX0+tJdr73tVfjYx8OSNaAWi65YEkZPJSZZw8Gde/v9J8Xr3UYxah90v5trMOHq74P3P2n1k5H46zPz6D27xla7Dlazvtate+bD/FZojNmcQRbD0xNzHLRn16jx/ZC/R1+5ZK7+xO71/559aE6+L9eIva+8YU4K9+2m9DbuAWm8f3lk3v4br2Ub660H5szUzQrphrvW17yHFP4OXvupvW7q7elr9up7gWIIw26c/lDuuQvTtYZZdBJvIAABCEAAAgkBzJEEyCzf/ucdczl8MFuYV37eMxfki3vmqip/NMDMePbwtrn6zcvmsk0G/m8+2+TJzy63SfKA+ixn/YGn68NMX7knv46/NUofITp6+YZ5oJJ+s3pg3gj9Tx4Dio7ZD1uJERR9qEyOpeLRH/y/+Zq5Wnxe+si8dveJefb4tnlFzb4JfTh6zdxLH1P65CSaqRPKhj5dMsuHcTIRz5K4Zq69pD5IhvMWZqHb07o6upEZYsY8M/deb+upfWiNsEyWSbIg6xcPzI0aI5ugf+u2eRSZHQMea3tpaU6jcyIy+ZtzjLO+Vi5/+7Xo29TF4hVz5z9dM89+eyM51o6jTa5feetRNTlOA43bvFpe86gxbJ+ZR2+9okzWts2jzIQ0ZvVw2RGj02psAuuk97J57dvJY4D/xxmhcbwVRlqnqTnylw/NnchgbvvRXIsvXTP3C+b0k7uvFfu+WDxvrr6uFgdO20uBh/crc3or6aO+lq1Ov53eq2NG1/62PB62H5d+nGtg9D5ozt+8Zq6lMxtDfy6Z5R/ie1qD4ZP79XuZPdfOMvhtmkxvxiDg1xvR34Vjc7WyNtelW6fmWTXmQh+3dQ9I4n0t0bMzw+tmhe36ue4hfzk1y8p99ejlq+a18MXDwqy3AOzK3P/b9jo8+vGw2at6CNmGAAQgAAEIWAKYI3ugg2jK6cJ+Y9rXqfhDz6Bv/DurjGeuDEqSRzJHVn/oSaDkw/VLS/MofLZ+Fs0OiabgRjNk7IetI7N82HY+Yv398myKUFp/8Jc4iq+XzKXKB0abpMSPKdnYZZbOi+aNX/tfEFglM4KSmRCROVKMof1g2banx7UwSyYy2a6Z+2kOEkCojakyiXg9iX6lITefHKuj795vvwn+zzvmFeF65Y75UEyQZFxqM3AUIb95vnHWiX8c95F54f/5eD/R33K3456Wj66LPMCwp95mUvdLlzrMjhfN7cehSmPMI3M7XBPH5m35Vv2LB1FyFRu7OulN2j56wbzxvhNoPV7FKNKp/rWalTn9YTujKmam2kzXPXh8u6Pv6rxGQ7o9zSTZ1nVeeTvMknj2O31PjO9f8ayJtN30fXJN6/ZE69XXgX2IOKftJ+/19WZRrB5FWqiOxSI1HTp0kvUnYZAMQXgbmQ1J3FGdL5pLL8n9u1Au6uOzc93rB+m7K96vvGLebq7F+HNCZFac6x6i+1Poe8RpPXMk/oLkxezLgTBObEAAAhCAAAR6CGCO9ACaw+En/7j+t47xB6iBH2QrMKJvE4szDMonxjH0f1hqPvxGs1J08r4wi5eumZPHPkO3U62T55D1jJqayRHNgPEf1i7/TGbirMyD77dx9iaP6Qf/l26Y+0+dQ/Ps9zqBsXUemdd+5h8BevaheVv9hGJkXukPtVFCb4z5/Y129k7y7XNqjhx9a2ke+FhW/3nPXPta2y/d3pOfvxLqTBN7/UhNeqw84saYqTJRLFe/u9F+w3/0mrkjmjIrc/a+nnHRzsTQfF/84YPWNLEgtHGyOEeypWJruHaMc3pNNWsDRY+srMyD621ydvRt9SjV6szcv65mIviZFtWx9AeKbTYyf5bPbLA8vdHx7N/fVo8iJMnQw/YxvtgAMSa630Vs0qT3krnxfv7zo8V4I0apTtX9MRpLV794rvHaS9pMjJkvjl4xy9+d+Zk5qabsdaja64DfPsqYGiBPzMn/ba/nKKmNHimxZS6Za3cfmWe2/399Zk5/0l7v9n7bGsPb6UN+P1D38C9Oze1oEc6Yi743Rf2wsxoen8QzSiIt5zoZxqBjMPR92f7d0PeNwuyPcF3+9czc/74221QfdZ2Rzrvv9YP0reuWeMWADN2smSOxFgbfQ6JrZ2Eu/e1J+xjnF4+y2VixbkNQycbKfPizeEaWnZ0j12RSmLcQgAAEIACBXgKYI72Ipl8g/jCkPlx1hH6ec0rVPflH/cHkyPQaBqqSOIb2w3z9G8DkWWL92Id6ZEA1YZ78TH3Y/5paxV5/ODwSZvGHwRBH+GB6apbh0Zer5p5+VEc3KtuREVD4ZlwbEq/fixJqnWxrs0KqLr7+bqg5kscemUKhv8YYPTskMr70IzU6ESxG1u6cKhPVZ/3s+vE/ijHWdkEff+2fXPIdmW022fjKK+baT07M/cdP2oUD2yo22+oY5/iaysfZzhy44U2/RXGWmT7+mrmXewtZ7FGb+hqzJR/fjhaKjmeVxdfbsGTImCc/V2awGrdsVkRyTUngUbyLEqO6ORIZMz88lSrDqz7eTu1/pO4biQnkz9Tr+ww1R0Kj2cYTc2egOfLiT5LHD5LHCltzZEt96LwfJOtDRaaRXvtpYV4JBraCESXj+v4bmyPDGai6003992SxMLHOn0UzFRfpNRIxkL9FaQPJ+43uAcaYJN6MQdNc7frU94jSTFV9vL2HnP3Ta8FoX3xtaU5TB0P/rVmUr5OYQv5Y2aXriTEdn8A7CEAAAhCAQC8BzJFeRNMvoD+QD/1gHSUIUYIxtL+rZP2A9dYpsK1EMYSErcckUTNHog9b2cKqvh+RgdJ+UDPRYnP+g/Oz++aaxPHdO+ZOWJjVf9uvE70hzKIPvemMgeSDZ5KEDzFHVl98aE7fPzFv/1AvRCv84g/ZUX3ph3O7qOPdWsJZMUH0B9lCfVUVTZVJGM94XIJBJrpIX0WPX9w314JxJmMgr0fmhb9ZmpOHA5yGArh1xjm6pgprA6VJUV//2uS4EJjfFbUZPRaQJmFpIhWzrpkjq08emQfv3TG3v58sQGzHIoybDSZOekvGVlPqlozLwixKjGyhSKfttRT1NdVC+l5iixLRlIGHWGnPH+1++evKPHn8wNz7+W3zxuuysGrbx5hrzCg3s+PjYfy31Yeo3+k9sj4O5uyeeS3wvhzW0olBxQaKGJmpTgYziCuP30V8tBHjikW6SU21iEGrNd3AqPcAW3EU78Lc+L1uTbYr12dy7tB7SCeDpslKexJO8mr//h8FDaz/+SOpjrcQgAAEIACBhgDmyB4IIf7WuvLhO+pn/CGk/YYzKtTx5pl5oKff26nZ7+XfsHdU0ByKPixJklk4qVauntCrSqIPcvHiq3padvPojHpcwSYUbf1u2rqeXREnHKo9vdn5oTceg7S+tu00ATTm2R/uVBZ3bROi1CTrqs+G3HVc60sen9GP1JS/ddQg1PbkmcTj0vfBXy8kvHr8tjkOv1Kjx6Ldfv71e8mvIyk2yeZ5xjm6ViQ51/VG10MbV62fITnWdSTbUZvpdRy1F19/sUGZf1P85P1lL89Oc+Ru2YyK4i0xsv2r6DQ6NyRmFY5SdycDDzMqU06QE+zG/PWJuX/r2P0aT0cs8b2lYn6EyivHo/jScdygDxXOIZza8SHxRAa41lelj6HRvuOhYLvRE0+km/QaqfXRPh50jnt91JZosI3UbUXx6sendMH4Xhh0lJxbu3fIfrmHRHGlDHyzukxoT4cUth+Z22Hm5ZF5LflyIRRjAwIQgAAEILAmAcyRNYFNsng0OyL/tRqb3F76m6W5J2snVKcbD+ndE3P/b9W6BF+5au6on+kcUoOU0R+EdJIpx+W1Vk4n7Yu1Z464tSDCr/xcOTH335Jnv/03kYrri2/dV4t0tmtNSIzF144PvX2JYdWsiMbOPttuf6L0hrnz3qn58L2Bj9UUPjBX27MdWz0wN2RWRPNojZ5NUvvWtkikmnS60pUP476qaoyjMoljyL9VrvQr7F4Z+3O+t78rP9OZJ87xlPtwYrxxzj7VrpVQeZTYFL6pDwWHb3S2GbWXJtUxa50M2Z/bbr8Vto8pXTJXv/+2OXn/kTn9WW2W07CktjNe6Xbl2tXntgsXy0mV1yGzHKKFoIeYI3b9o3btGJuIPv/SVfPGT+2jXKeDH6uRxLWNvMJwK32om1Ahnso4GD3Lb1G7Bw2bOTKYQQiqsNGp82SWZGoM1Pq4rXuADb8nXtfDyvUZnTv8HvLox0qvxcXMz8y9b7f3S30/yIhHerxh8gfcsjPYAQEIQAACEBhEAHNkEKapF0oWJm1+NlNi1r/6sDDPv37bLNXP9kW/uCGnVF/jZ3yPXl6a0yG/UFKpTyca5zFH4vUMyoZFdc2RJib94flF86J8E3W0NO5JfPXt1NdebNdOqBkxaT9rH3qbcpUPnr6OmhEQfcC8csc80QtJdrRXq09C7j6uF+A7MjfunrQ/BR0tdCi1dbx2xHhew2hcJvGiu0fFD/Ed/YsOrcyzTx6Z+z9/I/552zQ5is5xb87bp95rKlpT4si88dv0wf9CMD27OtuMEqmh5kicJKUL3Na1Wknsk/g745WyFZ3q2WOLwdqP1+vQC0NLc2uvORIlhy+aG7/TN+Kue0sfo9rxLfTBdr7CWbjUj6t782KzNUemao5s7R5g4XZel0K/oqNz3kOix2Cj9at8e/pRzb41R3T8BbNfesArBCAAAQhAYF0CmCPrEpto+dXvb7TJu51ibX8R4f0Pm8Ug7fPK9398bF5Ip17/f2+YB/ozdU/fol+leWlpTuXnSnvOqx0elKSka5NEieWH5u3wc5/r/VqNxPQozBZpv7FaqIRYL74p04QHf2Pc+cG/8sHTB1ZLADWz9ld03EnROdHihd2Pzdizo3NLHzbVeitHR+03gINmQQhs+zoDJtGMpOZXhPyveTS/gnHHvCazaBaytsCzaMHFUvKrx22IfnT5dcZZn1c2HONYo1/VsL/wpH/5YeBaMp1t6iTGLgD7VIuhdg3E+1MDp/2VlvSRs1pir9vs+RZfitZ0qq4Dez9ofnXE+0urp/fNDXU/aq8NbS7ae/Pl5ld0mtMKv6qVPhInIUWvEdc3zIPI49ILR+vHSWwNfYxqx7fQBxtOjbN0tuP4hz9VMxj1r+6s+Ws1UzVH9HU17j1gQ3PEnPMeksyEef719peyVk8fmOW32r8r9trqnDki+uAVAhCAAAQgMDIBzJGRge6uupU5/fHleCp6aoYU3h+9fNW8bU0UPwOhmiR3LjipjAXbRim5LoDRH/7KiZw7qavc6mH6k7hJLNLnl9Qv1ehYkmTHfijTj1LEibKtWxJiXUllu+OD/blnSWgzx/40sF9W4dnD2+aVkLTbOOOEqTquPvS+48bE39Q6o6jySx8VHM3uWTCJZ1u5vua60rOuVn9QOvQ/4yn56uoTnTRfMrcfdwFyxyLTbo1x7rpWQquPb5tLcl1UX4f/8lRnm1ESP9QceRaZTfanQj9sTNyVefLetTj2aBZXLbEPPW82OuOVolWd2tjiJK6oj/R+88lJ9LPFxXPCWAx4rCZ6rET9DPjqibmnH3tcLEycWPcx6jg+dh8s6ypnPxBdx/9yapbKjKozTa+5jj46hZhlGIvaehwiFP/aqfMeQ67Sx63eA3ridb2KTcrIrDjXPWRlTn8oj67m99N0/KL2EtzRzJeBnzfSKngPAQhAAAIQKBHAHClRme2+lfnwbjKFX33ISz98tO/bn2KtJcl68dL2vMoHnIEfVgYlKZ0zR9xAPbFrqnT0s/vxnzTpTxK46EPkwmQ/w9illcqHXndKxwfPrpkc1qSqLfp59Lx5Phgk8XP4tXGV8PuO23LRh3XLW82wkXp6X+fC5JN75mqN82JhGk0lM6ee/NPVnsUxj8xrdwcuXHzOcR56TXXHemQu//jUiLnTN6adbUbXT3JtVRfMtD8B/Hb8KJK+vr/yvOKsTcC+pNf1pDNe6WyXTm1S/nKHQfKVq+beJ1JR+9p1n7p0a9n+UlYy66utId569NO6Gf78V55vfzY1uk77GHUfH7sPG5kjFscn9821LoPk6LJZ/j6dHtndx/7ZNfE4NO86dX4+c8Rs8x7QE6/rYfffqHPdQ/7yyNxOZoiEzxNHr5nlD9v1hDBHCjpjFwQgAAEIbJ0A5sjWEe+ggdWZOb1721y7on/W8ci88PKxufaTE/Pg4X1z+4r68Kymz5eT5HgNgPBhRicsevuCzZGG8BePzL2f6J+0fd5cunLN3H7vQ5N+NE5HJJqmr1i4cnpdkoU5ih7rSWtK3nclWF2JYZc5Ypv44tS8rRb8PPrqK+baT+41365rA0P/ikx5XNt4+443JaNp0a2h1tYyYGtGTMxfz8yDn14zxy+/EGZkPf/Ssbn20wfmTK/1ort99sDcSX5y9uirl83xd9829/+zT4m6ovON86DEX5o5e2De/u6xufxVSfTdNfP278q/8iKnpa+dbXYmYd3J1+o/7pnl65eCEdIsOPpzyz6eWdI+vtKX9LrIO+OVznXq1BZ6Zj58b2mufrONz47z1VvuOpRq0te4T0fmhW+5e9QqetxlwMyRpuKVi+EluZc/by69/oa5Y8cvmlmiZ3j1Meo7bsyofejj3HfccrCPJr1n/961Y9Fcp/6emI5Bv/nRzyCrs1Pn5zRHbCPnuNcP0ndPvK5/3ddnU+Zc95Bn5vSn18wrct9pFlu+Y06/iB/vxBzJVMYOCEAAAhC4AAKYIxcAeapNnP3ubXPtWy+Y458P/DZ7qh0hroshoM2R0oJ6FxMFrUAAAhCAAAQgAAEIQAACEBidAObI6EipEAJ7SOCLR+aO/pWj6w8GP3axhzToEgQgAAEIQAACEIAABCCwZwQwR/ZsQOkOBMYkEP2cZHh0ao1FaccMhrogAAEIQAACEIAABCAAAQhsiQDmyJbAUi0E9oFAtBaJN0eeZ9bIPgwtfYAABCAAAQhAAAIQgAAEFAHMEQWDTQhAICZw9utr5gX/CzjNwq8/Pe1d4DaugXcQgAAEIAABCEAAAhCAAASmTwBzZPpjRIQQgAAEIAABCEAAAhCAAAQgAAEIbJEA5sgW4VI1BCAAAQhAAAIQgAAEIAABCEAAAtMngDky/TEiQghAAAIQgAAEIAABCEAAAhCAAAS2SABzZItwqRoCEIAABCAAAQhAAAIQgAAEIACB6RPAHJn+GBEhBCAAAQhAAAIQgAAEIAABCEAAAlskgDmyRbhUDQEIQAACEIAABCAAAQhAAAIQgMD0CWCOTH+MiBACEIAABCAAAQhAAAIQgAAEIACBLRLAHNkiXKqGAAQgAAEIQAACEIAABCAAAQhAYPoEMEemP0ZECAEIQAACEIAABCAAAQhAAAIQgMAWCWCObBEuVUMAAhCAAAQgAAEIQAACEIAABCAwfQKYI9MfIyKEAAQgAAEIQAACEIAABCAAAQhAYIsEMEe2CJeqIQABCEAAAhCAAAQgAAEIQAACEJg+AcyR6Y8REUIAAhCAAAQgAAEIQAACEIAABCCwRQKYI1uES9UQgAAEIAABCEAAAhCAAAQgAAEITJ8A5sj0x4gIIQABCEAAAhCAAAQgAAEIQAACENgiAcyRLcKlaghAAAIQgAAEIAABCEAAAhCAAASmTwBzZPpjRIQQgAAEIAABCEAAAhCAAAQgAAEIbJEA5sgW4VI1BCAAAQhAAAIQgAAEIAABCEAAAtMngDky/TEiQghAAAIQgAAEIAABCEAAAhCAAAS2SABzZItwqRoCEIAABCAAAQhAAAIQgAAEIACB6RPAHJn+GBEhBCAAAQhAAAIQgAAEIAABCEAAAlskgDmyRbhUDQEIQAACEIAABCAAAQhAAAIQgMD0CWCOTH+MiBACEIAABCAAAQhAAAIQgAAEIACBLRLAHNki3LGq/vLLL83HH39sHj9+zH8YoAE0gAbQABpAA2gADaABNIAG0AAaGFkDmCNjORhbrMcaI5999plZrVb8hwEaQANoAA2gATSABtAAGkADaAANoIGRNYA5skVTY6yq7YwRjBGMITSABtAAGkADaAANoAE0gAbQABpAA9vRAObIWA7GFuvBHNmO+LmpwBUNoAE0gAbQABpAA2gADaABNIAGrAYwR7ZoaoxVNeYIFys3bDSABtAAGkADaAANoAE0gAbQABrYngYwR8ZyMLZYD+bI9i4Abi6wRQNoAA2gATSABtAAGkADaAANoAHMkS2aGmNVjTnChcrNGg2gATSABtAAGkADaAANoAE0gAa2pwHMkbEcjC3WgzmyvQuAmwts0QAaQANoAA2gATSABtAAGkADaABzZIumxlhVY45woXKzRgNoAA2gATSABtAAGkADaAANoIHtaQBzZCwHY4v1YI5s7wLg5gJbNIAG0AAaQANoAA2gATSABtAAGsAc2aKpMVbVmCNcqNys0QAaQANoAA2gATSABtAAGkADaGB7GsAcGcvB2GI9mCPbuwC4ucAWDaABNIAG0AAaQANoAA2gATSABjBHtmhqjFU15ggXKjdrNIAG0AAaQANoAA2gATSABtAAGtieBvbDHPnTv5ivff0fov9v/mksa6KjngtqF3NkexdA583l6W/Nq9evm4X6f/PxjmJZ6Xb/y7zz5nWzePO35tNovy7DdufYws3Ah2sEDaABNIAG0AAaQANoAA20GhjFHPni/X+OjInIqPjBQ/NFh78wyiFvUgwyRD5/aL7njZSsvDoW9SEYL/9sfvV5JeJ1YqhUUds93Bx5bG5ev25e/c1/ucSnSe7fMu88bQd8PuLfsQHw+N3GFAksp5RMe9NmkrFNiROxYICgATSABtAAGkADaAANoAE0MFADo5gjOqn/49/bGRz/Yv6od257e5Ax8WfzpjU5fvDQ/NGbOVTESNwAACAASURBVJk5Uo3zf8yvfuDOrRo9g2KoNtB5YLA5kpghn/7mrRnPLkiMnoGCHsf8cW1PdmaGN26mMYtljsYbMY9zncARjmgADaABNIAG0AAaQAP7o4EDMUecuSFmiMx0kfedzoQ9OMT4GFKmt6FygaHmSGyG+JkXv3g8T6dwlwaAn5kxVfOhGefrc50RtD83T/4QMpZoAA2gATSABtAAGkADaGB/NHCh5ogzJeysEj8TQx5X2fTRmzWNifXMEYm1ZzbMgBik3e+9/z9lF6Syt9sc8SaIWhdDr5Eh22mi/8Ev4rU0FiUTxRsUUseikJA39WRrX+SPxOhycdvvmg9kVog3Jdr2khivXzdpPwbfjAb0ReoaxXxQBkvob8PJz0rRjz/5/odyyVimfXblFDfhl722bQnTtC7X51xDPLKzPzd50TWvjCkaQANoAA2gATSABtAAGqhrYAfmiFs4tTUI/OMuf//nijUwYPcAY0LXIibFoJkjfh2SNl5dk9rujUFMlp7Hc1SVstltjvjBbZJxNZugMQMKCbRP2tNHRj74hTp3tTIuAe/b55PvzFhx+9sEW2ax/LZZSDTsl1iy86X9QvyZAVAXt1z4w/rS1jPcfGjPkbbCa9O3t8zNX7zVrAEjhsurb1qmwkNm9XiO1+P+yjnxmjG+bGZIJbF4MyiwXq2Mqy81mHx9yRjYsmUjJWnnHOMRGHHuPGd1MW6MGxpAA2gADaABNIAG0MAeamAn5khqNGy8TkmvMSE2g3tdxxwZHNuAGKTdtP9xdPm7IeaIS3zb5LpJ8JOEd7UqJ8JpslpOyldm9dT9ektIuNP3coH4xLxNrn272WyJWjypeXD+hHxYX/KZEzLTon1t2aa8iu9lpoo3MVwcsliu67dwLJsxPqbUBKkxF/b2tVamtL+JMzbBiv3R9bPNH0M0gAbQABpAA2gADaABNIAG9kwDOzBH8l98GWxA5L6B2zPAmNCniknRO3Nk6KwRW/maMeh4+rb7zZHUTHDJd2tOOHOhahREonbnFh+zSZPrzASptePrTGZGiFkjJkFIytN2ovjWMUrW6Etoo+OcUKY/BjFD3BiI+eINFt+/5li1r5U4KswDuzDrJzVzJIbECBETJxub/j7qNtmGFxpAA2gADaABNIAG0AAaQANz1gDmSIczsZZps1NzxCXSwQxpEt40OfaPqqQzEdKEvyv51kl9eEwjbUeScLW/ZgDU2qrtT2Pte99VT9KXcBF3ndPXnjoezwZx4xNMoKYNZ1JUDSsfRzjH110tH9p2bbUzXtS6LbWx922Fc7IZR9zkgz4CZ5jABA2gATSABtAAGkADaAAN7JMGMEdq5oifNfK1oWuh7MIcSZPaZCFPl+yKSeFNi1qCLEmfStxToceJeaU+bzpEM08qdcb1tTeW2v40nt73lXbtebU2avt72xJ+zatnIyZDYsQ0bfhxiE2UloHbn64PMmQtlsSIieJq66/1x/X/uonGb806anWzv58/jGCEBtAAGkADaAANoAE0gAZ2owHMkYo54maN5I8AVYoPeqxGHucZe82RJpGWRNyvK5LOOFitKmZGmvh6wyXMQgnH/YyEpJ04ifZtWJMmlKsn9E3cBbOmZhisfZMY3Jf24hun7cSgaOJITCrPp9iejzv/daAhY5iOU9u3YfyGtLFunZQfxh5OcEIDaAANoAE0gAbQABpAA7vSAOZIye1Yd9aIraN35si2fq3GJcPBzHhqF01N1pXwBofMCoiNk8fmZmRQ+OS6d1+aRPv3v3jX3IwWXk3LycUu5eUXW2S/zOrIZ02sf5EM7Yu0XYtVjg98bcyNdgxiE8jFFMYgNXD8ufZXbhbZOiA+vmi/2xfGP6w50rZf45b+QlFTLo0nmGMD+055FuZCA2gADaABNIAG0AAaQANoYIYaGMUckRkRX/u6+5ne6PUHD80X3oBw5fLZGGut7VEyM3qNCWM6Y/x6HNPas0YGmSNtDKPOHEkScf3IRjEp9slvWF8iSrQlAfamgnpMRyffod6kribhf+p+0aYt7+tSM0ma8325YBIkF4+bUTFgvYzkvBBb2D+wL015V7YWU1638IpfnQlVnikivyTT8pGZNdJXd15sqKj6Pbd2/MomSMavGUuJSeoTs0Xatq/l+ob2nXLClle0gAbQABpAA2gADaABNIAG5qSBUcyRkl9xofsGmCNbj2eLMfT/Wg0X3SgXHbMmcLiDqcY1Nco1BU+uKTSABtAAGkADaAANoIGZaABzZCzXBHNk9he9m22Rzq4gSSZJRgNoAA2gATSABtAAGkADaAAN7LsGMEcwR2ZvaoxykfpZI5s+UjNKLDNxVukrfyDRABpAA2gADaABNIAG0AAa2BcN7JU5otc6efNPY7keHfX42SLbbpfHarZ1w4nX3NDrgOzLBU4/tqUd6kVbaAANoAE0gAbQABpAA2hgnzSwH+ZIh3+xD4cwR7jp7NNNh76gZzSABtAAGkADaAANoAE0gAampgHMkRm4J5gj3DimduMgHjSJBtAAGkADaAANoAE0gAbQwD5pAHMEc4Q1R1jjAw2gATSABtAAGkADaAANoAE0gAYOWgOYI5gjB30B7JPTSV9w7tEAGkADaAANoAE0gAbQABpAA+fTAOYI5gjmCA4xGtgbDXxgbi5eNe98nP9B+OBHC3PzX/P9/PGECRpAA2gADaABNIAG0AAaWBnMEcyRERLjT807xwuzWCzMq+9+OkJ9M7w5/evNpv/7mnx++u6rTf/sGDf/j98xn+6NoTBDvRXZW2NkYRbFsfHHFhgk/OHfF73TD7SMBtAAGkADaAANjKsBzJF9MUd2mpzv0Bzx/Q5J+66Sv53yH/em0H2T9WNdTMAvMo65trU9fnZmyGJx03xQNE4sL7lOu8rMlStxd1+38IEPGkADaAANoAE0gAb6NIA5gjky05kekujl34R/8KPyYwV9F8NGxzFHZqqji/4jsSVzZKj+Pn7HvGpnl/zoA8araiJdtCZob6N7L+PItYwG0AAaQANoAA2MpAHMEcyRWV5M7lvyHZggtQtvaHJaO382+7eU3M+m/5smstvgt16d7hGpCV07BzP2m2qH8zFR0AAaQANoAA2gATSwTQ1gjszaHGnXEdCPlejtaA2QJoF3SVG6hkS2VoZ8wyxrTBTXE8nbz+qxiY+vyx6L2z1ngiaxDf72uz9OF5d93MAnmtLv2uMj3gzRrO121v+sXP5IQ2P0NO0kbXc+IlG5MXaxqRxzRpNfS6Tpdx5jexPqSsQ953RcfLuRFpuEuH9c2nYr/c0S65RheR2cWIelx1GG96Udv6Q/ikPenuZdaj+9VmpriazMal1jrjoeQxlTbn1dwgxmaAANoAE0gAbQABqYugYwR2ZtjqgLbEiCpBN1lfRnszBs8qSOWxFLcpcnuD6GrvYlKbeJt6rXtduViKv+6SS4qy1dzm5L2ypRlWRS90X6Zw2Odn85QS7GXYhJ6tSGScZ6tTJun0uWs7YVr2E3EzEHcq4untiQsm3r+FYrSfDz8137I5kjA8dlWJ+9TqTOhFn8mFWJj+zTbMpjL3pqxykev8DSx6LL9fNr9V7SidVtXp9cm7XxautsWXaNYak8+1p2sIAFGkADaAANoAE0gAb2VQOYI4dojmijwBoIhcQ+F7xPqNJzxYzoqqOStA5rN7/5lEyHPF53XpNkJsmyLZvulzrT5NMlqSrxrPUz2++S67Q+MR/0ftdGalJI0q3aFtZ9r1kslsUaCXFzvjYK9Bh01bOmoTBgXGrjWtqfjVWJU7Vvaezpe8+gYHqUx6/GqbZ/KGNdzm037RdYlhjJvkGsSvzYN8vHEGXcec2vH5jABA2gATSABtAAGhANYI4coDkSvt1eK9HpSeqKCbm/0AoJZSPArnM6YhMjo+2Hj00ehVlIYl8zKOTbdimXv5cLJE0iXdsFwyLtSzUJzzmmbUjb538tJPZ+DFpmHTfBtC/RWOTxt3EW2rXnZuM/fFzaujvibeKr16nr6DIS4mND+1IzsWqcavvj/jlNxDOtdD/a7WH1teVdO07Hrf7T47yPxwMe8EADaAANoAE0gAbQwP5rAHMEc6T4TagYEOmaGvqxmOgG0ZVQZ8mxv7C6zokS8vhClNhKiX6U9Pl2sz5kJspwc6RqZCR9kRirbatv+qt1djCI2BfKufZbEyd9357vTYDApF0Lo8S3ewbKQENhjXFp44w1kO2vaSxi020kxOMwsC8yCylbH6bWVm1/3r9MQ0ozbf+H19eeU9e7LsN2PiYwgQkaQANoAA2gATSABvZXA5gjmCOZOSLfWsfJcU8SlpgD0U2jlrh2nRMltckFKMl14REfl1DKN+IuwdWPsERxqTbi89r24oS5Nkug8GhS0zeJo62v1H7aRqnM2vs8IzeGbuwyDsIxTbo7x6VLB0MNheHjMrjfNY2pMbZ1NazT/jZl0n4N7UtNE2l9ooHafjlefm2NktbwEjb1PpXrChwyQ6deXtriFUZoAA2gATSABtAAGkAD+6oBzBHMkcQcqSVvtf3+5tCVUNcS145zQjLYlcgWkrvY5OiJWSXO8XntDS81LsrlfDv612pqfVZtyk0lbUP2V1/F1AiPD7Xxtuf4mKyBVDNqavxr+4smgm67bCjIWLbmzPBxafuj2yltD6uzPH62vtSwGdqXizFHLIda7LX9dXbDWNXPL/FnH7zQABpAA2gADaABNIAG5q0BzJF9MUfkV0aKZoIXaWfSK0L2iVOUePtEMfm1meji76q7ZhRUz5EY7CMeldkXwSCIv0nPEkXfxqIwy0THn53nTYzcuEiTZhfrqz+6aV7V5ojMUkj26TZlO29DxqL86mJNf92mULbp+03zzruvmmL/C2x03fHMIam/O7FO+6Lra82RdqZNMa6CgSSsOl8L/bHl41+rES1r3Yje9L7c9Kj1Je2zi7HOSeop87WcbYxxLJ2PM/l+1+uTsfOvtevxvNw5LzGYE97wgQ8aQANoAA2gATSABmahAcyRvTFHJKlq14yIf5a2TUj7kyhJIKUuZ1A0SaA2XyQZLaxXEZkatWSsI6mTBLK6xom/wbjEVOL0rzrGplzaH19OGSauvdyIKSa+wZhx9TQ8/b6MbYWRLldso+sGGtrP443Ng7bfuj1dJnCWMbRMsr6IeZBw1ueEeJOyzVi4OCJzZOC46FiHbbd9lvVe8r4nMdp+KC207STlKn0pj58/N9OiS5wz7qkZEsZYMS/GaOvrbqvtj267TzuubHou7+GCBtAAGkADaAANoAE0sK8awBzZK3OEC3VfL1T6hbY7NdBhNEbnielSNVrgHPEKph9c4IIG0AAaQANoAA2ggX3XAOYI5sgspjjt+4VI//hjs5kGZJZL14wQKZM+sgP7zdjDD35oAA2gATSABtAAGtgHDWCOYI5gjvDtMBrYCw3II0Vl88M9/tNlnvBHfR/+qNMHdIwG0AAaQANoAA2ggfNpAHMEc4TEeC8S4/PdAKZ745REX625IWucJK/5Wib7xmKd/nxgbh7fNB98nJ7jeObrr6TleD/da4KxYWzQABpAA2gADaABNLBNDWCOYI5gjmCOoAE0gAbQABpAA2gADaABNIAG0MBBawBzBHPkoC+AbTqP1I2zjQbQABpAA2gADaABNIAG0AAamIcGMEcwRzBHcIjRABpAA2gADaABNIAG0AAaQANo4KA1gDmCOXLQFwAu7jxcXMaJcUIDaAANoAE0gAbQABpAA2hgmxrAHMEcwRzBIUYDaAANoAE0gAbQABpAA2gADaCBg9YA5gjmyEFfANt0HqkbZxsNoAE0gAbQABpAA2gADaABNDAPDWCOYI5gjuAQowE0gAbQABpAA2gADaABNIAG0MBBawBzBHPkoC8AXNx5uLiME+OEBtAAGkADaAANoAE0gAbQwDY1gDkyA3Pk448/Np999hkmBk4uGkADaAANoAE0gAbQABpAA2gADaCBLWgAc2QG5siXX35prEHy+PFj/sMADaABNIAG0AAaQANoAA2gATSABtDAyBrAHJmBOUKIEIAABCAAAQhAAAIQgAAEIAABCGyPAObI9thSMwQgAAEIQAACEIAABCAAAQhAAAIzIIA5MoNBIkQIQAACEIAABCAAAQhAAAIQgAAEtkcAc2R7bKkZAhCAAAQgAAEIQAACEIAABCAAgRkQwByZwSARIgQgAAEIQAACEIAABCAAAQhAAALbI4A5sj221AwBCEAAAhCAAAQgAAEIQAACEIDADAhgjsxgkAgRAhCAAAQgAAEIQAACEIAABCAAge0RwBzZHltqhgAEIAABCEAAAhCAAAQgAAEIQGAGBDBHZjBIhAgBCEAAAhCAAAQgAAEIQAACEIDA9ghgjmyPLTVDAAIQgAAEIAABCEAAAhCAAAQgMAMCmCMzGCRChAAEIAABCEAAAhCAAAQgAAEIQGB7BPbDHPm3t8xH33gu+v/Jv20PWqh5V+2GANiAAAQgAAEIQAACEIAABCAAAQhAYFMCI5oj/22efi82KP78q//eKL7//dV3zEff+I55etZTjTcpBhkiZ780f/ZGSlZeHUvNFve+I5Z1YujpDochAAEIQAACEIAABCAAAQhAAAIQuDgCI5kjfzCfWMPh7/7QRi5Gg97XHh20Na454mP83i/N543p8pzJzJFqVN74+d4vzf/WyuybOfL0xBwvFmYR/h+bk6e1zrMfAhCAAAQgAAEIQAACEIAABCAwXwKjmCOf/91z5qOScbChYTCeOeLMDTFDXL1rmCND+jGkzJZ0cnrLmRjHd+MpNmd3j525ceXExEfWC8TVgzmyHrVC6YfLYDYtH+bHw3j1GFJZuVuneWXsgQAEIAABCEAAAhCAAAQgAIHBBDY3R/wMkfIjNPGMkprZ0Zgr33jLfG7DlhknyRoi+jEXMTlCL9c0JtYzR+RxIR9faDTZGBCDtFtmldS3xlsxRxaRCXJmTq74mR/R/jUq9kUxR9Znlp9xapbB9FiY1BxxjJdG2xxigrRlZUx1Ob9vwzHO42UPBCAAAQhAAAIQgAAEIACBwyGwuTnSaQrEj6MMMkcU+1p5VcRtdsaQlTZiUmQmS140mDW9hkZvDGKyVGbZlNoetM8lx8e3luZ4oWZ3NI/FLM3SzirZMHHGHBk0EJ2FnIG1NKd+9khreNjTnHGSzvyR/QuZGdKcq8ZYWvSPQMV1ykFeIQABCEAAAhCAAAQgAAEIQKCPwMbmSJ+BoWeF1MrqMjrgWnldptnuNSbiM9YxR2qxxTUaYwbEIO32Gi1Z5V07vDly98zYBFwSbGto2O3G2EjMEZmRMHQ9kX5zJJ4VYeslUVdjpg0RvS1FZH0XMUFkvzdNxBxx46BnjUjBmrkix3mFAAQgAAEIQAACEIAABCAAgS4CmCNddDofGUpOHGCOJGeM9LY1R4xNvBsjxO5zMwzShNq+FwPFBeDOX+hZJ0lkneZIKbH3BkDcTlLpwbz1xpEYHyVzxJTHwHFvjab6OPjzpY2DYUtHIQABCEAAAhCAAAQgAAEIjENgY3Oke8bEvB+rGTxrxI7FzswRPWvAbh+bk4cn5tjPFnEJdWm2gRJQz2MZ9aTcNLNVSo/tNI+RJDNWVIsHsxkep5EeF80RY4yYTGJS+XIya6Q5XcokXF0bCxOVlfZ4hQAEIAABCEAAAhCAAAQgAIFeApubI52zK86xIKsKeaeP1cjCsEN/ingS5og3Kxbx4zWLxTBzpDbTo26OaGNGDZxdV7f5pZzC+hhxsf1+VzJCSvsCBZlBUv71IVfMz0SJFndl5khAyAYEIAABCEAAAhCAAAQgAIFzENjcHDHx7JAohsYw+I556n9Htmx2eANFfq1GVVAurwrI5prGhKz90bUgq5s10sYuTVVfB8Qg7Y675khiUDTJd2tK5DNH4gS8XXekNVTSPlaNDpnJoBJ1XV/XozppG/v3vmJYVMwRx1iPgZgg7VjWGSUaqBfkCAQgAAEIQAACEIAABCAAAQgUCIxgjrSPlHykZ1mUZpRk+8QYec58VDBHws/66noLnVj3kRYxKarmyLqzRmxMvebIln6tpueRmGYdEnlUQxb4TGeS+DrGnDlSGqaD2tdrHLnZIc3CtVX+3iBJHqPJOFYMl6wcOyAAAQhAAAIQgAAEIAABCECgSGAcc6SpWhsd1ux4zhTNB28i2ONSxpkVb5nPSyGKUeHLyzlR0V5jwoSf75V249d4hsjas0ZsMGvEMOrMkXXMkVoSXtvvIVdnjshCon3JezRYB/6mZGT4fbk5NcQc8TNUGIMDFxbdhwAEIAABCEAAAhCAAAQ2ITCiObJJGBueO8CY2LCF/tN3FcM5zJFoAVWfmNvHYfLk3HW7bo4Y42amsBhov0B8iZI54scwfQxJFlqtjUu7iGvPmjKDg6MgBCAAAQhAAAIQgAAEIACBwySAOTLWuE/aHGl/DjaYGbJOSDPjIF+zQtbAiNcQcY+C5Au8+hkOUqe88tOyubpK5khTqsyweewm1JKvFxMfDwXZgAAEIAABCEAAAhCAAAQgAIE1CGCOrAGrs+iuzJHOoDgIAQhAAAIQgAAEIAABCEAAAhCAQB+BvTJH9DoixfVO+mise9wbIhfe7rpxUh4CEIAABCAAAQhAAAIQgAAEIACBKoH9MEeq3eMABCAAAQhAAAIQgAAEIAABCEAAAhDoJoA50s2HoxCAAAQgAAEIQAACEIAABCAAAQjsOQHMkT0fYLoHAQhAAAIQgAAEIAABCEAAAhCAQDcBzJFuPhyFAAQgAAEIQAACEIAABCAAAQhAYM8JYI7s+QDTPQhAAAIQgAAEIAABCEAAAhCAAAS6CWCOdPPhKAQgAAEIQAACEIAABCAAAQhAAAJ7TgBzZM8HmO5BAAIQgAAEIAABCEAAAhCAAAQg0E0Ac6SbD0dHI3BqlouFWaj/y4ejVU5FEIAABCAAAQhAAAIQgAAEIACBcxPAHDk3ummdeHorNh5aE+LYnDydVqzm4bIxSQ7JHAnjc+XEnHUMx9ndY28gLc1psdyZObmSjPWtcsni6eyEAAQgAAEIQAACEIAABCAAgYwA5kiGZJ47muS7J/GeTM8OyBwRs2P50M+cqY2RZ3J899SbHyVzxBkjx3eVveLPW2CQTEbeBAIBCEAAAhCAAAQgAAEIzI8A5sj8xqwYMeZIEctud1rjIpghHebI0xNzvBAzRGaGyPv+LrhZKROcIdQfOiUgAAEIQAACEIAABCAAAQhMggDmyCSGYfMg1jJHZLZBWP8jScSb43Zfu06IfQRGZkEsQiLv426S+/hRj2h2Q9o9337XYzVtW77eYDKklc3lfYc5EnVhfXPEscIciTDyBgIQgAAEIAABCEAAAhCAwBoEMEfWgDXlokPNETEdtDGRzTwI5olLuF3dx+a4MShckh/MD2uMJMaFtBHKpOB6zJEsHrO+YZA2ufv32zNHcl677y0RQAACEIAABCAAAQhAAAIQmBMBzJE5jVZHrM7A6F7s0/iZILlpkRgeYo74dSzi5Nsn+Z1rXHgzo1amyxzxs1C0edN0u7a/g8m0Dm3JHJFZO4lBNa2+Ew0EIAABCEAAAhCAAAQgAIFpE8Acmfb4DI7OGRjxoy3NL9bopLkxJUqPX3gzQ8om5oWrWx69WcMckfrSXiT168Nu1om0pY8MaVeXn9r2NswRX+diYTIzaWrdJx4IQAACEIAABCAAAQhAAAITJoA5MuHBWSe0ITNH5HGX9md+EzNFzIzEvOgzR6r1Sn1pR5L69eGqySPro9Rmo+hKJrk9tjkijxotTD4TaJIACAoCEIAABCAAAQhAAAIQgMBkCWCOTHZo1gtsiDliGlOiNHMkaSsxL7rMETEz4pkLyUyUpHoXR3m2Q33mSFrJ3N6PaY5gjMxt9IkXAhCAAAQgAAEIQAACEJg2AcyRaY/P4OgGmSN+fYremQaDzZGaCVLb77uT1B91sutYVHBub8YzR8SQWsx2Fs3cxo54IQABCEAAAhCAAAQgAIF9J4A5sicjPMgcMcZIYh3P9EggJAaFO0fWAfFJfpOYywwGPRvFH7ePwZzjsRoTfplG15nEN8u345gjMn4YI7MUAUFDAAIQgAAEIAABCEAAAhMlgDky0YFZN6yh5khTrzc/0rVHgmEy2ByxtSkzpFkXxJkaWTyVNl0MuRFSXsckL7cup4stn7JJ1ngJMz/EZEqOyzorYjLJL9PI/vRVyl1sJ2kNAhCAAAQgAAEIQAACEIDA7Algjsx+COkABCAAAQhAAAIQgAAEIAABCEAAApsQwBzZhB7nQgACEIAABCAAAQhAAAIQgAAEIDB7Apgjsx9COgABCEAAAhCAAAQgAAEIQAACEIDAJgQwRzahx7kQgAAEIAABCEAAAhCAAAQgAAEIzJ4A5sjsh5AOQAACEIAABCAAAQhAAAIQgAAEILAJAcyRTehxLgQgAAEIQAACEIAABCAAAQhAAAKzJ4A5MvshpAMQgAAEIAABCEAAAhCAAAQgAAEIbEIAc2QTepwLAQhAAAIQgAAEIAABCEAAAhCAwOwJYI7MfgjpAAQgAAEIQAACEIAABCAAAQhAAAKbEMAc2YQe50JAETi9tTCLxdKcqn1z3dynvowxBmd3j81isTCLKyfmbIwKqQMCEIAABCAAAQhAAAIQmBQBzJFJDcf5gqknbmfm5MrCLG7tQ7peZ+MSeWtMyP/dGBT7ZCjU+uK0dmxOntbHYx+P1K+x8/T21CytVgdel6m+j+/W7Zm27G6ugfPQ4BwIQAACEIAABCAAAQhMgQDmyBRGYcMYQuK2WJjlQ13ZnpsjT0/McWOIpIngqVnu4Bv+mqGgR2Qu27W+HKo5Mu64DTRHRN9DtfxwuXODcFxO1AYBCEAAAhCAAAQgAIGLI4A5cnGst9aSS1iXZmkf64gSqX02R3yCGfV3a4gHVVwzFAadPLFCtb5gjowxUEPMytsmtQAAIABJREFUEVema5ZIHElbZ23s4vK8gwAEIAABCEAAAhCAAAQ0AcwRTWOm22KOnDbfHOtHHsrmiCsvj6DYV32OMaapx87G8AmXn5HSnleYqREeaXH1xjNYNFgfU9qmLjJgW2Kpt5NUEn2rbmNM+2BMk1Q2Zkvb7+ZRncrjDy4J1RzL9Uqs4bGfgqHTti18pN48zqRno7zt7IvMYEjGOPQnzFiS2Esxp8dU8p+MTXlMkzEJbZa6L20lui4V7dmXcSlqYVhfsrpSnloX4RrsCdAfdnU77np72NmUggAEIAABCEAAAhCAAAQwR/ZAAy75tomRTwpDApe+N8aWjb+NLiSSIVl1yWWTbF05NsfKOAh1SOIc2hRzZZG040FL+UXl+MDxWCcBFHNCJ93u/Dh5dvucKRHK+nhDf5v4fKKu+2y8uZKYLnk7wjs2EHTbbVu+HZ00D+QzvNjwvtg6HcuYm26rxLo5nnH07SaPRRXPF81o3l6jLSsVhZTfUGOqRju6HeuEdPWlxKqrLtdqo4eh4+5ZiGadlmJ9xX3hHQQgAAEIQAACEIAABCCQEsAcSYnM8L1LKF0yFCevuTlS7J5PJiW5cjNH2gUj4wQ/TuxqSVxtvxEDZ6OZI2WDodg3n9TmSbTrh97v+llZt0Ulqq5cnnxm+1OuEmBhf7ntsuEi1YzxmsXsK63tj/VViiDWh5TQGnX7fLnETAr6UEZIE4viL3XW9oc6NtKYtCKv5X519sWPs9ZYVF71UVpxr+1167jJLKL0sTlbOo+rNnZxG7yDAAQgAAEIQAACEIAABDQBzBFNY6bbceKpk6U2yersWprEdX4Tret323ny1z/DoDOe3oMFc8T3ITzqIcl005fSt/e+DilXmfkREu1Qrs40TUrjcdGd0gzd/vRcXXp728P7IjG4PpV4SomSoZP3t5TUSw2x6bErjUk08lrqQ8+x9LqS4gVDIxxqNkTf6ewqH4MylEq6Ke2L6+cdBCAAAQhAAAIQgAAEIJASwBxJiczwfZqEt+9LyW+beAUjwa99EEyOoeZIakikayiM+s29HhjpQz57IzUzHAv1zXsaYzA9Skm9bdO3FcrVk+Q0KXXvO9pWMwfSc3Vvt7c9vC8SwxBzxKSmQNGgGtj2zjQmPZbXerxVoyflIFUNNUeUPsKp+tr09YcZX77QbrQUImQDAhCAAAQgAAEIQAACsySAOTLLYYuDbs0Qvz8kZafm5Er7eExI4tQ3z80ZofyZq0AnYNmMCp0kuu1gqsRhbfWdmB5pYpiZGcXEvBxaOak8vzmSjUu52WZvue2OE0Y5pMcyrrAWzyBzJDGUmrqCuSTt1Nou896FxiRS91qL1x6tHEuvq1BhpXw47o26jJkx2niSayA1OeP3JQNRNcQmBCAAAQhAAAIQgAAEINAQwBzZAyGUknCXkC7NUpsjtWQt3T/YHEkT2SEw/TmbzirxMS+yb9eTmNK+dYRYNgSS+pLEP1Qn8WjjKeEYyhY2ym0XCvpdITEuJdD105Ijad/84VJfona7H6tpigZTyhkBuYlVMwjc/tYMqcSY9CR+68/ZVGNRpbV4baHKsar2KuVVe6VrujkcuKrCyea6WkpO5y0EIAABCEAAAhCAAAQOkgDmyB4MezGRCgmumjki+3RC7RN4+21zSEiTpD5OtpLETs7PTIoKWIlBt1cp2rc7GARR23ky7eJPF1rNa4/7Kcfz+mTB2pDwN306Nstbx8lPBA9P0sttSwz5q/TJjluIIy/WvycZazczodQXX5WMX8S81IzXiX2MSestFE101OwXXslshx1qLIRbM0CaAqW+xLM82nrclhu/LpOpVGdpX1pz7fGwvBx7IAABCEAAAhCAAAQgAIGWAOZIy2K2W0VzJDwOo8wR20NJNGXtjSZxdUnXucyRhppP2qROeS0m0JIAdyWG6wxFue3QF6kq7bePURsLZYOiYI6En7SV9URcMl8bh2DiCJfmNe5/uW0JvvAqJsWm5siafWkiUW3LIxyao0Qr/c7GoilQHrd8JpDUtk75sTRWadOPY9svXy7Vu+fUlpO+uFdtcDUcMxMpb79Wl655bS3pk9mGAAQgAAEIQAACEIDAgRLAHDnQgafbcycwlgGwPQ7OHIlNoLa1iqHQFmALAhCAAAQgAAEIQAACEIDAhRHAHLkw1DQEgREJ+JkwQ2YSjNjqGlX1mR99x9doiqIQgAAEIAABCEAAAhCAAAQ2JIA5siFATofAhRIIjwfVZmRcaDSVxmRWS7J2SFQacyTCwRsIQAACEIAABCAAAQhAYKcEMEd2ip/GIbBHBPRaJNn6GWk/MUdSIryHAAQgAAEIQAACEIAABHZHAHNkd+xpGQIQgAAEIAABCEAAAhCAAAQgAIEJEMAcmcAgEAIEIAABCEAAAhCAAAQgAAEIQAACuyOAObI79rQMAQhAAAIQgAAEIAABCEAAAhCAwAQIYI5MYBAIAQIQgAAEIAABCEAAAhCAAAQgAIHdEcAc2R17WoYABCAAAQhAAAIQgAAEIAABCEBgAgQwRyYwCIQAAQhAAAIQgAAEIAABCEAAAhCAwO4IYI7sjj0tQwACEIAABCAAAQhAAAIQgAAEIDABApgjExgEQoAABCAAAQhAAAIQgAAEIAABCEBgdwQwR3bHnpYhAAEIQAACEIAABCAAAQhAAAIQmAABzJEJDAIhQAACEIAABCAAAQhAAAIQgAAEILA7Apgju2NPyxCAAAQgAAEIQAACEIAABCAAAQhMgADmyAQGgRAgAAEIQAACEIAABCAAAQhAAAIQ2B0BzJHdsadlCEAAAhCAAAQgAAEIQAACEIAABCZAAHNkAoNACBCAAAQgAAEIQAACEIAABCAAAQjsjgDmyO7Y0zIEIAABCEAAAhCAAAQgAAEIQAACEyCAOTKBQSAECEAAAhCAAAQgAAEIQAACEIAABHZHAHNkd+xpGQIQgAAEIAABCEAAAhCAAAQgAIEJEMAcmcAgEAIEIAABCEAAAhCAAAQgAAEIQAACuyOAObI79rQMAQhAAAIQgAAEIAABCEAAAhCAwAQIYI5MYBAIAQIQgAAEIAABCEAAAhCAAAQgAIHdEcAc2R17WoYABCAAAQhAAAIQgAAEIAABCEBgAgQwRyYwCIQAAQhAAAIQgAAEIAABCEAAAhCAwO4IYI7sjj0tQwACEIAABCAAAQhAAAIQgAAEIDABApgjExgEQoAABCAAAQhAAAIQgAAEIAABCEBgdwQwR3bHnpYhAAEIQAACEIAABCAAAQhAAAIQmAABzJEJDEJfCF9++aX5+OOPzePHj/kPAzSABtAAGkADaAANoAE0gAbQABpAAyNrAHOkz5mYwHFrjHz22WdmtVrxHwZoAA2gATSABtAAGkADaAANoAE0gAZG1gDmyATMj74Q7IwRjBGMITSABtAAGkADaAANoAE0gAbQABpAA9vRAOZInzMxgeOYI9sRPzcVuKIBNIAG0AAaQANoAA2gATSABtCA1QDmyATMj74QMEe4WLlhowE0gAbQABpAA2gADaABNIAG0MD2NIA50udMTOA45sj2LgBuLrBFA2gADaABNIAG0AAaQANoAA2gAcyRCZgffSFgjnChcrNGA2gADaABNIAG0AAaQANoAA2gge1pAHOkz5mYwHHMke1dANxcYIsG0AAaQANoAA2gATSABtAAGkADmCMTMD/6QsAc4ULlZo0G0AAaQANoAA2gATSABtAAGkAD29MA5kifMzGB45gj27sAuLnAFg2gATSABtAAGkADaAANoAE0gAYwRyZgfvSFgDnChcrNGg2gATSABtAAGkADaAANoAE0gAa2pwHMkT5nYgLHMUe2dwFwc4EtGkADaAANoAE0gAbQABpAA2gADWCOTMD86AsBc4QLlZs1GkADaAANoAE0gAbQABpAA2gADWxPA/thjvzpX8zXvv4P0f83/9RnOYxw/ILaxRzZ3gXQeXN5+lvz6vXrZqH+33y8o1hW22/309+85fr65m/Np1to74NfWJbvmg+2UHfnOA5u77/MO29eN4st9X+cGLevg/Xj9NyuXzev/ua/zPrn9/WJcRmfaR9zjsMcDaABNIAG0AAaODwNjGKOfPH+P0fGRGRU/OCh+WIEH6KzCm9SDDJEPn9ovueNlGp5VUb68r33/6czBLNODN01ZUeHmyOPzU2doDTJ/VvmnadzFPaOE6LH7zZGwXaSvWmOx3bNkR2P5yCDxF0/i1883kKCP80xH+eP/rbNEcZlnHHaZw3SNzSCBtAAGkADaAANbK6BUcwRnc3/8e/tDI5/MX/UO7e9PciY+LN505oiP3ho/ujNnKI54o2R6JiYJX//53pPBsVQP73ryGBzJDFDmmR3tt+Cu4RoN+aET8Zmy27zG8P4N9cZJLjN9bOt2Q9THJOZxMS4YNYNMjdnomf6gp7RABpAA2gADUxWAwdijvyP+dUP/sGI4SEzXeS9NiYac6cw26XX9JmAORKbIf7b3Ll+C+5nbuzkMRafjO2k7X29Wc6BaaO5uc602uPEkHGZ7AeI8U3UPdbxvt7b6RfXJxpAA2gADeyRBi7UHHGmhJ1V4swKeWTFzubY6NGbNY2JujkiceUzX8YwR6Td3kd0tFtjjOmeOdJOaddrY6TbaaLv1n9Q62mUTBRvULR15YljU082wyJ/hEKXi9tWa1D4BLptT8Xn1/1I+zH4w/mAvkhd7vGSvK9yfNCrMgNCfxtOj5tHn2wf01kxoZxa48SWa/usuabjHsfr6nJs03rb+lZmlXCJjhVudGldtUdQsnJNn+IYB3GUGGraUNpr2vTv4/aVxqS+VcpPtFYq25ew+bqya8iPddjv3rtxb3XQ6D2UWZnQD9VnOy7hsads3ZZaXxRvX1fTtqq3aVsxXAmXZl9ar6pv5eMMWu3jlvQ30rXmm7a5ybjoetle63oL1wnc4IYG0AAaQANoAA0cjgZ2YI64hVNbg8A/7tL1yEpiFmRvRzNHjCkaGKM8ViPGi3u0Zx0zqNsc8WJtEh6VvDRJbyFhkcQoSohsoqPODYlP3z6f8KjEzt083P42+Zfk8bfNgpdhv8SSnS+JVyH+c3xod4lyX1/ai96V37Dtpm9vmZu/eKsxQcRwefVNG4fwkLUtPMck6ZVz2jVj/HlvvtUsFBs4rvz5iqNLsF251sCQ8/2CqzbGcE5yLOPs29C6sefb5DjUYRn6csW+nI+pmAJtf1U7oW1hOkBjErfui2g+2Tfoj6GvL45vZVZ+fzCc5P1vLLdWj9I/KdeM3S/eNTcbho/dOkJvvuU4N9d1e660kS4im2lYYrT1qLbFHJO2W3OkW2M25nCO1F1bjNUbcJpP2ueGs6+n2JfzjEum4fYaHzSunM83YWgADaABNIAG0AAaOCgN7MQcaY0RZ3P0zsrI3JBkx4jmiFGzWlyc3rzpW0dlQAxF4yXpSuntEHPEJRtt8ukSLEm+JSlwiVaczMqx9tXVpRIwuSmkSVD6Xsr5ZCgkTyFhTmdL1OKRRDeNv41xaHIzrC++vfAtuHxbrV9btoPa9gwk0ZNk0CWIrt+SLGaJbMOxZFZ4Xtmsk5Sj6k8wDyy7Up3C9DzH0nOk3ZRVWk7aHPD61BkwwiqwP7fGPKss2U4ZDoitqnd3bqY90YQ2J2wdUV+EocwY8nF5s8nVKXxrXAt9GdS2jVvaG3qttiZQNka2b08r45ft9+2OOS4yPrwe1IeacI9g3Bl3NIAG0AAaQANoYE0N7MAc+Wfzq89jC2Ba5oiLTYyM5tGfIY/9DDBH4l4Pf9dvjvgkKSTCLtFozYlKslYUi09SQl0qSUwTmiipa8tlSWFIuCSpk7KurSypStspxil1dL2u0ZfQRsc5oUxXm+6YmCFuDCTh9f33/WuOVftaiMOXFcOlngT4c5PZG/XyNuZCe9LfznFWSbSPLxvPrrqljcpr2TiSR0y0gVfrs9sfYqr0pZrEV+LSLHO9Ow1ksYtBkV5bzX7pi++HmAT+HIm/qTM5ll7npb6IHqUeHX+07cewX2PqGqgxldk4mQ7lepA+pwaRqtvH0xv3gHGK+kl5PiyhATSABtAAGkADaAANJBrAHEk9CnmERhkizrz5B5POeIlO3ak54hKqkCQ1yUpqRKi1DBIRRElDR6IjSZe04xKutB1JfNT+WoJTa6u2vyvu0rGuenxM0pfAoOucUhuVfXFi7MYnJHhNGy4xrCXWMpsgnGPbGRpbjXcl1qbvNR4hwdWzaGRbJberkmHhk1wfd9SXrljCMcctn+l0fo3F49Im4WIeZHoIsbRlg1b8sciwCOV97GJkdPCJYkrGLr7GfL+9uRKdF9qVcZCZJy7uWtm0L4M1lrWnrvdwzDMozchSXGwMtfg2GZesbyGu+lhyDmzQABpAA2gADaABNHC4GsAciRwOvy6IMkbksDNI8lkvctzswhzxSWezqGIpAWn2SdLiE6skKckufpW4p8fiRL5Sn0/uooS2UmdcX3sR1van8fS+r7Rrz6u1Udvf21aUeMVJbNFU8uNQSwrd/jjBHRyb18U6iX5X3U0sfbrpSHBLfRnEMzEKwjmiMR1TZazjflU0K48bpY+7RGPa6jPE0Rz3BkBxNoiaVSN8dMzN+UlMST9i9q4tN67JeSFWvz/qS61s3qeYV3487rs93lW3i7ffFKvVUerLkJgok48TTGCCBtAAGkADaAANoIE+DWCOBHfDbvj1RbZkjsijOp0zUKJ43Ju+x2qaBCokZ7WEpJaAJBdJNbFOk8D0va1Hkpl4kU6XHItJ07YXJ37J/mwqfnu8T9Th+OC+tHXXYg11hiS0PSc/loxBE4f03zPq+vbfxx0tnFlNrvM4XIIr7eXH83jr39zbskOZFMtV+lKKIdv3tLRexSYaK18DjpedDbMesybeYoz+2ojWhvH7wnUq4+L2i4EQj52LV465WR0yW2edvsRtZJyVpmvXZP2cWr9s/7qOSf/t6zp90eexXR8X2MAGDaABNIAG0AAaQAPragBzJDIj2l+UiQwMPyuk8yeHe2eOtHV31hPFM8QccQlImCXwNP4lDC0ISQJDstUkRY/NzejbbJ/Q9O5LExr/vvmVDf2NeVpOLlIpny+6KnGGPqnkTfenf3toX5KYor7LsTVeG0NAktj0cSYXUxgDbx6Evvpz7a/cxMm670uWXKdx1Xin5eL3qbFh38cx6TGNzw3jMLgvlfOzcU77Ipqxv+Si40nLSf1SvtWY01Y7NmJG3PzFdbPWOhsh1nRc/Pj+4t3ml3wCw6clo6ddsNSVS+L150gdEusHvu3BfUnHJcQunOQ17Yvs73pNz7HvW5PJ6arlHbSSxDC4L8l5tfrY3zVmHEMfaAANoAE0gAbQABooaWAUc0RmRDSLl37d/VRv2FazMFy5/NGUi1iQtTPGr8cxyRojoQ+2T30/NdxrjlR+JrhghqS7OmeO+GRafu61STK6knufKLWP4rSJTCsQn/CoR3UkQWvLtGtgSF1Nwv/UJYFt+TR58heiLxdMgiTpcUmVrG1x3sTVtjWwL037rmwtpqjvSbz6WJzEdie89ry4r248mn16HHt4te37/vaaKMkNMdFFxiA5LmPejrOrb1BfOti1/Yh1Iu1trjE/HqLthnEyRuvEFx7RarXaMEmuy9paHrEpkOgvqSPThMy46OlL3EYy7rqvgzUW1xGPeW6ExMeFU3rfGX9cMi3pvrLNAmxoAA2gATSABtAAGkADiQZGMUfSZP7C3w8wJrYe0xZj6DRHkgElIYgTt7V4eAMgTfjXqoPx4CaLBtAAGkADaAANoAE0gAbQABqYnQYwR8ZyTTBHZif+1PRw33Cn32hvYLZwQ5y9JlKN8J7rAQ2gATSABtAAGkADaAAN7KcGMEcwR0hgrYnhZ41kj5NgcKAPNIAG0AAaQANoAA2gATSABtDA3mtgr8wRvUbIm38ay/XoqMfPFtl2uzxWsy1nMl7ngMdptsWZevl2AQ2gATSABtAAGkADaAANoIFpa2A/zJEO/2IfDmGOTPsi4ibH+KABNIAG0AAaQANoAA2gATSABuatAcyRGbgnmCPzvsi4STJ+aAANoAE0gAbQABpAA2gADaCBaWsAcwRzZO+fHeMmNO2bEOPD+KABNIAG0AAaQANoAA2gATSwaw1gjmCOYI6wuBIaQANoAA2gATSABtAAGkADaAANHLQGMEcwRw76Ati1O0n7OOS70cCn5p3jhbn5rwX+/3rTLH70AfcFPhyhATSABtAAGkADaAANHJQGMEcwR0YQvEu0FouFefXdT0eor5CwzfnGZJPNxcIsFjfNB6P3w7M/fsd8Onrd64/Dp+++6vtq+7swi4nEtRsDYn1+FxOnXK9lPX7wIz92GCTcyyZwT7mYa2Kq1ypxMf5oAA2gATSABi5SA5gj+2KO+AS8+E3w1j/gSrJ1QebIx++YV4tmwwfmZrO/8o341jlUbl4HZI60N69pmTZtXJUx2pU2Otp1RtOr5p2Px415SL1icu3mfjJuf+c49sSMBtAAGkADaAANoAE0cPEawBzBHJnft6PBHElMkGBCJPs7EtD533SmakJMNa6Lv8meV2NDTIy16/bXTv8MLzE8y7NL1m53r6/B+WiKcWOs0AAaQANoAA2gATRQ1wDmCObI/MyRxgS5aW7a6f9q6r99HODVH91sZpUczjfeUzUhphpX/WY4tT8U2zBH3CMzAw2PwUbKfJhObYyJB+2gATSABtAAGkADaGA6GsAcmbU50j5G4ta08GsF+EdLsjVAGlPBTdOXafNyXmYmqNkZUib/tjlvP6vHfmPs67LH4nbP+ciAN0c+aOqVRM/GYrddTFEcQ/qiYlypGSgZw5VP+htTJul/sr5G3Nee9TeSNuvrk8g3+slYJ23332SlHuGnb0rlY1l/Fl3j5+uoxFVO0mvnSDxtn3Mt6viHbA+sMxuXvM9D++L4Wd5J25pRQaty/clrpO1Vek116MzXPZxdbTyG8KVM/zUIIxihATSABtAAGkADaGBKGsAcmbU5oi4mn8SliVMkNp3oqYTMJXcq6bNJlDpu65DEuJpYdbWvEz5VbzmpVH2qTcVv2mqTzKbPdp8yLEKcQ/uiY1QLp0q/W65xYhv2y/lqJkvLvjvJzNtYmWxMlMkU+tbw6a67jSHnWmq3Ke/7otuxZfX7VUjwlW6i8eqOqzz2pXO8AaV0I2abnjXU1c/smIyVrnNlmcd9KY2B2xc/tjW0L8I7Ntx8/wq6ceXjmNK+lGK05l48Vn7sm+umu760/iExpOfwPr/WYAITNIAG0AAaQANoAA1MXwOYI4dojqSJWJexERJen7im58rxrjoqyajM0AgGg9TV8+oSNjfjodn+0QeNmeDqcclmMTkM9Rb6UosxMwr8udmsiVJiLzeArmO1eNP9tTpq+6XtrtdyYj44IfZsyuPXHdd6hkI+u0VrYN0/NOW2E07VvuX9KteXl3Mx54sWl88XQ7LLzMjb6GJxLmZd13W4nhJ27J/fo4qMGWOGBtAAGkADaAANoAGDOXKA5kg5me1LcHoSsa4kKjMYfFtd53RcnFGS5+tuH0NJTYVSvwp9qcWYxVE4NyuTttlxTsOglACn59T6lZZL2+5+nyfmvr6aCab72smsO668XRtnek5HLOfUzso/dtVtnokxkZsy1nyI9NfMOLGP+6Rl077IeflYl1nUy2sDxJ3b8SiNGq9aO7q+bLtzjLu1ldWlYuEY7NAAGkADaAANoAE0gAampgHMEcyRoksq33LLOgfhNXkUIQi6K1mtJVhd53QkUnFymibQuYkwqC+1GLM48qQ3MMjKyg2vfk41Nlk3RnhX46vX3R9XvB5MU963kxtovh2JS72WjYbuuMqJenqOn9mi2go69PvyOIV55bXKMS5fjs+VcWPWmhzlsmlf6mZH+fx6+XRcMw2JZhI91tpJ64veD+QVnZO0y7FYW/CABxpAA2gADaABNIAGpqkBzBHMkcwccUlUvK5C/q1+Iuguo6OWYHWd05FgNfFVEsAQp5/5MLgvtRizOPKkt//m1nFOw6BNtKt1VePrqDuLPRmz5rg/3/NqEu2MrZgUyeyIaky2ne64yol6ek4cW5XNoH76vnfG3PJxhkPSX99OGnv63sWZ9qVudpTPr5fv4tAaJXnsXX2q1nnOa7Ra3zpjRdns3gzX9hqFBSzQABpAA2gADaCBsTWAOYI5knwAz5M6J7rafn9RdiVRtYS045yQ5GWJul+stLA/irNJ9msxF/bXYswStMK5WZn0RtVxzuB2vUGRPu7iGS6KPMTUSI2uOL42aXbls5kgtRhr+xseHX2uPYri69N9qRkH578RdscV6q1q05+vxqEYY6EvjnNuhBXPD4/v5OVDjBXd1do5zxo/1boqbffFxvH42oMHPNAAGkADaAANoAE0MB0NYI7sizni11LQiWV2oVUTPi1In/xFC462SXa1/q66a0l09RyJwa7lkCeHTTJZNANsP3TyKvXoOip9qcWYJYG+zmr7mqVsd5/jkuNuA8OOZZaoNvxumps/qqw54fk2j6KoZD7Thfz88bvvmFeztTPaR2+isVd1Z2bKAHMkS9TFTLCPy2i2sl/vy8ZEOA98ldgTJvGv1ZS0U/kVIV9feMRHYk76ko2f70fNHOn/VR6r5XSGSIfWBmtcOHbUtekYcH5iSgtzXvP7E0xgggbQABpAA2gADVyMBjBH9sYcsYJRib9fkyFKXNMkrpqgpPU4cyEzJSTJ9G3F60EoQ6KWlHXE4xLJJFHWyWQ1WU4TuoF9qcWYMUrrr12ovlyRzcL/7LA6t8IyJNy671KnZ5CNS4i57XtaT3qDFYOm+vO4aXxN267+VmPr9TmMcdOfisaavlTqrWpAcQ0s0n0tG9FtiVHgkjBP+Q3py9rmiI1dGy0+hijOwvHqGNZm7NQYDb4mUra8T/XBezSBBtAAGkADaAANoIGxQRDrAAAgAElEQVTpawBzZK/MkekLjpsCY4QGdqiBwYaHGFLpzJQdxl4zcdjPLBQ0gAbQABpAA2gADaCBETSAOYI5woU0woVEwk/SPBcNyGyYaAZKcg3ITJiuMnPpL3FybaIBNIAG0AAaQANoAA0M0QDmCOYI5kiSGA65cCjDDXa+GpBZIerRN30N+Eeo2selGOv5jjVjx9ihATSABtAAGkADaGCoBjBHMEcwR3RiyPbs9CAzIWTtkOrrRmuU7NsfFWuQlM2RhmeyWO3QPyiU2zed0B80jQbQABpAA2gADRyOBjBHMEdmlwxzgzqcGxRjzVijATSABtAAGkADaAANoAE0cBEawBzBHMEcYbYIGkADaAANoAE0gAbQABpAA2gADRy0BjBHMEcO+gK4CAeSNnC60QAaQANoAA2gATSABtAAGkAD09YA5gjmCOYIDjEaQANoAA2gATSABtAAGkADaAANHLQGMEcwRw76AsC9nbZ7y/gwPmgADaABNIAG0AAaQANoAA1chAYwRzBHMEdwiNEAGkADaAANoAE0gAbQABpAA2jgoDWAOYI5ctAXwEU4kLSB040G0AAaQANoAA2gATSABtAAGpi2BjBHMEcwR3CI0QAaQANoAA2gATSABtAAGkADaOCgNYA5MgNz5OOPPzafffbZQQsVl3XaLivjw/igATSABtAAGkADaAANoAE0MGcNYI7MwBz58ssvjTVIHj9+zH8YoAE0gAbQABpAA2gADaABNIAG0AAaGFkDmCMzMEcIEQIQgAAEIAABCEAAAhCAAAQgAIHtEcAc2R5baoYABCAAAQhAAAIQgAAEIAABCEBgBgQwR2YwSIQIAQhAAAIQgAAEIAABCEAAAhCAwPYIYI5sjy01QwACEIAABCAAAQhAAAIQgAAEIDADApgjMxgkQoQABCAAAQhAAAIQgAAEIAABCEBgewQwR7bHlpohAAEIQAACEIAABCAAAQhAAAIQmAEBzJEZDBIhQgACEIAABCAAAQhAAAIQgAAEILA9Apgj22NLzRCAAAQgAAEIQAACEIAABCAAAQjMgADmyAwGiRAhAAEIQAACEIAABCAAAQhAAAIQ2B4BzJHtsaVmCEAAAhCAAAQgAAEIQAACEIAABGZAAHNkBoNEiBCAAAQgAAEIQAACEIAABCAAAQhsj8B+mCP/9pb56BvPRf8/+bftQQs176rdEAAbEIAABCAAAQhAAAIQgAAEIAABCGxKYERz5L/N0+/FBsWff/XfG8X3v7/6jvnoG98xT896qvEmxSBD5OyX5s/eSKmWV2XEdOntyzox9HSHwxCAAAQgAAEIQAACEIAABCAAAQhcHIGRzJE/mE+s4fB3f2gjF4NB72uPDtoa1xzxMX7vl+bzxnR5zhTNER93dGxIXzBHBo0phSAAAQhAAAIQgAAEIAABCEAAAlMjMIo58vnfPWc++t4vzf+mvdvQMBjPHHGzWsTwcPWWzZFaX5r933jLfJ72Ud5v2FepZt3Xs7vHZrFYmOO75ek1fcfXbW+O5U9vLRpGllP4f+u03JWnJ+ZYl1ssTbnkqVlG5RZmUauz3BJ7IQABCEAAAhCAAAQgAAEIQGAiBDY3R/ysivJjJ/GMkprZERkPMksjWUNEHm+xr2JyBIZrGhN1c0QeDcpNkCjG0LDaGBCDtFtmpepaa/PMnFyxSX8pifcJ/JUTU7ZO1mpofwqLAZKYGWIkLR+2XXX7js3J03afMY5rbEjBWhNiGwIQgAAEIAABCEAAAhCAwJwIbG6OdJoC3mzws0oGmSOKXq28KuI2O2PIShsxKTKTxZhwLDIwxLDpekSoNwYxXiqzbPIwh+95uCzOHikl+8Mr3e+SbjaJNpRKhodl4M0nZaQ4rvpcx6pspOw3R3oHAQhAAAIQgAAEIAABCEBgHwhsbI70GRh6xkWtrC6jodbK6zLNdq8xEZ/RZY4Y05oYziDxs1+6Hqmx1Q+IQdqNjJc4tHO+k9kjeoZDx0wGb6aER0yKs05sKL4O9fiInlVxzmAncVpjjugZNX42Sal/aVlnrGjWrkuYI5MYWoKAAAQgAAEIQAACEIAABCCwNgHMkQoyMTKax3lK66mk5w0wR9JTRn2fPCpSS9Td/oXRJkAx2U/qc7FaEyafMTFqPy6iMm8OaQbG9zd+VMb3ulnXRfVbzCU1myQYSdpwuYi+0AYEIAABCEAAAhCAAAQgAAEIbExgY3Oke8bE/B6rMfIIjTJE3MyW50znjI9dmyN2nkez8Kid0eBnfETJu9VK7dGRwv6SgbCx3HZXgZhCMlsmN0FKs2+MMWKEJLNrHGtZhLVy7u66S8sQgAAEIAABCEAAAhCAAAQgsAaBzc2RsRdkVcFf/GM1sZmjQjHOIPmOeVpb2XQC5ojMfnAGQP7Yh0v0C/tlXQ0960FmjiziWSaayXy35XEhNRvEdyaYHvIo0a1T44yVvGxrnNQWxJ0vISKHAAQgAAEIQAACEIAABCBwSAQ2N0dkjQ410yIAbAyD1lAomx31NT3K5UPt7caaxoQ8MpMvyOpjKfRlDHNE2u2cgdL26lxbYYZENmvE+CRf/ZytGADyqs2RpnUxEdpzokdRzhXhRE7qeIwmjbAxTCI2wqU1TLq4p/XxHgIQgAAEIAABCEAAAhCAAASmRWAEc6RdjPQj/WsupRkl2T4xRp4zH5UWPJVHXHS9JX6jmSPpYqy+MV//RwXTJITTG0Nbd2c9ocJzbnQ9DtMcK80cGdKWGAILkz+SMuT8qZVx/envi++3Mpvc7JLWGJGeiUGyNwaSdIxXCEAAAhCAAAQgAAEIQAACe05gHHOkgaSNDmt2PGfymRnKSPlGW8bNqHjLfF6CLQaJL1+st9eYaH+it1lgVdXl3rezW2wIssZIVHYEg+YiZo7Iox7FBH2N2RKloZA1SxbKKCiXm8HeLhNJhe8MD20oyfoimCMKE5sQgAAEIAABCEAAAhCAAARmTWBEc2SHHAaYI1uPbgox2E72JP2ypkbRPFGQrCmQzaroqVudPu1NWU+l0+QREyRfc0UYRiaR1Jks3DptEEQHAQhAAAIQgAAEIAABCEAAApYA5shYOpiJOdJ015sc8sst8poaJsEEkDVJFnoGxVjgtl1P+ziQ9HNR6Yc8FhPKdZgnWVnLKFqXZNv9on4IQAACEIAABCAAAQhAAAIQGIsA5shYJKdijozVH+qBAAQgAAEIQAACEIAABCAAAQgcCIG9Mkf0GiHF9U7GHlRviFx4u2P3g/ogAAEIQAACEIAABCAAAQhAAAIHTGA/zJEDHkC6DgEIQAACEIAABCAAAQhAAAIQgMBmBDBHNuPH2RCAAAQgAAEIQAACEIAABCAAAQjMnADmyMwHkPAhAAEIQAACEIAABCAAAQhAAAIQ2IwA5shm/DgbAhCAAAQgAAEIQAACEIAABCAAgZkTwByZ+QASPgQgAAEIQAACEIAABCAAAQhAAAKbEcAc2YwfZ0MAAhCAAAQgAAEIQAACEIAABCAwcwKYIzMfQMKHAAQgAAEIQAACEIAABCAAAQhAYDMCmCOb8eNsCEAAAhCAAAQgAAEIQAACEIAABGZOAHNk5gNowz+7e2wWi4VZXDkxZ1F/zszJlYVZ3DqN9h7eG8/BMpL/XUyenphjX275sEBLHQ/1LY7NydNCWXZBAAIQgAAEIAABCEAAAhCAwOQJYI5Mfoj6AwzmyGJh4mQec8QYx+D4rrKNHi6dSZIZJKdm6U2mU284xTzrY3F6yxovGCR1QhyBAAQgAAEIQAACEIAABCAwXQKYI9Mdm8GROXNkaZY2QY9mj2CO1CDmZoZjJWaIGE7yvlZP2O9nk0QmTDjIBgQgAAEIQAACEIAABCAAAQhMmQDmyJRHZ2BsYo6cNjMi9OyFijkiMyfkEZMDnPHgmGlWMezzmiODzZS4Od5BAAIQgAAEIAABCEAAAhCAwA4JYI7sEP5YTQdzxD9C0q4xkpsj+YwJY9y+9JGcsaKbZj0lDjrS9cwRzzmataNrYxsCEIAABCAAAQhAAAIQgAAEpkwAc2TKozMwttYckcVZZUZEYo74Rz/y2Q0HltzLgqodZka/OeLXJwmzb5bm0Je9HShXikEAAhCAAAQgAAEIQAACEJgcAcyRyQ3J+gFpc8QYn7Q3i43G5khcLm6n61hccu7vWlMjN4navvWbI21ZuyXlWXMk5sI7CEAAAhCAAAQgAAEIQAACcyCAOTKHUeqJMTU22vexOeIeJSnPcHDnyIyTngZne9jzWCxMn4khZkeXgZJi6OKbluU9BCAAAQhAAAIQgAAEIAABCEyHAObIdMbi3JG0ZoivIvxyyqk5ubIwsgZJVk61uP+J/XBjxGI5jznSxVehZhMCEIAABCAAAQhAAAIQgAAEJkYAc2RiA3KecEpJeWN2XFmapTJHjP+Vmnw2RDzD5DwxTP0cZ/60RlFfvOubI55hxzomfW1yHAIQgAAEIAABCEAAAhCAAAR2QwBzZDfcR221ZI4YWXTULhjarD9im5TZE/HjM844iPeNGuCOK1vXGGlI3T02i8XwX/DZd4Y7HkKahwAEIAABCEAAAhCAAAQgsFUCmCNbxXsxlRfNEdP+RG9rjrh4glkgv7Syz7MdtEkk/dWvqu8yW8SaIvn/1jwqlgsG1MWMOa1AAAIQgAAEIAABCEAAAhCAwHgEMEfGY0lNEIAABCAAAQhAAAIQgAAEIAABCMyQAObIDAeNkCEAAQhAAAIQgAAEIAABCEAAAhAYjwDmyHgsqQkCEIAABCAAAQhAAAIQgAAEIACBGRLAHJnhoBEyBCAAAQhAAAIQgAAEIAABCEAAAuMRwBwZjyU1QQACEIAABCAAAQhAAAIQgAAEIDBDApgjMxw0QoYABCAAAQhAAAIQgAAEIAABCEBgPAKYI+OxpCYIQAACEIAABCAAAQhAAAIQgAAEZkgAc2SGg0bIEIAABCAAAQhAAAIQgAAEIAABCIxHAHNkPJbUBAEIQAACEIAABCAAAQhAAAIQgMAMCWCOzHDQCHl+BM7uHpvFYmEWV07M2djhPz0xx4uFOb47es39kT5cNv1aPuwvehAlPI/FYmlOD6LDdBICEIAABCAAAQhAAAL7QQBzZA/GsZ54n5mTKwuzuLV/aVroc9q3iSanId4DMUdcf4/NydM9uMDW6cKo+vPX70DNnN5aOAPOmnB9ZlmIc2EwttYZYMpCAAIQgAAEIAABCOwrAcyRPRjZkHgv0kTnAMyR5Bv6NkE8oG/uJzhz5GDNkVHvJwPNET/+w2clnZqlN1CsiYI5MuqgURkEIAABCEAAAhCAwEwJYI7MdOB02C4RXZql/eY4+pZ5f82RxgS5tWySvDa5s0nfsVneso+wYI5ojWxt289AaMfAtYQ5MgbxIeaIMzrWeaTKGYhLc1oZuzEipw4IQAACEIAABCAAAQjMjQDmyNxGrBCvmCMu2dGPMpTNEVdeT8HX5xhjmqTJmgvtN8w2+W3PS42Htlyzrkbnt9E+pkXSZqFfXbucOXLqYpJHa2zcdjvE39bQxi79LrTfnOf2p+Wj5N9/U9/sa86ROvN1P9qZLL6MxNqG1m4ldVUNHpkpoL79732Mom1ls60sRtevhkUlLtGEnqXguBTGwBiTHmveN6ZforMiS9FXfUw0ABnndcwFfb5sSz2hr5FJKaV833r6ktWVjHOki2Y80uuxbS/b8uOntRtpOzuBHRCAAAQgAAEIQAACEDgMApgjezDOLpmyCVJqhqTvncERJ4KSTKpENSTAbp9LTo/NsUrqQh2SEOtE1Z8fymjGUr5vTQR9TmG7icm22dTnkkO7r0362v5YPnEshT7bNkK/4xk4TVvazFF90ImqJLXlZNMn9pqT6lfp3KxdIwZV27emCh9P3EdV+UibLp4kEdfJtmrH9SeJUx0X1nnMOSfXrjJhbD0yBhFPf642JorlJBDRQTzecvR8r75OHYOqqKsvOYvuumy1TX2VtlSzfjNhWxm7/Dz2QAACEIAABCAAAQhAYP8JYI7swRi7RNQlrXFS6pOrKIEsdNgnkCGpF5PAn+cSOkl04wSrlpzV9hsxcLTZUAipe5ful9tePrRx+cS9iV/irdSU9tkWS/odzkyTSEm406TU78+TXFtTzC3U3Wy4Y/l5yf5a/bX9cSObvUsZSG2V/bEOpbB+rST+TX3x2Dn95WtjaN3bmtP30lptf3tOPuNHzl3/tdIvX1G5L7VzavslKn/8lp9BpWeYpNoUI0WuEVtFZeykdl4hAAEIQAACEIAABCBwSAQwR/ZgtOPkTyfhbfLU2c00uU6SJpfQyYwBXX+SvKtGXExxkqsOb7gZ98u1pX6Vp5BgZw2mfbYFkn5n58iO0rlyrPqquSWFqvEmyXGt3LniSWLoeRtrTBWuMBsy/nmZpL++mVh/aduisVgTqtTwcY1OOu+bch+ktnJfaufU9ktt/ng2C8trrc8IqYyd1M4rBCAAAQhAAAIQgAAEDokA5sgejHaauLbvffIUzRxpE6qwPoL/xjnMXEiSpjihU0m+T8rTetr3kriODTnpl48jnvmi2x7QZxti0u9q1OcyIxS3pGI3Xu0aGS0/v8/PAsjNBF/RueJJguh5G2tAFa4wq8aqTs1m06Tj6MsOa1sMgTrHoI8ohrHfeK0VZm7Ylsp9qZ1T2y8x++PR9e2PReNSKReVkTp5hQAEIAABCEAAAhCAwGESwBzZg3FvzRDfmZAsn5qTK2pGhTzaob9RtqeE8meugiRpihM6neS77WCqXBjLnnajJFuSZpn5kjLyfba7k35Xu5PyqhbUBzQ3vV/a1WZOcty/rRoO54qn3EZtb6wBVarCrBqrOtVu6nozHfuyuow+PW6jYgDoEy5ku9vQKPeldk5tf9uRpr6SEaM14bcz000/htO5iHLbHlsQgAAEIAABCEAAAhDYVwKYI3swsqWk0iVNS7PU5ohOmHS/0/1JwhsndDrJ70/edDNu25+z0Zoja5gjad8koNL+pN9SNHstnZsVSndobsmxofVV4nPjU1k3w9e92Ii3rOeRGjgylrX1QNLySb/tWx/f8qGrq2S0xfpr63AaPzFib9XKtWfkW+7aqbDLiw/Y031NlGOsnVPb34ZRuvabo41WevhX9NTWzhYEIAABCEAAAhCAAAQOhwDmyB6MdTFBCkmxmjki+/Q3zT5Bst8qh8Q0SZrihC5J8uX80tT+EluJQbdXKte5b31zZNHXZ9te0u9qCL4PgVe1oD6QcNOHwgyK3GSIi+XJcjM2t5ZmWeMp42NnCQwdo7hR/y6N38VyfGtpjkuzDmSce9v0fWpmMSSze6TlW/ZRmfiYmBrRozLSph7rYl9kp2p78Dlybu01HyNdMr6W5Ej9nGI/5bTmNR0Xu7O0LzrJvRmq98Kp7IIABCAAAQhAAAIQgMC+EcAc2YMRLZojKuGOkmKdLNuEtEkKXTIVkv0kaYoTulLi5fcl0/SjdgNnSUh7vtUO5UsbSbxpkdS8GNJnW0fS77Ta8D6tPxxINypcPKfAW05L4/TlIgNAEt+oji4ewntTc6Sd5SGPZzRxeRZxjL5DYlYoXRTLSb8rRorTX7qWSGyWCML215CS8hXzQ8yHbCzaCgdsKcaqr8JJXwfxtSRV180RW0JiDPUlRlEwQ1Tbg/ozVO8SJq8QgAAEIAABCEAAAhDYYwKYI3s8uHQNApaAJNeDEuZdIOtJ0suGwi4CpU0IQAACEIAABCAAAQhAYF8JYI7s68jSLwg0BPzslcrMid1D6p41YePDHNn9KBEBBCAAAQhAAAIQgAAE9p0A5si+jzD9O1AC7SM9k50xEoyP7kesMEcOVMJ0GwIQgAAEIAABCEAAAhdIAHPkAmHTFAQgYAm0xk260GqJD+ZIiQr7IAABCEAAAhCAAAQgAIExCWCOjEmTuiAAAQhAAAIQgAAEIAABCEAAAhCYHQHMkdkNGQFDAAIQgAAEIAABCEAAAhCAAAQgMCYBzJExaVIXBCAAAQhAAAIQgAAEIAABCEAAArMjgDkyuyEjYAhAAAIQgAAEIAABCEAAAhCAAATGJIA5MiZN6oIABCAAAQhAAAIQgAAEIAABCEBgdgQwR2Y3ZAQMAQhAAAIQgAAEIAABCEAAAhCAwJgEMEfGpEldEIAABCAAAQhAAAIQgAAEIAABCMyOAObI7IaMgCEAAQhAAAIQgAAEIAABCEAAAhAYkwDmyJg0qQsCEIAABCAAAQhAAAIQgAAEIACB2RHAHJndkBEwBCAAAQhAAAIQgAAEIAABCEAAAmMSwBwZkyZ1QQACEIAABCAAAQhAAAIQgAAEIDA7ApgjsxsyAoYABCAAAQhAAAIQgAAEIAABCEBgTAKYI2PSpC4IQAACEIAABCDw/7d3/rqSG9e+5kvoAeY8gd7AgR5ggA1MLD+AYgNKhO3xTi04c+gR7Jng2IAyw9YJPA40O7CBgR0JwgAenIEwODIcONqA7r2nLsiqVbXqH1nsJrvJ7k/AgGyyWLXqqx+pXr8u1oYABCAAAQhAAAK7I4A5srshI2AIQAACEIAABCAAAQhAAAIQgAAEliSAObIkTeqCAAQgAAEIQAACEIAABCAAAQhAYHcEMEd2N2QEDAEIQAACEIAABCAAAQhAAAIQgMCSBDBHlqRJXRCAAAQgAAEIQAACEIAABCAAAQjsjgDmyO6GjIAhAAEIQAACEIAABCAAAQhAAAIQWJIA5siSNKkLAhCAAAQgAAEIQAACEIAABCAAgd0RwBzZ3ZARMAQgAAEIQAACEIAABCAAAQhAAAJLEsAcWZImdUEAAhCAAAQgAAEIQAACEIAABCCwOwKYI7sbMgKGAAQgAAEIQAACEIAABCAAAQhAYEkCmCNL0qQuCEAAAhCAAAQgAAEIQAACEIAABHZHAHNkd0NGwBCAAAQgAAEIQAACEIAABCAAAQgsSQBzZEma1AUBCEAAAhCAAAQgAAEIQAACEIDA7ghgjuxgyH744Qfz5s0b8/r1a/7BAA2gATSABtAAGkADaAANoAE0gAbQwMIawBzZgTnSGyPfffedeXh44B8M0AAaQANoAA2gATSABtAAGkADaAANLKwBzJEdmCP9jBGMEYwhNIAG0AAaQANoAA2gATSABtAAGkAD62gAcwRzBONlYceRh9U6Dyu4whUNoAE0gAbQABpAA2gADaCBtTSAOYI5gjmCOYIG0AAaQANoAA2gATSABtAAGkADV60BzBHMkau+AdZyHakXRxsNoAE0gAbQABpAA2gADaABNLAfDWCOYI5gjuAQowE0gAbQABpAA2gADaABNIAG0MBVawBzBHPkqm8AnNz9OLmMFWOFBtAAGkADaAANoAE0gAbQwFoawBzBHMEcwSFGA2gADaABNIAG0AAaQANoAA2ggavWAOYI5shV3wBruY7Ui6ONBtAAGkADaAANoAE0gAbQABrYjwYwRzBHMEdwiNEAGkADaAANoAE0gAbQABpAA2jgqjWAOYI5ctU3AE7ufpxcxoqxQgNoAA2gATSABtAAGkADaGAtDWCOYI5gjuAQowE0gAbQABpAA2gADaABNIAG0MBVa+AyzJG//8F8+KNfRf9+/vcTuB4navf169enFembZ+Zx15nO/3tsnr3BoTzYofzzrWN5a15e4wPX6enxF29Pq+PNsn5nXn/8yHz16JG5//o099X7Fx8P7fVtDv8+/o15vwif0/fl4Ptwkf6eZrzoI5zRABpAA2gADaABNHB6DSxijvzz97+NjInIqPjJvfnn2j6FMymaDJHv780nzkiplldlbF/+YP421Yc5MUzVlZw/uTmikoi3Xzw2Xbd3c+Slue2Nns9enic5P5c5kplcnTmLQYE5kunu25/VzRE596cX76LrvMFxlLHhzIyj6oj/RyXxnsro4YtCzB8e8EADaAANoAE0gAbQwDIaWMQc0bn8337Zz+BoMBP0RcfuNxkT35qf96bIT+7N35yZUzJHxOjR5+yx35ovvx8JtCmGketHTmGOHCv2M5sjymw61YPr5Wd25k9qhvRm1+2fj+U583rMkcjk6DVgDYWPzeu3OUsxG76KDIwwQyM+nl8/rrG1zJFyX8ZjmRs75eGJBtAAGkADaAANoAE0sJ4GrsQc+Zf58ie/MmJ4lAwQ601YA+WT3/8rsSrs9R/+8tvkuPqIOZIlgNu5ca/LHLGzfbrTmyA1EwhzJLs37CyQkqFgzYs//eyn5k+P1Pm3vzF/evRTc9/POIlMk7n/c1jeHKn3ZW5slN/OM5OxYCzQABpAA2gADaCB69PASc0Ra0r0s0qc2SDrhBz76s1MY6JqjrjXacREUdaHGWbEjMXZEIO0m5svuqV8f2zmyDBDoH9dJHp14615duPWDElfJZn5qsX0azWqLbdGSTpb4VwPFpk9EdZO0euodKa7eWbeSkLvuAyzKjzL8uyLvj953fl6ImJS+PZ1e9Ku1DWccyaOrPWSjp26ps7U1VFpq3TddJy2zmFcEzbFWSgFjfUMcl0k/e0Khs7McSn1b1/HnDny4t0wu0RerekNiH5/MCISc8SaE24tkWFNEWWqZJppMUfuzb2sTeK2vDJzfV8O9nXfMD6MFxpAA2gADaABNHC8Bs5gjtiFU4NB4F53GZuVkfsF8ZEGY0JfICZFZoI4cyTEFq4Kxk44Fu1NxqAMoTGTJarUfpg0R/pkWiXXj28e20R0SGTVeiF9opkkzZIY54mrFde4OVJIxCUxPiSx//p/zX/+h6n/+/j/mXdZstdyE7g4x2KSuAdjIhgdwkebAL0xoj8/PEiSH66LH07OQErYSxlttPh6XTy1cZFrs+3M62zbSiMPYnbpvkj/erMoHC9po3TsoRST8NZj4oyXqM9SrmFcMhYlrbRqrLVcqY2jjgVz5OHrn7pZIv0xa3hYI+Sn5lvXhpgmoe/O/NCzTqJ4JsyRYYbKI/PVz+7DbJc+jkePBnMmtI7dV1sAACAASURBVNNy31EGXmgADaABNIAG0AAaQAP70cBZzJHUfDh6nZJJYyJ2HKrmiJ/Rkqwv4uofXUulIQZpN+1/HF3+qcUcsUl1Yla4ZNMn3FGSJCJ1ybBOUlW5YrLrzttzIVmWG792XM5Xt6slpDPMkdTAKCX2io/vS2pERWXazJF4nMav8e1G7Tz4GUSRwZCWkc+ub3G7D0bMjHBczJFkrFM26eekHR3TYMqkrKNZNE6frs5olk9fb60tabO2bdVYa7laOwcft7M27IyRfv9j8/rr35g/udkiqTlS1IEzOMqzPcbNkWG9k2RmSt9G7Xix/YP7Ls8ktnBFA2gADaABNIAG0AAaOL0GzmCOJMaDMfaVlWMWcW0wJrTlICZFNnPEFbJmjfrTwL/81hw/c0RHMG9/2hyRpDUxAeaYI4VEtb8h6+bIiKnS1O4pxZ5wKSVvhybbUtdon8eNDjt7Q8ZQuIxfU31YujgyI0Je1VGvrtRNrJRX+tnFmDIb2tazUCrl3EwbHaP0J9Nb2obwvtitNkdk4dYwa2OOOSKv5Ahbux0zR+K29XW23bHXdUS3bDU39tEDGkADaAANoAE0gAb2owHMkUafYok1RxqbyootaY7Y5DNZe8O/lpMLN0tWfVLqEmaVdPu1NdyxMPMgr/e0D4lKcu/7MncmQr3v5T6PGx1rmyOedWLg2HYLWpAx9bOJKvwS46KqlaSczPpI9RI+K4MlvVaP2UXuJwbF8EpLMCVyc0Reo9Frjtj92eaIvFKTrDfSv1Jj/4U4vKYucgzO/byiffSFBtAAGkADaAANoIFzaABzJLMiSgca1kWZOXul1Ert2FLmiCTDcQI/nrhXE15Zm8In0AvcwKu9ylBJ7nVi15qEu3LZax6J8RDfzOOMFzVHZP2T0kygJEY7tumMldI4VvglzKpaScrJGi2lmSMxt7mmVSn25FirxlrLaQ0tsT/6SsyDGdYh8euJWCPlq0dhDZKBn6tjtjnykBgzS/SHOsLaLbCABRpAA2gADaABNIAGNq0BzJGaI6GO21dq8teBVBFjGswReZ1n+TVHJMFNktgoGa4l6LXjNqmsJryyPoRaoDNLbOfe/KslpAmXUlxZAp8k1XJNxFSVqR0frhtnPNscEYOmUzMsJD4/LoVzaYzpZ1VHPJYVfimzSn1iygUzZJxH1HbaRjVGNRZjZVo11lpurK1Dzs0xR2omSO34EM/YazVj5xr5HtJnrtn0l4TofmSsGCs0gAbQABpAA2jggjWAORI5HOmH8BdmauuT+CsmzZFQ14eL/7WaGeZIlFC7pPeg12rCr/rZLIoN3jA2QS8YBhJraxLuDIBOzZixBpJ9PSWelSMJ5bgZMNcc0e0Fw0Ha6rcyrkl/M/PCxRVpQtcj+43miMwmUrNWhr59dmtu0z/lW+BYTMJax0XGce/bA8yRr/QCqu4vy9T/usyEASLX679Ws3emxM+XODSABtAAGkADaAANoIEGDSxijsiMiA9/pBYxlX1lBNRmYJzir9WMxvijMCskK9f6J4YnzRHjFnX9lTnPzBGdNMs6EzZ5HhJYldDq5DusAyHXiBEjibMk2HLebVV9xaS3QZxLX2dNCBWnjnFGEp7x6Y0Sd30wRypcsvU8Hsxcc0Ta6iZMjSzOoe10/GTRXcVlKKeNlVZzJNeYNW/s9bmRIyZO0rYynqSv+bWivwvbNpkjj4z/SzRiZsi6IINRkr4eU1+XZFhLJDNC5HUdWWvEbbNyF8b+DM+kpZ9x1Icm0QAaQANoAA2gATRwuAYWMUf87Ilz7TQYE6uHtmIMY2uOIP7DxQ872KEBNIAG0AAaQANoAA2gATSABtBArwHMkaVcE8wRpmrxyzMaQANoAA2gATSABtAAGkADaAAN7FIDmCOYI7sULu4u7i4aQANoAA2gATSABtAAGkADaAANLKWBizJH9JonkwuoLmGKuNkia7fLazXc8Evd8NSDltAAGkADaAANoAE0gAbQABpAA7kGLsMcWcLo2HAdmCO5cLmZYYIG0AAaQANoAA2gATSABtAAGkADS2kAc2TDpoiEhjnCDb/UDU89aAkNoAE0gAbQABpAA2gADaABNJBrAHNEHIgNbzFHcuFyM8MEDaABNIAG0AAaQANoAA2gATSABpbSAObIhk0RCQ1zhBt+qRueetASGkADaAANoAE0gAbQABpAA2gg1wDmiDgQG95ijuTC5Wa+PCZvv3hsus9e5n896c0z8/jmmXnLn0TL2cAEJmgADaABNIAG0AAaQANoYBENYI5s2BSR0E5ujvTJaNeZzv97bJ692Wkyfkl9ueCH3mCMdJ25/XOuMznXYZAs8tDHWMw1BhOYoAE0gAbQABpAA2gADWCOiAOx4e3JzRGVhNvEdMfmyIX25SwP7z/fDoZZycA4Kh5nYD3+4m09+Xdtj5ZRY31UPNRTHwfYwAYNoAE0gAbQABpAA2jgQjWAObJhU0RCwxxZxsW8JKPnLMn/KubIW/PspjMts0JeftbPZroMo+4s43eh/xOD5TLPRzjCEQ2gATSABtAAGrh2DWCOiAOx4S3myDIPKsyRIzmuYY7MqvOlue1f9SqtS0Lizy8YaAANoAE0gAbQABpAA2gADRyhAcyRDZsiEtqYOTL8mt4niy7J7Lpb8/LB/RpfSiSzNTg6M/aqwrShoNpya5SM1TfmRo7NDCieW7AvtX7adnumsbFgy6t1WRZYD8O2peosmgDOIPDrweTj19wXx69/TSbuj56dkbcX1qKxsWbj7bUofcn5WR20zxoR3dTGQ86zjXUKD3igATSABtAAGkADaAANoIE2DWCOiAOx4e2kOdInykNybhPZxzePreExJKkq0e2T4SSJl6Q4S3CdGVBLtO0N5hJnXacYFsXEfkKULqnOY3Ht6DoX7kutn6Vk3B5TXL0ZVTMBJvr9IAZEfH0fU7S+R4mPGBGKTXNfZKy8fmycpT4P4+3aimKqmEZRmb4dFV94ODu9jq01ktQvJmBUf1qGz/xigAbQABpAA2gADaABNIAG0MBMDWCObNgUkdBazBGbLCZmRUMy+yCJfTF5lRkF2ggIib5NwuOEvk98a8dDUhzqiI9VZhI09aOv011/cF/yfmZGgTMUsuS8drzhhqyZGUU2hb6l16efpZ5aX7L1Pmq8a8dVH7M21DmJw28PYeauyQ20mqY47nmPjQXn+PKABtAAGkADaAANoAE0cOUawBwRB2LD22lzRAyKZIZFQzLrDQU9+0PdFLVE219XSNaP+XW/1N6QcFfiixO/irni+lOqW66vnUuTfVtOeOvEO2GvGEob5e24oeOvGTMSknOtfXmoGQ013dSOq77atvvXaUqMNK8H/ypYZjSp+nz//bFDOSdt+/o4njOGCUzQABpAA2gADaABNIAGrk8DmCMbNkUktCXNkZC8ynoQblsxH2qJ9oN/FSSpR62FMS/plZvPJr9hZkD6WcrJDJVC+7P7InVNzxyxZkmhTel3ySwaTcQbk/0xYyIxOWpjlho9a5gjw/9EXKxhbZKKUTLWpyqzRl7V64N++B8eLNAAGkADaAANoAE0gAbQABoQDWCOiAOx4e1S5ogk9rFpcehsi8YZDwckqUOcYnAMCXSeXC/bl3ZzxBoPeTxyQ83fNib7yeyQqJ3EZDi7OaLH3BslufEk5kysx4mHc2IERRx0u+wzLRQNoAE0gAbQABpAA2gADaCBGRrAHNmwKSKhLWOO1EyQ2nGbpNYS7T4pzWYiNAhPTI3RP8c6JNR9Ml0zYGox145P96XcT2dc6FdEEiNiieS8jWPdREkNm+a+1IyGWh9rx6fGvXpdvU9VrtW6JkyVqRg5z/840QAaQANoAA2gATSABtDAVWsAc0QciA1vFzVHOv0LviT/8tdu8gSznGi7ci65zhb0rD5UVHvacMjKW5Pj8RfPzG0Ur8TnTJDonKpbZp0k9bb0JX2dx74aomeKlNqWuA7cVjj28epZFTb+5E/3OrMgxP1gZEZGOKbYaO5zzRF5larC165Do/VledTNn3Ezq2SQ1Os6kH2ikVKbHIMtGkADaAANoAE0gAbQABq4fA1gjmzYFJHQljFHejHrJLlfN8MmskPCqRJeScLDmhF6jQ1tFPR1ilmgy9TNFpvcdmZ05oj/izf1elbpizMapN+9MWFZpH2W40mfI7Nm7sMj5xjMDVVXEqOMYfawTsoV+zLbHClpKDFrMo2NjeHcRVmdfmev66L4YYZc9a8B2X2CHtADGkADaAANoAE0gAbQgNMA5og4EBvejpkjfNkn8d23Btpnj1hjLZ+Zsu/+o1/GDw2gATSABtAAGkADaAANbEEDmCMbNkUkNMwRHhZbeFisFoPMchmbEeLKFGfT4Pbj9qMBNIAG0AAaQANoAA2gATRwpAYwR8SB2PAWcwRzZDVj4sgHyFJxyatcRfND1mQZM0820o+leFAP9zwaQANoAA2gATSABtAAGjitBjBHNmyKSGiYI6e9KY59CEmiL2uX1Lf5WibHtr3n63tuJXNk4KnWxNlzH4l9X/cy48V4oQE0gAbQABpAA2jgejSAOSIOxIa3mCPXc0Py8GWs0QAaQANoAA2gATSABtAAGkADp9cA5siGTREJDXPk9DcGDyOYowE0gAbQABpAA2gADaABNIAGrkcDmCPiQGx4izlyPTckD1/GGg2gATSABtAAGkADaAANoAE0cHoNYI5s2BSR0DBHTn9j8DCCORpAA2gADaABNIAG0AAaQANo4Ho0gDkiDsSGt5gj13ND8vBlrNEAGkADaAANoAE0gAbQABpAA6fXAObIhk0RCQ1zZLkb4+WvPzWP//jfk38D/O0fPzfdr19Plru8h9Z/m2c//9R0n6p/V8nhEM05dj//yrzlTwtf4b1ziGa45vKeoYwpY4oG0AAaQANoYK8awBwRB2LD23Zz5LW5/VQl/+++Mo8//dw8eyc36FjyZq+9RENAGyLxvmbzYLQhku7fvhaGa27HxmfNdqVup4FFk3tXZ2+2FOstmDGffmFeZuZCXq7F5Drpg3m439T9l/VBOLM96bgwDhhVaAANoAE0gAbQABpAAw0awBzZsCkioTWbI0NyFhL+IcGPElKXqJZmAlx0Yuf6/ekX5tkfPze3r+VzmshKAv65efbHL8zjP74OsyhKzBpusHlJoI3rXEl/bxx1kZl2bBIvPN0slJSh01xkyMkxrVs5pq93x87Fqjiur78YZtycxkg7dmy4vjiGi9/TcIYzGkADaAANoAE0gAb2ogHMEXEgNrxtNUdiM8Qlpo0J5XDtoonxFh8Cr4eZNf0rI+NJtUrqNb+1E6ezJtcFvRzZX2+2/NGaBjFzYZzOEkmPu8/aLBniqh0/n+6u4x46H9+9/E+VONEIGkADaAANoAE0gAb2qQHMkQ2bIhLauDkiyaRaI0KvF+H2h1+zR5Jvm8gmiar8Yu/rC7NS7A1vzQab9AbjYVivomYqTNZpbySbaKo+ZcnxnBtOYtMzR9K+9PUJy3jmSHkmgJRVMaZ9dn3NrtfjkPFQ9emxO8SoKNSdxSL1urKxgTGHcVxWxq9vr2waCL+K5mS8NSuJ9RhzZKivH3tp/1O7toxilTKy98b0uBTvoShmYfTam3Sytkva5nB/qZhsuZJmpU62fAlBA2gADaABNIAG0AAaQAPHaABzRByIDW/HzRF3AwyJlEqehiQwTjxtkhofs+JxiaIkpA+S0H5qdNLmZwLIGiYuebv9Y7y2iU6MtTglydR1PvR1RKaCJK06ztc2mVTx6Xqn9vt2Jenv9237th053tcxxO1i6ffl3BC3jtH1u/g6iCpnOagxcYmyPa77Z8fQ8smPT/WvdN62IX219ZeO+WurJsQBD1hXV8SvsI6I7a8zJ3o27rpOl63GlWvW96VoSLh+DPV9YW6dDoYYfv65eTy0aXUmcT88ON3peEQn2SyrRo0mbPqYi+NS7Hff52X00cRqjCPneG8XDaABNIAG0AAaQANo4MI0gDmyYVNEQmsxR9KEO0vo/ayI/Bdw+fXaJ/vFxCwkr97ccOWydSoK19v4cqMgTdJqBkHteHr91Oe+npD81hP/IV5ldIR6XRJcOJfGmH62ddSSene8UG9oux5vVKbA356PY5ek3I+/nyEUNOLHuvXB9643ypThIbqrGFuWUWgvG5usPsvAXzeTl++zu07qGfrp2pI+zxo/d20Wv+ZWK1M4PrRdYRaNta6ffb6goAE0gAbQABpAA2gADaCBgzWAOSIOxIa30+ZImli/HmZaSJJXSoyjBCtKzmrJu62z9Ku+N1XkRhySc22EuGunEtkoDmUEiAkzdb20P7Ltk87RBNZdWzNHbHKt+xbijJPpCY5pX2p9H+lLNIa+XK3dPs76OMSxhz6V26idd/VHSX29TW9URKZMga2Mvyp3++vSOia1uMJx209pI4lX6/adNXlyrVT642KM77nQbs+xzNiNVzITxZbVJlNc17xx4Vp4oQE0gAbQABpAA2gADaCBKQ1gjmzYFJHQps0Rm7D5xGxI1JLp99VkT6b1u4TRlSvOJkgS+ppRkCWBrk4fn0/k4xu0nCzbWQVT104JfZnzY8aDS369MWDHJEuuXRJdO350P0fGWcyRrO0R06SdmyT5ie4qpoEk/1Esrmz5T/7GWrHXi8kRn6vHnIxfokurPxt/Tdvy6k8Ut381Ziweq4fifeU1E/dDGMk1R2ujct/VecXxUA4eaAANoAE0gAbQABpAA5esAcwRcSA2vK2aI5JMql/UJZEKW5esDmXLyVtkZiQJ45j4h+uyxC5JQPuErJIgp3Xr5DQ9t43Prm+JSWRjc8mvnKv0uZbUV5PxuQnt2PhVYhrWfZn8Cz4T/yNwdQfdhVdlwjGnP1c2NRjCgriJwZIycH3MZiyl5bLPdox8u0Mc4Z4YxsaNX3RPqHrs8Xgtl378a+WDbpO2VZ2hTI2xGE95u9PX1urkOOzQABpAA2gADaABNIAG0IDWAObIhk0RCa1qjrgESyd1tdkB9eQtMTNc4ukTyGoSZ5O9PEEtJIG1pDypezGDIKlXC/64/YSVaieNPf08tOsNhJCQSzz18Zn5wKqOXz32VvNKYp2zLfXLsikl+iMxetauTLJIalNMjo3MwBji8OZerNtS3MIpW2NnYl0VG5utP79fGse3Oq4PRsytlhk3TZw868bYKH/we62MBxpDA2gADaABNIAG0MB2NIA5Ig7Ehrfj5ohNuiThs4lSmnyPJZ1p0taYfNaSNXfcxzMkTq6NJKHtk9OonLv24ATyBElaKbEvHZNE2vfPzVK4/fXnJlq3xcVcrOOg/pTGr3QsPIRs26lmwvnDH9gV3YlJ5I2Jvi2JcSSO4nXtcdp+yqwU157M9El169pqGz+JXeoO/fHX+9klI/2TeyXiYvtXNGsS7eSmTTubw8eYNmCHBtAAGkADaAANoAE0cBkawBzZsCkioY2aIy7pfub+vO6QAGbJlTMnJBHUSXeaBA7nJNlLXo3Q9RavS9Yv0e345DfUWZydIgZJ8qpQsWxU/+luSDEy/OsimouPKWVoE+chyS2Wl1czAp/DZwKkbY8vQjsW03EP+mndeYb9eKdcMi1o82H+eMf9tLF5XSX3Ud9va0jIeEyMXxZr2QSJ64zr9qyzugpsvM7UzJHEfPT16bLsM8sDDaABNIAG0AAaQANoAA0UNYA5Ig7Ehrej5gjCLgqbxLDVPLAmwZZn6zCWE2MpZkrJ/OT5wPMBDaABNIAG0AAaQANoAA00aQBzZMOmiISGOTKRHHKzN93sRZOhMgOoWBbOh3NejZ0zt9JZN6u1x73IvYEG0AAaQANoAA2gATRwmRrAHBEHYsNbzJHLvPnO/1AlsT7/GByqbTd2x/6VIUyUDRpeh2qC6/Z7PzN2jB0aQANoAA2ggS1oAHNkw6aIhIY5wsNiyYdFtGYKr2KQHGOQoAE0gAbQABpAA2gADaABNGAwR8SB2PAWcwRzZElzhLrQExpAA2gADaABNIAG0AAaQANoINYA5siGTREJDXMkFi03MTzQABpAA2gADaABNIAG0AAaQANoYEkNYI6IA7HhLeYIN/2SNz11oSc0gAbQABpAA2gADaABNIAG0ECsAcyRDZsiEhrmSCxabmJ4oAE0gAbQABpAA2gADaABNIAG0MCSGsAcEQdiw1vMEW76JW966kJPaAANoAE0gAbQABpAA2gADaCBWAOYIxs2RSQ0zJFYtNzE8EADaAANoAE0gAbQABpAA2gADaCBJTWAOSIOxIa3mCPc9Eve9NSFntAAGkADaAANoAE0gAbQABpAA7EGMEc2bIpIaG/evDHfffcdf3ubv72NBtAAGkADaAANoAE0gAbQABpAA2hgBQ1gjogDseHtDz/8YHqDpJ9Bwj8YoAE0gAbQABpAA2gADaABNIAG0AAaWFYDmCMbNkUIDQIQgAAEIAABCEAAAhCAAAQgAIH1CWCOrM+YFiAAAQhAAAIQgAAEIAABCEAAAhDYMAHMkQ0PDqFBAAIQgAAEIAABCEAAAhCAAAQgsD4BzJH1GdMCBCAAAQhAAAIQgAAEIAABCEAAAhsmgDmy4cEhNAhAAAIQgAAEIAABCEAAAhCAAATWJ4A5sj5jWoAABCAAAQhAAAIQgAAEIAABCEBgwwQwRzY8OIQGAQhAAAIQgAAEIAABCEAAAhCAwPoEMEfWZ0wLEIAABCAAAQhAAAIQgAAEIAABCGyYAObIhgeH0CAAAQhAAAIQgAAEIAABCEAAAhBYnwDmyPqMaQECEIAABCAAAQhAAAIQgAAEIACBDRPAHNnw4BAaBCAAAQhAAAIQgAAEIAABCEAAAusTwBxZnzEtQAACEIAABCAAAQhAAAIQgAAEILBhApdhjvz1c/PNRx9E//7x1xNQP1e7J+gaTUAAAhCAAAQgAAEIQAACEIAABK6FwILmyP+Yd5/EBsW3X/7PURz//eWPzTcf/di8ez9RjTMpmgyR978z3zojpVpelbGmy+fm+4kQzJwYpuriPAQgAAEIQAACEIAABCAAAQhAAAInI7CQOfIX84/ecPjFX0LgYjDoY+Fs096y5oiL8ZPfme8H0+UDUzJHbJvxuaY4zmaOvDJ3XWe60X935lUTcQodQuDVU+Ff5hzOj5d7/+ImHsenjNoh48E1EIAABCAAAQhAAAIQgAAE5hJYxBz5/hcfmG8++Z35d9r6kYZBkynRtznZjp3VImZIyQCxoVsDJZ/x4mbFjBk9kzGkcFb6fH83JNh39yvVT7UxAcfbmlO5OTIYI0+eGz35yZolN+b5O6nqvXn+pDdO9PXuWHKtXMEWAhCAAAQgAAEIQAACEIAABJYjcLw54maI5IZCH2Q8o6Rmdgzmykfu1RWZcZKsIaLXFBGTw2OYaUxUzRHXdla/MaZqAEkQDTFIu2VWUtGRW8yRIwHOudzN2nn6yljDQ5sbxph3z81N15nMqHLHb144y2QYM22WuBhq188JkbIQgAAEIAABCEAAAhCAAAQgMEngeHNk1BRwMy7crJImc0SFXCuvitjd0Riy0kZMiswEGTF67DUja49MxqDWZCnNssnDPOzIhDkSZjLIbIXyqx7FZN/UZjPkr/ZkhsBhvdn0VZqR3vdBu7HwJoicSMwR+zpNYqwMZS3X7Hqphy0EIAABCEAAAhCAAAQgAAEILELgaHNkysDQs0JqZXUZ3ataeV1m2J80JuIrbL3xuiK2hBgYySKwrv5vZHZLXJ391BCDtHvOmSM2ibeGSEi6nbmhXuEoJvslc8Ql+p1eH6NmCpS47fVYYkKVeYlpFBsftmyYKWLNkfA5IHFmlGYbTrIHAQhAAAIQgAAEIAABCEAAAgsRwBwpgLRmjfrLO7/4i5ttcszMkUJDaxxKkva0CTFH0pkdaXKffrb15DNHhnLKVJH2asfl/L63zvRQpkWZlzHGjYesJyKLrgZjKrx+0yUcbZ2diYynfYMjeghAAAIQgAAEIAABCEAAApskcLQ5Mr4Y6s5eqxkZoiXWHBmpfrlTTeZIPJOh1Hg52U/NkfprH/XZEKXW9nWsxKZ0LPRKZpDYGTupMWXLxWX6BV7v7pk5EhiyBwEIQAACEIAABCAAAQhAYD0Cx5sjI+t0HLQgq+rr6V+rUY1Hu/HCstEp+dDwWo0UXXV7SnNEXqmp/hnh0qsiq/Z+/cori6TWzBF7XC3K6plNG1TG1M2n9TtKCxCAAAQgAAEIQAACEIAABK6HwPHmiIlnh0ToBsMgrN9RNjuc8VBYz6NcPmrBfphpTMjaH9mCrIWq+0NNcTTEIO2ef82R6cS8nOy3zxypoNz9YXktxv7pXlnMNt06vjWjSgwS9VpOEUzt+mJhDkIAAhCAAAQgAAEIQAACEIDAoQQWMEeMkVdrvvnFX0IcpRkl2TExRvr1PQrrebjyUb2hhbDXYEyEwmJ2lBZk1aX6fVmgtaHsZAyhrm/O/ddqugPNEUnq/doYqVmS8ruezyUzSYyU7DUa4ThqjsD2etRDTyEAAQhAAAIQgAAEIACBcxNYxhwZeqGNDruYaXFmhjMRvvkolLEzKgrmSF+vGCSufH9dVu+kMREMEWk33qazW+LFWJsGaUYMe5g5IguJ+sReEvr+FRpvjqgFR0cT/SaCuy5UMkeEoSzGajvoTI9hTZFKlz3raROrUgOHIQABCEAAAhCAAAQgAAEIQGAGgQXNkRmtLl20wZhYusmsvi3E0Ac18SpGMYnPOmMPyMwH+wqJXT9kuF6bI0PRfDHR4ZorMkyqXL3RoV+9SddiCYaJvK7jTanK2HAYAhCAAAQgAAEIQAACEIAABJYjgDmyFMutmCNL9Yd6IAABCEAAAhCAAAQgAAEIQAACV0IAc2SpgcYcWYok9UAAAhCAAAQgAAEIQAACEIAABE5K4KLMEb2OSLYuyRpYnSFy8nbX6At1QgACEIAABCAAAQhAAAIQgAAEBhtpYQAAIABJREFUrpTAZZgjVzp4dBsCEIAABCAAAQhAAAIQgAAEIACB4wlgjhzPkBogAAEIQAACEIAABCAAAQhAAAIQ2DEBzJEdDx6hQwACEIAABCAAAQhAAAIQgAAEIHA8AcyR4xlSAwQgAAEIQAACEIAABCAAAQhAAAI7JoA5suPBI3QIQAACEIAABCAAAQhAAAIQgAAEjieAOXI8Q2qAAAQgAAEIQAACEIAABCAAAQhAYMcEMEd2PHirhv7uubnpOtP5fzfm+btVW6RyCEAAAhCAAAQgAAEIQAACEIDAWQhgjpwF+/KNvnqqjQy9f7yp8f7Fjem64+tZvtfnrvGVuXPm0c2L95VgQhkxmkplLWM9brJ/Z15VauYwBCAAAQhAAAIQgAAEIAABCCxDAHNkGY5nr2UwR548N7UU/ZgAMUdSeu/N8ye9eXFnXt3fDbNrSoaHMdYYubsP14sJkpa3xzFCAin2IAABCEAAAhCAAAQgAAEInI4A5sjpWK/aEubIqnijynvW3twYNUeiy9wHZayo05gjCga7EIAABCAAAQhAAAIQgAAETkwAc+TEwNdqbo45IrMX5DWPqVdmbPmx12ryV0f0bInQZzEG5JURZTKEQvvam22OGDOMVT/rRPUUc0TBYBcCEIAABCAAAQhAAAIQgMCJCWCOnBj4Ws21miN9Eu5nPQzBiGFRNz9GzRFZuPVplOqb50/i5F9eMen0qz/Fa9citFK9s80R4R3zwRxZaXyoFgIQgAAEIAABCEAAAhCAQAMBzJEGSHso0mqOFPviTIrybA9jRs0RZw7UrpX2asl/7bhct/ntXHPEle8iM0kYhxk1w6webSRtHgQBQgACEIAABCAAAQhAAAIQ2C8BzJH9jl0UuX1VI0mu+7+k0pJgO3MknlESqh81R2T2R9eZukHiZkskhsDQQqO5EqLZ2N4cc8Szqs/SCb2TV5Vayoar2IMABCAAAQhAAAIQgAAEIACB+QQwR+Yz2+QV7TNH5LWO3Eg5yBwZaEgiH+qMjZL8fFjvxF4Tl98k4nJQzeZIYNDcVzFTSqZSORqOQgACEIAABCAAAQhAAAIQgMABBDBHDoC2xUvazBFJ0OP1LswxM0cyGNKGXmx1ZOZIdv3ODjSZI4FJszHSY8Ac2ZkYCBcCEIAABCAAAQhAAAIQ2CsBzJG9jlwSd5M5UjNBasddG6Ov1SRx2I/ODFAzHuxrP4kpU7x2ZwcnzZEwU6c2M6faY1f3LEOlWhknIAABCEAAAhCAAAQgAAEIQKBGAHOkRmZnx+eYI9E6JC4B719zqSXvY+ZIfy67rpTUyyyIljVQ9sR+1Bw53hhJF27dExpihQAEIAABCEAAAhCAAAQgsBcCmCN7GamJOJvMkb4OZYaEv4hiZ3pok8MaImENkXiNkHgGiJ0VosvWFhENZkFU394Mk5Rhv/Ct+udnekyUC8ZHiUuN4YQQOA0BCEAAAhCAAAQgAAEIQAACswlgjsxGxgUQgAAEIAABCEAAAhCAAAQgAAEIXBIBzJFLGk36AgEIQAACEIAABCAAAQhAAAIQgMBsApgjs5FxAQQgAAEIQAACEIAABCAAAQhAAAKXRABz5JJGk75AAAIQgAAEIAABCEAAAhCAAAQgMJsA5shsZFwAAQhAAAIQgAAEIAABCEAAAhCAwCURwBy5pNGkLxCAAAQgAAEIQAACEIAABCAAAQjMJoA5MhsZF0AAAhCAAAQgAAEIQAACEIAABCBwSQQwRy5pNOkLBCAAAQhAAAIQgAAEIAABCEAAArMJYI7MRsYFEIAABCAAAQhAAAIQgAAEIAABCFwSAcyRSxpN+nJWAq+edqbr7syrs0axTOOX1JcliLx/cWO6rjPdk+fm/RIVUgcEIAABCEAAAhCAAAQgsCkCmCObGo7Dgqknbu/N8yed6Z5eQrpeZ2MT+d6YkH/nMSguyVCo9cVq7cY8f1cfj0s8U7/HDuntK3PXa7Xxvkz1ffOibs+Esue5Bw6hwTUQgAAEIAABCEAAAhDYAgHMkS2MwpEx+MSt68zdva7sws2Rd8/NzWCIpIngK3N3hl/4a4aCHpG97Nf6cq3myLLj1miOiL5btXx/d3aDcFlO1AYBCEAAAhCAAAQgAIHTEcAcOR3r1VqyCeuduetf64gSqUs2R1yCGfV3NcRNFdcMhaaLN1ao1hfMkSUGqsUcsWXGZonEkYQ6a2MXl+cTBCAAAQhAAAIQgAAEIKAJYI5oGjvdF3Pk1fDLsX7loWyO2PLyCkq/1dcYY4Z6+tkYLuFyM1LCdYWZGv6VFltvPINFg3UxpW3qIg37Eku9naSS6Ff1Psa0D8YMSeVgtoR+D6/qVF5/sEmo5liuV2L1r/0UDJ3QtvCRevM4k54t8nG0LzKDIRlj3x8/Y0liL8WcnlPJfzI25TFNxsS3Weq+tJXoulR04ljGpaiFtr5kdaU8tS78PTgRoDtt67bc9X7b1ZSCAAQgAAEIQAACEIAABDBHLkADNvnuEyOXFPoELv1sTF82/jW6kEj6ZNUml0Oy9eTG3CjjwNchibNvU8yVLmnHgZbyXeV843jMSQDFnNBJt70+Tp7tMWtK+LIuXt/fIT6XqOs+G2euJKZL3o7wjg0E3XZoy7Wjk+ZGPu3F2vvS12lZxtx0WyXWw/mMo2s3eS2qeL1oRvN2Gg2sVBRS/kiNqRr70R1ZJ2SsLyVWY3XZVgc9tI67YyGatVqK9RX3hU8QgAAEIAABCEAAAhCAQEoAcyQlssPPNqG0yVCcvObmSLF7LpmU5MrOHAkLRsYJfpzY1ZK42nEjBs5RM0fKBkOxby6pzZNo2w993Pazsm6LSlRtuTz5zI6nXCXAwvFy22XDRapZYpvF7CqtHY/1VYog1oeU0Bq1x1y5xEzy+lBGyBCL4i911o77Oo7SmLQi23K/RvvixllrLCqv+iit2G24by03mUWUvjbXl87jqo1d3AafIAABCEAAAhCAAAQgAAFNAHNE09jpfpx46mQpJFmjXUuTuNFfonX9dj9P/qZnGIzGM3myYI64PvhXPSSZHvpS+vXe1SHlKjM/fKLty9WZpklpPC66U5qhPZ5eq0uvt9/eF4nB9qnEU0qUDJ28v6WkXmqITY9zaUyikW2pDxPn0vtKihcMDX9q2BF9p7OrXAzKUCrppnQsrp9PEIAABCAAAQhAAAIQgEBKAHMkJbLDz2kSHj6Xkt+QeHkjwa194E2OVnMkNSTSNRQW/eVeD4z0IZ+9kZoZloX65T2N0ZsepaS+b9O15cvVk+Q0KbWfR9pWMwfSa3Vv19tv74vE0GKOmNQUKBpUjW2fTWPSY9nW460aPSkHqarVHFH68Jfqe9PV72d8uULn0ZKPkB0IQAACEIAABCAAAQjskgDmyC6HLQ46mCHuuE/KXpnnT8LrMT6JU788D1f48u9tBToBy2ZU6CTR7ntTJQ5r1U9ieqSJYWZmFBPzcmjlpPJwcyQbl3Kzw9Fy2yMXLHJKj2VcYS2eJnMkMZSGury5JO3U2i7zPofGJFK7rcXbn62cS+8rX2GlvD/vjLqMmTHaeJJ7IDU5488lA1E1xC4EIAABCEAAAhCAAAQgMBDAHLkAIZSScJuQ3pk7bY7UkrX0eLM5kiayLTDdNcfOKnExd9mv60lMad9GQiwbAkl9SeLvq5N4tPGUcPRlCzvltgsF3SGfGJcS6PplyZm0b+50qS9Ru+Ov1QxFvSlljYDcxKoZBPZ4MEMqMSY9iT+6a47VWFRpLd6+UOVcVXuV8qq90j09nPZcVeFkd66Wksv5CAEIQAACEIAABCAAgaskgDlyAcNeTKR8gqtmjsgxnVC7BL7/tdknpElSHydbSWIn12cmRQWsxKDbqxSdOuwNgqjtPJm28acLrea1x/2U83l9smCtT/iHPt2Yu6c3yZ8Ibk/Sy21LDPlW+tSPm48jLzZ9JBlrOzOh1BdXlYxfxLzUjNNJ/xqT1psvmuhoOC68ktkOZ9SYD7dmgAwFSn2JZ3mEeuyeHb8xk6lUZ+lYWnPt9bC8HEcgAAEIQAACEIAABCAAgUAAcySw2O1e0Rzxr8Moc6TvoSSasvbGkLjapOsgc2Sg5pI2qVO2xQRaEuCxxHDOUJTb9n2RqtJ+uxi1sVA2KArmiP+TtrKeiE3ma+PgTRzhMmzj/pfbluALWzEpjjVHZvZliES1La9waI4SrfQ7G4uhQHnc8plAUtuc8ktprNKmG8fQL1cu1bvjFMpJX+xWG1wDx8xEytuv1aVrnq0lfTH7EIAABCAAAQhAAAIQuFICmCNXOvB0e+8EljIA1uNgzZHYBAqtVQyFUIA9CEAAAhCAAAQgAAEIQAACJyOAOXIy1DQEgQUJuJkwLTMJFmx1RlVT5sfU+RlNURQCEIAABCAAAQhAAAIQgMCRBDBHjgTI5RA4KQH/elBtRsZJo6k0JrNakrVDotKYIxEOPkAAAhCAAAQgAAEIQAACZyWAOXJW/DQOgQsioNciydbPSPuJOZIS4TMEIAABCEAAAhCAAAQgcD4CmCPnY0/LEIAABCAAAQhAAAIQgAAEIAABCGyAAObIBgaBECAAAQhAAAIQgAAEIAABCEAAAhA4HwHMkfOxp2UIQAACEIAABCAAAQhAAAIQgAAENkAAc2QDg0AIEIAABCAAAQhAAAIQgAAEIAABCJyPAObI+djTMgQgAAEIQAACEIAABCAAAQhAAAIbIIA5soFBIAQIQAACEIAABCAAAQhAAAIQgAAEzkcAc+R87GkZAhCAAAQgAAEIQAACEIAABCAAgQ0QwBzZwCAQAgQgAAEIQAACEIAABCAAAQhAAALnI4A5cj72tAwBCEAAAhCAAAQgAAEIQAACEIDABghgjmxgEAgBAhCAAAQgAAEIQAACEIAABCAAgfMRwBw5H3tahgAEIAABCEAAAhCAAAQgAAEIQGADBDBHNjAIhAABCEAAAhCAAAQgAAEIQAACEIDA+QhgjpyPPS1DAAIQgAAEIAABCEAAAhCAAAQgsAECmCMbGARCgAAEIAABCEAAAhCAAAQgAAEIQOB8BDBHzseeliEAAQhAAAIQgAAEIAABCEAAAhDYAAHMkQ0MAiFAAAIQgAAEIAABCEAAAhCAAAQgcD4CmCPnY0/LEIAABCAAAQhAAAIQgAAEIAABCGyAAObIBgaBECAAAQhAAAIQgAAEIAABCEAAAhA4HwHMkfOxp2UIQAACEIAABCAAAQhAAAIQgAAENkAAc2QDg0AIEIAABCAAAQhAAAIQgAAEIAABCJyPAObI+djTMgQgAAEIQAACEIAABCAAAQhAAAIbIIA5soFBIAQIQAACEIAABCAAAQhAAAIQgAAEzkcAc+R87GkZAhCAAAQgAAEIQAACEIAABCAAgQ0QwBzZwCAQAgQgAAEIQAACEIAABCAAAQhAAALnI4A5cj72tAwBCEAAAhCAAAQgAAEIQAACEIDABghgjmxgEKZC+OGHH8ybN2/M69ev+QcDNIAG0AAaQANoAA2gATSABtAAGkADC2sAc2TKmdjA+d4Y+e6778zDwwP/YIAG0AAaQANoAA2gATSABtAAGkADaGBhDWCObMD8mAqhnzGCMYIxhAbQABpAA2gADaABNIAG0AAaQANoYB0NYI5MORMbOI85so74eajAFQ2gATSABtAAGkADaAANoAE0gAZ6DWCObMD8mAoBc4SblQc2GkADaAANoAE0gAbQABpAA2gADaynAcyRKWdiA+cxR9a7AXi4wBYNoAE0gAbQABpAA2gADaABNIAGMEc2YH5MhYA5wo3KwxoNoAE0gAbQABpAA2gADaABNIAG1tMA5siUM7GB85gj690APFxgiwbQABpAA2gADaABNIAG0AAaQAOYIxswP6ZCwBzhRuVhjQbQABpAA2gADaABNIAG0AAaQAPraQBzZMqZ2MB5zJH1bgAeLrBFA2gADaABNIAG0AAaQANoAA2gAcyRDZgfUyFgjnCj8rBGA2gADaABNIAG0AAaQANoAA2ggfU0gDky5Uxs4DzmyHo3AA8X2KIBNIAG0AAaQANoAA2gATSABtAA5sgGzI+pEDBHuFF5WKMBNIAG0AAaqGvgpbntHptnb3JGLz/rzO2f8+P1uigLGzSABtAAGrhODVyGOfL3P5gPf/Sr6N/P/z5lOSxw/kTtbt8ceWue3XSm6zrz+Iu3hodJ8jD58+3AputuzcuH5NzRnx37m2fmbVRXGJN+XIZ/WZmlYzmkvv4LvY3vWr+894nLOto4ZDzOd837Fx+brx49Ml/97H54hnz7s0fD5z+9eLfyM+Xe3Pftqn/3Xx/Hob0v279PrT7dM6S/Vz97ufJ4HMf+Ov//456jxWc8z9jr1AT3EeOOBtAAGjhEA4uYI//8/W8jYyIyKn5yb/65gA8xWoUzKaYMkTzOP5i/1Sr+/t584gyXqXqHKhpjqDU3drzJHHEJ+HkSzPAF/yTmyJtn5vGQUKdmw0a/BJ7THCl+WY4flm+/eGy6yi+OhzxU5l1zvjHLkr5VzKuYdYkN5ohj9PVPI3NEDAZtjsgxMVA8T7n20U/Nt5FJOM3f19Ff5+o51hyReiROiVv3JWp3iLlmdM7swzH9H73W3auYIweaQ+vxm36GyP+j0/9nbkVbxJE/D2ACEzSABtDAOTSwiDmiE/u//bKfwTFiOujCS+03GBODMRIZNd+anw/mRxqrO/6Te/M3Z/pgjmzs5vTmSDJV2JsQyfHRL/wb69vsWGsJVe143t/zmiN5PKs/CL1+0kThpbltMJOWjm86sTkDo9k6XCBGMTjczBExFLRRIce+SkwQmWWSHp89ViubI7oveWzt92x+7QL8J8d8veT+PP05BTPdxkr8Wn8Ykece5taB5pYeS/av455lnBlnNHCNGrgac6TowzhT5ZPf/8ud/pf58ie/MmKGyEwT+VysQw42GDRSdO52+zNHTvzwGL4M3prb/nUE9UWvTzIff3Y7zCo5zwyaE3MYkplaQlU7nsd4XeaIS1DOYILU/geDOeI0+fY35k+PHhk/u6JgVAwmyM9+OrwGE4yG/rWYj839z/rXcjYyc6ShL7ke2u/Z/Nr8vl6+zErJ/aQpc4q+naKNNfjN08x1PetPMaa0sfxzBqYwRQNo4LwaOKk5Ys2GfqaGNSH86zfRjI651oEx5lBjwr06E8yRuO2lzRGpr9Ze3Hr4VDdH3JctWVOisI1ecxlMBbtgm/2SFN4jz8wE+ZVJ1RnVNXyhzdvP6unLubr6c3G75cXjJh8Kzhx5OdQrv/73sfT7NqYojpa+qBgf3C9xslZH3G/3ZXQwZZL+Jwl33NfOdMn5qJ9Jm/U1KFz7alzK64lMfGkuMJH+ylYzHBL4If60feEfHmRZv0uv7GTtl7Vg6+rbSNodYzmSbElsum/ROKTXNoxLYJPoQRl3ug1rhoR7z/Ju4Jj12TFp0KJuf8/71hy5N8MMEjfDZHiFpd8fzJTEHHEmhV5PxJsv6Vj3nwuGTMzrnXn9cbw+yWh9pTaqxybu2ep17t6Te6qku+K5RK/9M6V0rW/XlS+WqZxz7cbP0D7evO3me9LHE545wxhJH/2zceyZou+/9N5r70vLvV++31X7tfva92NkLS/3fGpmVx2PhGWNMceZdYIG0AAaQAMXroEzmCN24dRgELjXWH75bXAD5u4dao5kM0fihsXMWGbmiDKEZppBdXNEfaFp+ZKkEz31hcx+eVNfJPsvUOp8/8VTksr8S66LYax9/aVV1WvbTb+Yqj7Vbr6hrZAwD18M+2MqSfRxtvZFx6jWnpB+hy+fcZLuj8v1xcRhPOnJ23gw2Zj0LFwbvm8Dn1rdteM5X9u+Gv8Cd/0FP7Tvkgg1pn1d4XzflvCq1z/WvrDpDYRQbyV5KcQdJ7bCtU1z0rYf4we5Pu6LZuPLFseqHHfpPsjHXzjq2OWYTbTStscT3VwHDw//1/zXfxjzn9V//2u+fttf93/M1x+PlTPmv45c0DQdN/ks5sjDYHpYI6Q/NswiGYyNj83rIcYHM5T5+DfmvdKFvJZTNTRGzRG3cKuuU8wXMWpUWxJz+7b9ni3XKXrQGrHjnN9jvRaTcvL/h+IzrK+nrF8bS+Vc6T4oPStd2+EeL+mzfkzu1fj69DW5Eh85pu/p9r603/tT/KRvrm31TO35vvxMxydl5f/LyTiOavBYjYW2yxrkPFzQABpAA2hg3xo4izkSjBFrRhy9TslB5oiYFb81X34fmyLyaVlzxBipL+2/tFfbLm6OpF9+3RdTn1wVv1y5L1XptVJ2rA75Mpx84ZMZGuPt5jeY/SJsvxAO+5+9HMwEW4/9chl/SU7rKPSlFmP25b70Zbqvf+xL59i5Wrzp8Vodc4+nLOQLdvnLtzzgJQlIx6qU2Ms1fusYptfK+TxxCzGWkx4xKeYkBWqM0qRQNBxtU/4SU368zCYflxqr7HiNV3bctZHNzMnbFtbj262bI27WxmBE2P37r3vDws0WSc2RaDxl/HQdckxtR8wRa6wkM1MeHuwsFomh2Kaqf/T8oeOm6i8+h9vrHbSYPqd9zFb7ZdOtci57frp7t9DGeNuqjz4eOVZpOy03sCk959Lr08+unVpfunSNqxrvSr06zkIbY/fsIcyy541un31+EUYDaAANoIEr18AZzJHcjDiHOWLb/JX5cGTGipgZy8wcqVkf08eXNkdqSerYl7Dx5P/BjBodtS98xS/y8oW3vtXmiMymCK+h2C+gTeaI/oJeizF7QNS++NbjHWVX/cKetlPrV1pO4qgdl/NhO2ZOiCaO+kI9wXas/dq5w+JxTLQ54mKTV4n8q0/N41IzalL+7nPBXEz7Euk70l+aXKVthDGVcbusbWxsyCwQ+Ysw9pUYNXMkYidsXB169ocuVzVH4rYjrtVrpM3W7RLjmWokzDhree6nWoz6ucjMkdpzrM2kjeNxXKv3asx96Jt+5qtxj88VGPZlC8+xMq/aOFbqVXH42TnRTLm4H4FBrZ1aeXu89kwN9Y5fTzn4oAE0gAbQwCVr4CrNETE9Ppx4vUXKXaM5Yr9Aqfei5f3nypfLs5kjMmPDJ535l++mvhS++JZv/EO+kNavqcaW8q7GV6u7djx/oLd8WS4nAXld3giS+NW2ZliNtV871x6PjtEx0eaIT0xiXs3j4l+1SWexxPX5pMfrNMSV9sV+Ltx7wtLXkbYR6ixrd+/nE4PCvdLiF2YtzBzxBsqjeJ2Qr2abI+6VmrQe9dnH4TU1l/cy42m1G/SYfvbacOa0NwZFX8X7o+/LWHJfOZc+t9znvE3Re2lmxzjH2jPC93MYj3G28T3Y2Jfme1/ir9Sb6cXF6sdDv1IodfXb8T7F/Q/XtfEK5Wv1cBxGaAANoAE0cIkauDpzRAyPKWOkn88hZa/NHJHkLP6lceKLmPuiHV/jHhrpF2T5Mjh2jZQpbIf4aiaNfGF0CWRzX2oxZu1PcMjK9wxGrmn81bP0q6V9INXqrh3PH+QtX5bj5CGvw8bivvynydUE27H2a+fa4snjtPWl0+ALY9Q6Ls0JUj0xSvtiYwzJbf1/PO1jXK9DM9r6azXWoKiuF5KYJcP6JI/ceiT+vlxh5oivW7M8ZH+h8XT3m30W2zpTY1Lug/R4qsVYN3UNV42T7N63daTtxu3MY1d7RqR1Dn0r/n8j5V7pZ9aX1llj0p9KvaP6cbH1Rok3RaW++itKad/15/ExDnXra9iHCxpAA2gADVyLBq7LHHFrk3z4o/4v5kz/t7Q5IvWde82RooHhv6ClXxTlYVA77s6PGR2FL5XDDTZyjXx59685+PimvhC6OIcvkrWYC8drMap27UOhcG1WRpjJduSa5nYrX6wdw5zTSJtJvC3JRdMX6lpfasddHGPt186NxWPPlZMJMZnyRCPhNRGz/h9EOZakvppB5toJr4VNvKIWjV3ahujt0O0lmSM1E6R23DEbeUXGmi35miNaC8ftN4yn18vYDAtXT/8MrJh8Zc3Wkn3RU+UZNGiyfE6e48EMaehjpHFpe2TbeK/WniVi7IQYW/tS41XrY7neac3U6jvkVaR6XdNxjIzB3DGjPGsaoAE0gAbQwEY1cD3myExjZPmZI7IA7K9My6wVbd00rTkiU56Lv4y5LzUjZkT4YuS+PEWLPLovdf2vV7X6x+qufXmtXiMx9FOt8yRg+GJfi0OSUG2ORHVU+lKLMbtxD/lyOX6NJPPjplXhi/DA79bcflYal/E2w3iHd+lzwyB8Ga4lU8V69Ni4MY7/2kyot7++nrTUz9XjUeObzmBxYykJW9zfnFfruJRjyevLXj0bNPfY3H722ETmiGg40m3MzHIvtJHptXTdXo/NmTniTJBHeg0S9WrM7Ndq3F+/6V+jqV17NPvp8fTanVqTwj0bnn3xuD7jIFpI1LU9vMpRm7U0ntyn90E1VnkmFGZCRM+TGTzL92r612rk2aD7J/3Wx3LTo9aXtM9T96Utn/8/zfe7Z5NyGft/k2M59f8OX/9YXTN4+/q4huQGDaABNIAGLkwDi5gjMiPiwx/ZP9MbbdW6HrbcORZkVcZEKcYfhZhG+6LKafNi2G/4izlS9yozRwZhypc/eX87eVe5+YtUWo/9Mjd8saskvvk75OoLYO0L2Ug8/suobs/dfFkc0U2ZJhiNfanFGNXdJ5Vp/bVEU750h7GIGKVfgB2LqEyUvNh27JdrV6djU+bRGqeL3/Vft6+/cNt24wSi+AU57ccQox2D8MusmB4VNsrUsDpQWtIaUOV0LJ5Ryjgay1QXNhYd41Bn2h+3DsA0mzJ/r2uVhNpjOdu4rLDSLMptaBaXtd9mjoTXbpQZMqwNYo2SYQaINjjcbJGv1PohYV+bK/29IqZL4xomkeZqzwo53jCe/j7VOpDr9TboW2s16MG15fTc3/d9uVyLoR79bJD9+H5J6qzc+zaGSr2j96zuX2E/u1fze8o/v1W/MzPsoc0qAAAYiElEQVRiGLO2vpSfi+Pj6J9PEkPy/7jSfV8ew57BeFthvC0vW/eUdgpsZ+mY61PufEYTaAANoIH9aGARcyQzCk59oMGYWD2kFWNomzmyH9HxgDjFWM370syYnGJMaAOdjWmAexZ9jOmjcs6ZQnUDxV0nxtoxBhQmCb8QowE0gAbQwIVrAHNkKdcEc4SHxaYeFiRaJFqVZGpTOiXGoFPu2cACXbSzcLoZfQ1PypRm08C6nTWsYIUG0AAauHQNYI5gjmBqXGSySKJ16Q9v+ndpX1C4Z9H0oZqW15TK5od9lYfXadDXofriOrSDBtDA9WjgoswRvdZJ05/fPdYYcbNF1m6X12qu54Zc7uErvxTKWhWlRVvhuhxvWMLyEA1wn2a6kdc/ZE2Oke3kqyQXaXzXdNYvQHtrXr5Jz1vjBFYpFz5n995V3S+MP+OPBtBAWQOXYY4ca3Js/HrMkbJ4uanhggbQABpAA2gADaABNIAG0AAaQANLaABzZOPGSB8e5gg3+xI3O3WgIzSABtAAGkADaAANoAE0gAbQQFkDmCOYI6w5wlRSNIAG0AAaQANoAA2gATSABtAAGrhqDWCOYI5c9Q2Aa1p2TeECFzSABtAAGkADaAANoAE0gAauSQOYI5gjmCM4xGgADaABNIAG0AAaQANoAA2gATRw1RrAHMEcueob4JqcUPqK848G0AAaQANoAA2gATSABtAAGihrAHMEcwRzBIcYDaABNIAG0AAaQANoAA2gATSABq5aA5gjmCNXfQPgmpZdU7jABQ2gATSABtAAGkADaAANoIFr0gDmyA7MkTdv3pjvvvsOEwMnFw2gATSABtAAGkADaAANoAE0gAbQwAoawBzZgTnyww8/mN4gef36Nf9ggAbQABpAA2gADaABNIAG0AAaQANoYGENYI7swBwhRAhAAAIQgAAEIAABCEAAAhCAAATWI4A5sh5baoYABCAAAQhAAAIQgAAEIAABCEBgBwQwR3YwSIQIAQhAAAIQgAAEIAABCEAAAhCAwHoEMEfWY0vNEIAABCAAAQhAAAIQgAAEIAABCOyAAObIDgaJECEAAQhAAAIQgAAEIAABCEAAAhBYjwDmyHpsqRkCEIAABCAAAQhAAAIQgAAEIACBHRDAHNnBIBEiBCAAAQhAAAIQgAAEIAABCEAAAusRwBxZjy01QwACEIAABCAAAQhAAAIQgAAEILADApgjOxgkQoQABCAAAQhAAAIQgAAEIAABCEBgPQKYI+uxpWYIQAACEIAABCAAAQhAAAIQgAAEdkAAc2QHg0SIEIAABCAAAQhAAAIQgAAEIAABCKxH4DLMkb9+br756IPo3z/+uh40X/O52vUBsAMBCEAAAhCAAAQgAAEIQAACEIDAsQQWNEf+x7z7JDYovv3yf46K799f/th889GPzbv3E9U4k2LKELH16Rg/N9/Xqn7/O/OtM1ym6h2qaIyh1hzHIQABCEAAAhCAAAQgAAEIQAACEDgPgYXMkb+Yf/RGwi/+Enoh5oI+Fs427S1pjgx1ffI782/fsov5o9Qgccc/+Z35fjBnPjBbNkfev7gxXdeZmxdlB2nqvMdxwTuvnnYDo56T//f0Vd7jd8/NjS6j9u/upfgrc6eO+/rUsVBWrmELAQhAAAIQgAAEIAABCEAAAlsmsIg58v0vPjDfRMaD6/KRsymWNEeKg+DiCzNc7OwXMUNkpol8LtYhB4/sq1Qzf/vePH/SJ/13Jk/3XSL/5LkpWyfzW7uIK8QESQ0Sd/xQc8OaMKVxuAhqdAICEIAABCAAAQhAAAIQgMDFEjjeHHEzRILBoFnFM0pqZsdgrsgMDplxkqwhotcUycyKQ42J0diNWdockfrKrDS3mfv3d8XZIzJr5NBkf2YUuypeNDKOMUfctbUZPLuCQ7AQgAAEIAABCEAAAhCAAASujMDx5sioMeHWIXGzSprMETUAtfKqiN0djSErHQ6462pmhZgZmRkTagh7kzGoNVlKs2xCTQfsyeyRG/P8nVw+MmvEmSnhlZDabIf8FZJLMVoGcySdUXOEOWLNFs1fxoEtBCAAAQhAAAIQgAAEIAABCGydwNHmyJSBoWeF1MrqMhpYrbwuM+xPGhPZFcYYMSvqC74ua46EmSg1M6YUZfMxl9h37lURO2skT9ZLs0mKiX1Sn42jN2FqRkpzpOcv6MyhzOg52BxxJlL6ms75e0oEEIAABCAAAQhAAAIQgAAEINBA4GrNEWvIJIvIJsCWNkeS6hf/GEyOWrJuj+evfhSO1wyExaM+TYViCslsmZyBMUYMIbW4atflBlMacc2ISsvxGQIQgAAEIAABCEAAAhCAAAS2SeBoc8SMztrY5ms1YnoUF5FV4yTllnmtRlW81m6U3BeS+sHwKBw37rUc/ZqJqiubYbFW/Cer15lHxUVs4yCs4VT/a0DG1IyouB4+QQACEIAABCAAAQhAAAIQgMB2CRxvjowuanrAgqyKlTUn6q+9+KKjBo0vNeyI4TFljPSFpexuzBFjjJ8hUXjFw5+LZkaoP2+rzZGBlpgIoczFGCXO/CnOIIkkI+u5lF8nYtZIBIsPEIAABCAAAQhAAAIQgAAEdkngeHNE1u4oLTI6mBbB3CibHc5Akb9WozCWy6sCsttqjrhy3xTakqr0dmlzROpbZc0RCXzsdZjqzBG5eGwbjJJpQ2Gsnq2cs/2Z7suYOeKYZKbSVvpIHBCAAAQgAAEIQAACEIAABCDQQmABc8QYebXmm1/8JbRZmlGSHRNj5ANTNCxc+aje0ELYazFHZhojfeViZiwzc0QWgP3AtMxaCZ2buTdmjjTPlqi16cyAwqyU2hWbPT7GKQq63meZiXMxs2mifvMBAhCAAAQgAAEIQAACEIDA9RBYxhwZeGmjozc7PjBFU8GbFKGMNSE+N9+XuItB8pEtX6x30hxRxoSqp6/L/ktnt8jxdBvKZaFOxhDMlrPNHDHGyBoaUwl9n/hnsyqaDYWMzrYOyHoqkyaPM0aKa5Mwa2Rbg0o0EIAABCAAAQhAAAIQgAAEDiewoDlyeBBHX9lgTBzdxlQFW4ihj7HFwHBl5C+3yDY1TMRIkfMtf7llCtPpz4vBEdZNqfVDZoKE/tYXYpWyKbPT948WIQABCEAAAhCAAAQgAAEIQOBYApgjxxKU67dijkg8bCEAAQhAAAIQgAAEIAABCEAAAhBoIoA50oSpoRDmSAMkikAAAhCAAAQgAAEIQAACEIAABLZH4KLMkbCGSGW9k6X5O0Pk5O0u3Q/qgwAEIAABCEAAAhCAAAQgAAEIXDGByzBHrngA6ToEIAABCEAAAhCAAAQgAAEIQAACxxHAHDmOH1dDAAIQgAAEIAABCEAAAhCAAAQgsHMCmCM7H0DChwAEIAABCEAAAhCAAAQgAAEIQOA4Apgjx/HjaghAAAIQgAAEIAABCEAAAhCAAAR2TgBzZOcDSPgQgAAEIAABCEAAAhCAAAQgAAEIHEcAc+Q4flwNAQhAAAIQgAAEIAABCEAAAhCAwM4JYI7sfAAJHwIQgAAEIAABCEAAAhCAAAQgAIHjCGCOHMdvE1e/f3Fjuq4z3ZPn5n0U0Xvz/ElnuqevoqPX+sFz6u5Mkcj9neXYs/T/KmWNY+vLdebu/lrJ0m8IQAACEIAABCAAAQhAAAL7JoA5su/xG6IPSX+aoGOODICc6XHz4pU1i2rmSKYFMUBSg+SVuUvNKN9GbE9lVXIAAhCAAAQgAAEIQAACEIAABDZHAHNkc0MyPyBrjtyZu6fp7BHMEfPuubnxZkjN7Bhh7kwPPStEeKezT171/H1bI3VyCgIQgAAEIAABCEAAAhCAAAQ2RQBzZFPDcVgwPlkfEvkb8/yd1FMxR1zCH14d0dfItZe4PdQc0XwqTNVrNtpIuUSK9AkCEIAABCAAAQhAAAIQgMClEcAcuYAR9eaIJOh+jZE8kbezG3Syb4w9lr6ScwFgsi7MNUfc6zOepzF2Jkpnbl7o12dsubt7u43PZUFwAAIQgAAEIAABCEAAAhCAAAQ2RgBzZGMDckg4wRwxxu6L+ZGYI8MrJiUTxJXLFnQ9JJotX9NgjjhGflZNysSdDwaIGCN9vwtmypZxEBsEIAABCEAAAhCAAAQgAAEIDAQwRy5ACNociRP02ByJy8UdHzsXl9zzpwZzJOleNqsmMke0MdJfiDmS4OMjBCAAAQhAAAIQgAAEIACBXRDAHNnFMI0HmRob4XNsjowtGGqvkRkn4+3t9+x8c8TIq0oyg8SbI8+Hv1gTry9izZEwq2S/pIgcAhCAAAQgAAEIQAACEIDANRHAHLmA0Q5miOuMT+Ddn651a2Zk5VTfx4wTVWznu4eYI25NFjFHZHZIV3g9qfCXbXYOjPAhAAEIQAACEIAABCAAAQhcBQHMkQsY5pLpMZgdT+7M3ZPOdLKgaDV5j2eYXACSShcOMUfyV2VqRlLteCUYDkMAAhCAAAQgAAEIQAACEIDARghgjmxkII4Jo2SOyF9VGRYWFXNEXhHp4tdnbFIfHzsmnu1eO9ccqZXPDRNTNZ62S4PIIAABCEAAAhCAAAQgAAEIQMASwBy5ACUUzZF+edCnnYnNEdtZf7xz5/0rIxcAI+uCGByur9Jn2aq+Z1y69E/26sqdQSL1JIaTLsk+BCAAAQhAAAIQgAAEIAABCGybAObItseH6CAAAQhAAAIQgAAEIAABCEAAAhBYmQDmyMqAqR4CEIAABCAAAQhAAAIQgAAEIACBbRPAHNn2+BAdBCAAAQhAAAIQgAAEIAABCEAAAisTwBxZGTDVQwACEIAABCAAAQhAAAIQgAAEILBtApgj2x4fooMABCAAAQhAAAIQgAAEIAABCEBgZQKYIysDpnoIQAACEIAABCAAAQhAAAIQgAAEtk0Ac2Tb40N0EIAABCAAAQhAAAIQgAAEIAABCKxMAHNkZcBUDwEIQAACEIAABCAAAQhAAAIQgMC2CWCObHt8iA4CEIAABCAAAQhAAAIQgAAEIACBlQlgjqwMmOoh0BN4/+LGdF1nuifPzfulkbx7bm66zty8WLzm6Ujv74Z+3d1PF72KEo5H192ZV1fRYToJAQhAAAIQgAAEIACByyCAOXIB41hPvN+b50860z29vDTN9znt20aTUx/vlZgjtr835vm7C7jB5nRhUf25+7dRM6+edtaA6024KbPMx9kZjK05A0xZCEAAAhCAAAQgAIFLJYA5cgEj6xPvLk10rsAcSX6hDwniFf1yv8GZI1drjiz6PGk0R9z4t89KemXunIHSmyiYI4sOGpVBAAIQgAAEIAABCOyUAObITgdOh20T0Ttz1/9yHP3KfLnmyGCCPL0bkryQ3PVJ3425e9q/woI5ojWy2r6bgRDGwLaEObIE8RZzxBodc16psgbinXlVGbslIqcOCEAAAhCAAAQgAAEI7I0A5sjeRqwQr5gjNtnRrzKUzRFbXk/B19cYY4akqTcXwi/MffIbrkuNh1BuWFdj9NdoF1OXtFno19gha468sjHJqzV93P2+jz/UEGKXfhfaH66zx9PyUfLvfqkfjg3XSJ35uh9hJosrI7GG0MJeUlfV4JGZAurX/8nXKEIrx+1lMdp+DSwqcYkm9CwFy6UwBsaY9NzweTD9Ep0VWYq+6mOiAcg4zzEX9PWyL/X4vkYmpZRyfZvoS1ZXMs6RLobxSO/H0F6258ZPazfSdnYBByAAAQhAAAIQgAAEIHAdBDBHLmCcbTLVJ0ipGZJ+tgZHnAhKMqkSVZ8A22M2Ob0xNyqp83VIQqwTVXe9L6MZS/mpNRH0NYX9Iaa+zaE+mxz2x0LSF/rT84ljKfS5b8P3O56BM7SlzRzVB52oSlJbTjZdYq85qX6Vrs3a9Qu7hr4NVbh44j6qyhfatfEkibhOtlU7tj9JnOq8sM5jzjnZdpUJ09cjYxDxdNdqY6JYTgIRHcTjLWcP27o6dQyqorG+5CzG6+qrHeqrtKWadbsJ28rY5ddxBAIQgAAEIAABCEAAApdPAHPkAsbYJqI2aY2TUpdcRQlkocMugfRJvZgE7jqb0EmiGydYteSsdtyIgaPNhkJI44d0v+z+3X0fl0vch/gl3kpNaZ/7Ykm//ZVpEikJd5qUuuN5ktvXFHPzdQ879lx+XXK8Vn/teNzIcZ9SBlJb5XisQymst5XEf6gvHjurv3xtDK37vub0s7RWOx6uyWf8yLXzt5V+uYrKfaldUzsuUbnzT90MKj3DJNWmGClyj/RVVMZOamcLAQhAAAIQgAAEIACBayKAOXIBox0nfzoJD8nTaDfT5DpJmmxCJzMGdP1J8q4asTHFSa46feRu3C/blvqrPIUEO2sw7XNfIOl3do0cKF0r56pbzS0pVI03SY5r5Q6KJ4lh4mOsMVW4wqxl/PMySX9dM7H+0rZFY7EmVKn2cY0uOvRDuQ9SW7kvtWtqx6U2dz6bheW0NmWEVMZOamcLAQhAAAIQgAAEIACBayKAOXIBo50mruGzS56imSMhofLrI7hfnP3MhSRpihM6leS7pDytJ3yWxHVpyEm/XBzxzBfddkOf+xCTflejPsiMUNySiu14hTUyAj93zM0CyM0EV9FB8SRBTHyMNaAKV5hVY1WXZrNp0nF0ZdvaFkOgztHrI4ph6Q9Oa4WZG31L5b7Urqkdl5jd+ej+dueicamUi8pInWwhAAEIQAACEIAABCBwnQQwRy5g3IMZ4jrjk+VX5vkTNaNCXu3Qvyj3l/jy720FSdIUJ3Q6ybf73lQ5GcuJdqMkW5JmmfmSMnJ97g8n/a52J+VVLahPaG76uLSrzZzkvPtYNRwOiqfcRu1orAFVqsKsGqu6tN/V9WY6dmV1GX153EbFANAXnGR/3NAo96V2Te146MhQX8mI0Zpw+5nppl/DGV1EObTHHgQgAAEIQAACEIAABC6VAObIBYxsKam0SdOdudPmiE6YdL/T40nCGyd0OsmfTt50M3bfXXPUmiMzzJG0bxJQ6XjSbymabUvXZoXSA5pbcq61vkp8dnwq62a4urujeMt6HqmBI2NZWw8kLZ/0u//o4ru7t3WVjLZYf6EOq/HnRuytWrlwRb5n750Ku7x4w5Hxe6IcY+2a2vEQRuneH84OWpngX9FTqJ09CEAAAhCAAAQgAAEIXA8BzJELGOtiguSTYjVzRI7pX5pdgtT/quwT0yRpihO6JMmX60tT+0tsJQbdXqnc6LH55kg31ee+vaTf1RBcHzyvakF9IuGmT/kZFLnJEBfLk+VhbJ7embsaTxmffpZA6xjFjbpPafw2lpund+amNOtAxnmyTdenYRZDMrtHWn7avyoTnxNTI3pVRtrUY13sixxUbTdfI9fWtvkY6ZLxvSRn6tcU+ymXDdt0XPqDpWPRRfZDq94Ll3IIAhCAAAQgAAEIQAACl0YAc+QCRrRojqiEO0qKdbLcJ6RDUmiTKZ/sJ0lTnNCVEi93LJmmH7XrOUtCOvGrti9f2kniTYuk5kVLn/s6kn6n1frPaf3+RLpT4eI4ed5yWRqnKxcZAJL4RnWM8RDex5ojYZaHvJ4xxOVYxDG6DolZoXRRLCf9rhgpVn/pWiKxWSIIw19DSspXzA8xH7KxCBU27CnGqq/CSd8H8b0kVdfNkb6ExOjrS4wib4aotpv606p3CZMtBCAAAQhAAAIQgAAELpgA5sgFDy5dg0BPQJLrpoT5HMgmkvSyoXCOQGkTAhCAAAQgAAEIQAACELhUApgjlzqy9AsCAwE3e6Uyc+L8kMZnTfTxYY6cf5SIAAIQgAAEIAABCEAAApdOAHPk0keY/l0pgfBKz2ZnjHjjY/wVK8yRK5Uw3YYABCAAAQhAAAIQgMAJCWCOnBA2TUEAAj2BYNykC62W+GCOlKhwDAIQgAAEIAABCEAAAhBYkgDmyJI0qQsCEIAABCAAAQhAAAIQgAAEIACB3RHAHNndkBEwBCAAAQhAAAIQgAAEIAABCEAAAksSwBxZkiZ1QQACEIAABCAAAQhAAAIQgAAEILA7ApgjuxsyAoYABCAAAQhAAAIQgAAEIAABCEBgSQKYI0vSpC4IQAACEIAABCAAAQhAAAIQgAAEdkcAc2R3Q0bAEIAABCAAAQhAAAIQgAAEIAABCCxJAHNkSZrUBQEIQAACEIAABCAAAQhAAAIQgMDuCGCO7G7ICBgCEIAABCAAAQhAAAIQgAAEIACBJQlgjixJk7ogAAEIQAACEIAABCAAAQhAAAIQ2B0BzJHdDRkBQwACEIAABCAAAQhAAAIQgAAEILAkAcyRJWlSFwQgAAEIQAACEIAABCAAAQhAAAK7I4A5srshI2AIQAACEIAABCAAAQhAAAIQgAAEliSAObIkTeqCAAQgAAEIQAACEIAABCAAAQhAYHcE/j+U9JEHBOzeUAAAAABJRU5ErkJggg==)"
      ]
    },
    {
      "cell_type": "markdown",
      "metadata": {
        "id": "2vuRE-JlJL0q"
      },
      "source": [
        "![image.png](data:image/png;base64,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)"
      ]
    }
  ]
}